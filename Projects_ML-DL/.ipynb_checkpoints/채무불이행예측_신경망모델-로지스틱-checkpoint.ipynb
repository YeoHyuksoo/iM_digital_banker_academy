{
 "cells": [
  {
   "cell_type": "code",
   "execution_count": 1,
   "id": "238307e5-c48d-4261-980f-885c88c681bf",
   "metadata": {},
   "outputs": [],
   "source": [
    "import matplotlib.pyplot as plt\n",
    "plt.rcParams['font.family'] = 'Malgun Gothic'  # 윈도우의 한글 폰트\n",
    "plt.rcParams['axes.unicode_minus'] = False       # 마이너스 기호 깨짐 방지\n",
    "\n",
    "import warnings\n",
    "warnings.filterwarnings('ignore')"
   ]
  },
  {
   "cell_type": "code",
   "execution_count": 2,
   "id": "6c3204fe-2885-48c1-ab5b-99562b65cc62",
   "metadata": {},
   "outputs": [],
   "source": [
    "# 데이터 처리\n",
    "import pandas as pd\n",
    "import numpy as np\n",
    "\n",
    "train_df = pd.read_csv(\"/data/train.csv\")\n",
    "test_df = pd.read_csv(\"/data/test.csv\")\n",
    "\n",
    "# 새로운 조합 변수 추가\n",
    "for df in [train_df, test_df]:\n",
    "    df['신용한도_대비_미상환율'] = df['현재 미상환 신용액'] / (df['최대 신용한도'] + 1)\n",
    "    df['연체_빈도율'] = df['신용 문제 발생 횟수'] / (df['신용 거래 연수'] + 1)\n",
    "    df['소득_대비_월_부채'] = df['월 상환 부채액'] / (df['연간 소득'] / 12 + 1)\n",
    "    df['부채비율'] = df['현재 대출 잔액'] / (df['연간 소득'] + 1)\n",
    "    df['개인파산_영향력'] = df['개인 파산 횟수'] * df['신용 문제 발생 횟수']\n",
    "\n",
    "\n",
    "# \"UID\" 컬럼 유지 (제출 파일용)\n",
    "test_uid = test_df[\"UID\"]\n",
    "\n",
    "# \"UID\" 컬럼 삭제\n",
    "train_df.drop(columns=[\"UID\"], inplace=True)\n",
    "test_df.drop(columns=[\"UID\"], inplace=True)\n",
    "\n",
    "# X, y 분리\n",
    "X = train_df.drop(columns=[\"채무 불이행 여부\"])\n",
    "y = train_df[\"채무 불이행 여부\"]"
   ]
  },
  {
   "cell_type": "code",
   "execution_count": 3,
   "id": "f0154b5a-9277-411f-b25a-b76ba983ec0c",
   "metadata": {},
   "outputs": [],
   "source": [
    "# def convert_years(val):\n",
    "#     if val == '1년 미만':\n",
    "#         return 0\n",
    "#     elif val == '10년 이상':\n",
    "#         return 10\n",
    "#     else:\n",
    "#         # '4년', '6년' 등에서 '년'을 제거하고 정수형으로 변환\n",
    "#         return int(val.replace('년', ''))\n",
    "\n",
    "# # train, test 데이터에 대해 변환 적용\n",
    "# X['현재 직장 근속 연수'] = X['현재 직장 근속 연수'].apply(convert_years)\n",
    "# test_df['현재 직장 근속 연수'] = test_df['현재 직장 근속 연수'].apply(convert_years)\n",
    "\n",
    "# # 변환 결과 확인\n",
    "# print(X['현재 직장 근속 연수'].unique())\n",
    "\n",
    "\n",
    "# 현재 직장 근속 연수를 이진 변수로 변환 (1년 미만: 1, 1년 이상: 0)\n",
    "X['근속연수_1년미만'] = (X['현재 직장 근속 연수'] == '1년 미만').astype(int)\n",
    "test_df['근속연수_1년미만'] = (test_df['현재 직장 근속 연수'] == '1년 미만').astype(int)\n",
    "\n",
    "# 기존 변수 제거\n",
    "X.drop(columns=['현재 직장 근속 연수'], inplace=True)\n",
    "test_df.drop(columns=['현재 직장 근속 연수'], inplace=True)\n"
   ]
  },
  {
   "cell_type": "code",
   "execution_count": 4,
   "id": "c19f7533-ed73-4528-a368-7d31296e11ce",
   "metadata": {},
   "outputs": [],
   "source": [
    "# 원-핫 인코딩 적용\n",
    "X = pd.get_dummies(X, columns=[\"주거 형태\", \"대출 목적\", \"대출 상환 기간\"], drop_first=True)\n",
    "test_df = pd.get_dummies(test_df, columns=[\"주거 형태\", \"대출 목적\", \"대출 상환 기간\"], drop_first=True)"
   ]
  },
  {
   "cell_type": "code",
   "execution_count": 5,
   "id": "bc79d31c-4102-4cbb-bcd8-f588f27c8d29",
   "metadata": {},
   "outputs": [],
   "source": [
    "# from sklearn.model_selection import KFold\n",
    "\n",
    "# # 타깃 인코딩을 적용할 범주형 변수 목록\n",
    "# target_encoding_cols = ['주거 형태', '대출 목적', '대출 상환 기간']\n",
    "\n",
    "# kf = KFold(n_splits=5, shuffle=True, random_state=31)\n",
    "\n",
    "# for col in target_encoding_cols:\n",
    "#     target_mean_map = {}\n",
    "\n",
    "#     for train_idx, val_idx in kf.split(X):\n",
    "#         train_fold, val_fold = X.iloc[train_idx], X.iloc[val_idx]\n",
    "#         y_train_fold = y.iloc[train_idx]  # 🔹 y도 동일한 인덱싱으로 분할\n",
    "\n",
    "#         # 🔹 타깃 평균 계산 (X_train과 y를 합쳐서 groupby)\n",
    "#         train_fold = train_fold.copy()\n",
    "#         train_fold['y'] = y_train_fold  # 🔥 여기서 y 값을 추가!\n",
    "\n",
    "#         mean_encoding = train_fold.groupby(col)['y'].mean().to_dict()\n",
    "#         target_mean_map.update(mean_encoding)\n",
    "\n",
    "#     # 새로운 타깃 인코딩 컬럼 추가\n",
    "#     X[col + '_타깃인코딩'] = X[col].map(target_mean_map)\n",
    "#     test_df[col + '_타깃인코딩'] = test_df[col].map(target_mean_map)\n",
    "\n",
    "# # 원본 범주형 컬럼 삭제\n",
    "# X.drop(columns=target_encoding_cols, inplace=True)\n",
    "# test_df.drop(columns=target_encoding_cols, inplace=True)\n",
    "\n",
    "# print(\"✅ 타깃 인코딩 적용 완료!\")\n"
   ]
  },
  {
   "cell_type": "code",
   "execution_count": 6,
   "id": "f02c509e-e9a8-4687-87d4-56c79971c24c",
   "metadata": {},
   "outputs": [],
   "source": [
    "# # 중요도가 낮은 \"대출 목적\" 컬럼들 제거\n",
    "# drop_loan_purpose_cols = [\n",
    "#     '대출 목적_사업 대출', '대출 목적_여행 자금', \n",
    "#     '대출 목적_주택 개보수', '대출 목적_주택 구매'\n",
    "# ]\n",
    "\n",
    "# # 변수 삭제\n",
    "# X.drop(columns=drop_loan_purpose_cols, inplace=True)\n",
    "# test_df.drop(columns=drop_loan_purpose_cols, inplace=True)\n"
   ]
  },
  {
   "cell_type": "code",
   "execution_count": 7,
   "id": "03d3b58f-3873-4e68-a69c-14e531586a20",
   "metadata": {},
   "outputs": [],
   "source": [
    "# 로그 변환\n",
    "log_columns = [\"현재 미상환 신용액\", \"월 상환 부채액\", \"현재 대출 잔액\", \"연간 소득\",\n",
    "               '신용한도_대비_미상환율', '소득_대비_월_부채', '부채비율'] # 최대 신용한도 컬럼도 추가 가능\n",
    "for col in log_columns:\n",
    "    X[col] = np.log1p(X[col])\n",
    "    test_df[col] = np.log1p(test_df[col])\n",
    "\n",
    "# \"마지막 연체 이후 경과 개월 수\"가 0이면 \"연체 없음\" 컬럼 추가\n",
    "# X[\"연체 없음\"] = (X[\"마지막 연체 이후 경과 개월 수\"] == 0).astype(int)\n",
    "# test_df[\"연체 없음\"] = (test_df[\"마지막 연체 이후 경과 개월 수\"] == 0).astype(int)"
   ]
  },
  {
   "cell_type": "code",
   "execution_count": 8,
   "id": "0a3e5160-25e9-423d-b958-4bd99239846e",
   "metadata": {},
   "outputs": [
    {
     "name": "stdout",
     "output_type": "stream",
     "text": [
      "(10000, 31)\n",
      "(2062, 31)\n"
     ]
    }
   ],
   "source": [
    "from sklearn.impute import SimpleImputer\n",
    "\n",
    "imputer = SimpleImputer(strategy=\"median\")\n",
    "X_imputed = imputer.fit_transform(X)\n",
    "test_imputed = imputer.transform(test_df)\n",
    "print(X_imputed.shape)\n",
    "print(test_imputed.shape)"
   ]
  },
  {
   "cell_type": "code",
   "execution_count": 9,
   "id": "8a0abac1-5819-48e9-a444-0f0606d8552f",
   "metadata": {},
   "outputs": [],
   "source": [
    "# from sklearn.preprocessing import StandardScaler\n",
    "\n",
    "# scaler = StandardScaler()\n",
    "# X_scaled = scaler.fit_transform(X_imputed)\n",
    "# test_scaled = scaler.transform(test_imputed)"
   ]
  },
  {
   "cell_type": "code",
   "execution_count": 10,
   "id": "2a413b19-5a16-4017-8407-08c1aeae04ee",
   "metadata": {},
   "outputs": [],
   "source": [
    "# from imblearn.over_sampling import SMOTE\n",
    "\n",
    "# smote = SMOTE(random_state=42)\n",
    "# X_resampled, y_resampled = smote.fit_resample(X_scaled, y)"
   ]
  },
  {
   "cell_type": "code",
   "execution_count": 11,
   "id": "98911bed-6802-446b-9acd-ce07a3aca033",
   "metadata": {},
   "outputs": [],
   "source": [
    "from sklearn.linear_model import LogisticRegression\n",
    "from sklearn.preprocessing import StandardScaler\n",
    "from sklearn.pipeline import Pipeline\n",
    "\n",
    "# 스케일링 + 로지스틱 회귀 파이프라인\n",
    "log_reg = Pipeline([\n",
    "    ('scaler', StandardScaler()),  # 표준화\n",
    "    ('classifier', LogisticRegression(class_weight='balanced', random_state=42))\n",
    "])"
   ]
  },
  {
   "cell_type": "code",
   "execution_count": 12,
   "id": "e0bce755-238c-420b-aee3-2058b6389432",
   "metadata": {},
   "outputs": [
    {
     "name": "stdout",
     "output_type": "stream",
     "text": [
      "Fitting 5 folds for each of 1 candidates, totalling 5 fits\n",
      "최적의 하이퍼파라미터: {'classifier__C': 1}\n",
      "Best CV ROC-AUC: 0.7194168866683414\n"
     ]
    }
   ],
   "source": [
    "from sklearn.model_selection import GridSearchCV\n",
    "from sklearn.linear_model import LogisticRegression\n",
    "\n",
    "# 하이퍼파라미터 후보\n",
    "param_grid = {\n",
    "    'classifier__C': [1]  # 규제 강도 (낮을수록 강한 규제)\n",
    "}\n",
    "\n",
    "# 그리드 서치 적용\n",
    "grid_search = GridSearchCV(log_reg, param_grid, scoring='roc_auc', cv=5, verbose=1)\n",
    "grid_search.fit(X_imputed, y)\n",
    "\n",
    "# 최적 모델 선택\n",
    "best_model = grid_search.best_estimator_\n",
    "print(\"최적의 하이퍼파라미터:\", grid_search.best_params_)\n",
    "print(\"Best CV ROC-AUC:\", grid_search.best_score_)"
   ]
  },
  {
   "cell_type": "code",
   "execution_count": 13,
   "id": "82ce842f-0b94-419a-a4c1-adadaeb028d1",
   "metadata": {},
   "outputs": [
    {
     "name": "stdout",
     "output_type": "stream",
     "text": [
      "✅ 'submission.csv' 파일이 '/data' 경로에 저장되었습니다.\n"
     ]
    }
   ],
   "source": [
    "# 로지스틱 회귀를 사용해 테스트 데이터 예측\n",
    "test_pred = grid_search.predict_proba(test_df)[:, 1]  # 양성 클래스(채무 불이행)의 확률\n",
    "\n",
    "# 제출 파일 생성\n",
    "submission = pd.DataFrame({\n",
    "    'UID': test_uid,\n",
    "    '채무 불이행 확률': test_pred\n",
    "})\n",
    "\n",
    "# CSV 파일 저장\n",
    "submission.to_csv('/data/submission.csv', index=False)\n",
    "print(\"✅ 'submission.csv' 파일이 '/data' 경로에 저장되었습니다.\")"
   ]
  },
  {
   "cell_type": "code",
   "execution_count": 14,
   "id": "13f91335-7e56-4a9c-8758-2cc8864be200",
   "metadata": {},
   "outputs": [
    {
     "data": {
      "text/html": [
       "<div>\n",
       "<style scoped>\n",
       "    .dataframe tbody tr th:only-of-type {\n",
       "        vertical-align: middle;\n",
       "    }\n",
       "\n",
       "    .dataframe tbody tr th {\n",
       "        vertical-align: top;\n",
       "    }\n",
       "\n",
       "    .dataframe thead th {\n",
       "        text-align: right;\n",
       "    }\n",
       "</style>\n",
       "<table border=\"1\" class=\"dataframe\">\n",
       "  <thead>\n",
       "    <tr style=\"text-align: right;\">\n",
       "      <th></th>\n",
       "      <th>UID</th>\n",
       "      <th>채무 불이행 확률</th>\n",
       "    </tr>\n",
       "  </thead>\n",
       "  <tbody>\n",
       "    <tr>\n",
       "      <th>0</th>\n",
       "      <td>TEST_0000</td>\n",
       "      <td>0.432889</td>\n",
       "    </tr>\n",
       "    <tr>\n",
       "      <th>1</th>\n",
       "      <td>TEST_0001</td>\n",
       "      <td>0.450338</td>\n",
       "    </tr>\n",
       "    <tr>\n",
       "      <th>2</th>\n",
       "      <td>TEST_0002</td>\n",
       "      <td>0.474101</td>\n",
       "    </tr>\n",
       "    <tr>\n",
       "      <th>3</th>\n",
       "      <td>TEST_0003</td>\n",
       "      <td>0.247594</td>\n",
       "    </tr>\n",
       "    <tr>\n",
       "      <th>5</th>\n",
       "      <td>TEST_0005</td>\n",
       "      <td>0.407712</td>\n",
       "    </tr>\n",
       "    <tr>\n",
       "      <th>...</th>\n",
       "      <td>...</td>\n",
       "      <td>...</td>\n",
       "    </tr>\n",
       "    <tr>\n",
       "      <th>2055</th>\n",
       "      <td>TEST_2055</td>\n",
       "      <td>0.376038</td>\n",
       "    </tr>\n",
       "    <tr>\n",
       "      <th>2056</th>\n",
       "      <td>TEST_2056</td>\n",
       "      <td>0.477050</td>\n",
       "    </tr>\n",
       "    <tr>\n",
       "      <th>2057</th>\n",
       "      <td>TEST_2057</td>\n",
       "      <td>0.314490</td>\n",
       "    </tr>\n",
       "    <tr>\n",
       "      <th>2058</th>\n",
       "      <td>TEST_2058</td>\n",
       "      <td>0.379316</td>\n",
       "    </tr>\n",
       "    <tr>\n",
       "      <th>2060</th>\n",
       "      <td>TEST_2060</td>\n",
       "      <td>0.439382</td>\n",
       "    </tr>\n",
       "  </tbody>\n",
       "</table>\n",
       "<p>1285 rows × 2 columns</p>\n",
       "</div>"
      ],
      "text/plain": [
       "            UID  채무 불이행 확률\n",
       "0     TEST_0000   0.432889\n",
       "1     TEST_0001   0.450338\n",
       "2     TEST_0002   0.474101\n",
       "3     TEST_0003   0.247594\n",
       "5     TEST_0005   0.407712\n",
       "...         ...        ...\n",
       "2055  TEST_2055   0.376038\n",
       "2056  TEST_2056   0.477050\n",
       "2057  TEST_2057   0.314490\n",
       "2058  TEST_2058   0.379316\n",
       "2060  TEST_2060   0.439382\n",
       "\n",
       "[1285 rows x 2 columns]"
      ]
     },
     "execution_count": 14,
     "metadata": {},
     "output_type": "execute_result"
    }
   ],
   "source": [
    "submission[submission['채무 불이행 확률'] < 0.5]"
   ]
  },
  {
   "cell_type": "code",
   "execution_count": 15,
   "id": "27c4dae6-f606-473d-96ce-17fa307267f4",
   "metadata": {},
   "outputs": [
    {
     "data": {
      "image/png": "[encoded data removed]",
      "text/plain": [
       "<Figure size 1000x600 with 1 Axes>"
      ]
     },
     "metadata": {},
     "output_type": "display_data"
    },
    {
     "name": "stdout",
     "output_type": "stream",
     "text": [
      "                   Feature  Importance\n",
      "0                    연간 소득   -0.483407\n",
      "2               개설된 신용계좌 수    0.409775\n",
      "24             대출 목적_부채 통합    0.370401\n",
      "7                 개인 파산 횟수    0.326270\n",
      "30          대출 상환 기간_장기 상환    0.288121\n",
      "5              신용 문제 발생 횟수    0.279143\n",
      "25         대출 목적_소규모 사업 자금   -0.274497\n",
      "16                개인파산_영향력   -0.205169\n",
      "3                 신용 거래 연수   -0.187002\n",
      "11                   신용 점수   -0.159217\n",
      "8                 현재 대출 잔액    0.148108\n",
      "15                    부채비율   -0.119930\n",
      "20  주거 형태_주택 담보 대출 (비거주 중)   -0.118049\n",
      "19   주거 형태_주택 담보 대출 (거주 중)   -0.112447\n",
      "27             대출 목적_이사 비용   -0.110707\n",
      "21             대출 목적_고액 구매   -0.093829\n",
      "18                주거 형태_자가   -0.091888\n",
      "22               대출 목적_교육비   -0.080874\n",
      "10                월 상환 부채액    0.078527\n",
      "12            신용한도_대비_미상환율   -0.076466\n",
      "9               현재 미상환 신용액    0.072386\n",
      "6        마지막 연체 이후 경과 개월 수   -0.060892\n",
      "4                  최대 신용한도   -0.051308\n",
      "23                대출 목적_기타    0.050191\n",
      "13                  연체_빈도율   -0.047129\n",
      "1              체납 세금 압류 횟수   -0.040070\n",
      "26               대출 목적_의료비   -0.032836\n",
      "28            대출 목적_자동차 구매   -0.030794\n",
      "14              소득_대비_월_부채   -0.018519\n",
      "29             대출 목적_휴가 비용    0.016578\n",
      "17               근속연수_1년미만    0.010681\n"
     ]
    }
   ],
   "source": [
    "import numpy as np\n",
    "import pandas as pd\n",
    "import matplotlib.pyplot as plt\n",
    "\n",
    "feature_cols = X.columns\n",
    "\n",
    "# 최적 모델 가져오기\n",
    "best_model = grid_search.best_estimator_\n",
    "\n",
    "# 변수 중요도 추출\n",
    "feature_importance = best_model.named_steps['classifier'].coef_[0]\n",
    "\n",
    "# 데이터프레임으로 정리\n",
    "importance_df = pd.DataFrame({'Feature': feature_cols, 'Importance': feature_importance})\n",
    "\n",
    "# 중요도 절댓값 기준 정렬\n",
    "importance_df['Abs_Importance'] = np.abs(importance_df['Importance'])\n",
    "importance_df = importance_df.sort_values(by='Abs_Importance', ascending=False)\n",
    "\n",
    "# 시각화\n",
    "plt.figure(figsize=(10, 6))\n",
    "plt.barh(importance_df['Feature'], importance_df['Abs_Importance'], color='skyblue')\n",
    "plt.xlabel(\"Absolute Importance\")\n",
    "plt.ylabel(\"Features\")\n",
    "plt.title(\"Feature Importance in Logistic Regression (GridSearchCV)\")\n",
    "plt.gca().invert_yaxis()\n",
    "plt.show()\n",
    "\n",
    "# 중요도 출력\n",
    "print(importance_df[['Feature', 'Importance']])\n"
   ]
  },
  {
   "cell_type": "code",
   "execution_count": null,
   "id": "db953ed9-fc8a-484b-aebb-97bee5124174",
   "metadata": {},
   "outputs": [],
   "source": []
  }
 ],
 "metadata": {
  "kernelspec": {
   "display_name": "Python 3 (ipykernel)",
   "language": "python",
   "name": "python3"
  },
  "language_info": {
   "codemirror_mode": {
    "name": "ipython",
    "version": 3
   },
   "file_extension": ".py",
   "mimetype": "text/x-python",
   "name": "python",
   "nbconvert_exporter": "python",
   "pygments_lexer": "ipython3",
   "version": "3.10.11"
  }
 },
 "nbformat": 4,
 "nbformat_minor": 5
}
