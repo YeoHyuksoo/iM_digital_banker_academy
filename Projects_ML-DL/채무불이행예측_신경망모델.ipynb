{
 "cells": [
  {
   "cell_type": "code",
   "execution_count": 1,
   "id": "238307e5-c48d-4261-980f-885c88c681bf",
   "metadata": {},
   "outputs": [],
   "source": [
    "import matplotlib.pyplot as plt\n",
    "plt.rcParams['font.family'] = 'Malgun Gothic'  # 윈도우의 한글 폰트\n",
    "plt.rcParams['axes.unicode_minus'] = False       # 마이너스 기호 깨짐 방지\n",
    "\n",
    "import warnings\n",
    "warnings.filterwarnings('ignore')"
   ]
  },
  {
   "cell_type": "code",
   "execution_count": 2,
   "id": "6c3204fe-2885-48c1-ab5b-99562b65cc62",
   "metadata": {},
   "outputs": [],
   "source": [
    "# 데이터 처리\n",
    "import pandas as pd\n",
    "import numpy as np\n",
    "\n",
    "train_df = pd.read_csv(\"/data/train.csv\")\n",
    "test_df = pd.read_csv(\"/data/test.csv\")\n",
    "\n",
    "# \"UID\" 컬럼 유지 (제출 파일용)\n",
    "test_uid = test_df[[\"UID\"]]\n",
    "\n",
    "# \"UID\" 컬럼 삭제\n",
    "train_df.drop(columns=[\"UID\"], inplace=True)\n",
    "test_df.drop(columns=[\"UID\"], inplace=True)\n",
    "\n",
    "# X, y 분리\n",
    "X = train_df.drop(columns=[\"채무 불이행 여부\"])\n",
    "y = train_df[\"채무 불이행 여부\"]"
   ]
  },
  {
   "cell_type": "code",
   "execution_count": 3,
   "id": "f0154b5a-9277-411f-b25a-b76ba983ec0c",
   "metadata": {},
   "outputs": [
    {
     "name": "stdout",
     "output_type": "stream",
     "text": [
      "[10  4  6  2  8  3  5  9  7  0  1]\n"
     ]
    }
   ],
   "source": [
    "def convert_years(val):\n",
    "    if val == '1년 미만':\n",
    "        return 0\n",
    "    elif val == '10년 이상':\n",
    "        return 10\n",
    "    else:\n",
    "        # '4년', '6년' 등에서 '년'을 제거하고 정수형으로 변환\n",
    "        return int(val.replace('년', ''))\n",
    "\n",
    "# train, test 데이터에 대해 변환 적용\n",
    "X['현재 직장 근속 연수'] = X['현재 직장 근속 연수'].apply(convert_years)\n",
    "test_df['현재 직장 근속 연수'] = test_df['현재 직장 근속 연수'].apply(convert_years)\n",
    "\n",
    "# 변환 결과 확인\n",
    "print(X['현재 직장 근속 연수'].unique())\n"
   ]
  },
  {
   "cell_type": "code",
   "execution_count": 4,
   "id": "c19f7533-ed73-4528-a368-7d31296e11ce",
   "metadata": {},
   "outputs": [],
   "source": [
    "# 원-핫 인코딩 적용\n",
    "X = pd.get_dummies(X, columns=[\"주거 형태\", \"대출 목적\", \"대출 상환 기간\"], drop_first=True)\n",
    "test_df = pd.get_dummies(test_df, columns=[\"주거 형태\", \"대출 목적\", \"대출 상환 기간\"], drop_first=True)"
   ]
  },
  {
   "cell_type": "code",
   "execution_count": 5,
   "id": "03d3b58f-3873-4e68-a69c-14e531586a20",
   "metadata": {},
   "outputs": [],
   "source": [
    "# 로그 변환\n",
    "log_columns = [\"현재 미상환 신용액\", \"월 상환 부채액\", \"현재 대출 잔액\", \"연간 소득\"] # 최대 신용한도 컬럼도 추가 가능\n",
    "for col in log_columns:\n",
    "    X[col] = np.log1p(X[col])\n",
    "    test_df[col] = np.log1p(test_df[col])\n",
    "\n",
    "# \"마지막 연체 이후 경과 개월 수\"가 0이면 \"연체 없음\" 컬럼 추가\n",
    "X[\"연체 없음\"] = (X[\"마지막 연체 이후 경과 개월 수\"] == 0).astype(int)\n",
    "test_df[\"연체 없음\"] = (test_df[\"마지막 연체 이후 경과 개월 수\"] == 0).astype(int)"
   ]
  },
  {
   "cell_type": "code",
   "execution_count": 6,
   "id": "0a3e5160-25e9-423d-b958-4bd99239846e",
   "metadata": {},
   "outputs": [
    {
     "name": "stdout",
     "output_type": "stream",
     "text": [
      "(10000, 31)\n",
      "(10000, 31)\n",
      "(2062, 31)\n",
      "(2062, 31)\n"
     ]
    }
   ],
   "source": [
    "from sklearn.impute import SimpleImputer\n",
    "\n",
    "imputer = SimpleImputer(strategy=\"median\")\n",
    "X_imputed = imputer.fit_transform(X)\n",
    "test_imputed = imputer.transform(test_df)\n",
    "print(X.shape)\n",
    "print(X_imputed.shape)\n",
    "print(test_df.shape)\n",
    "print(test_imputed.shape)"
   ]
  },
  {
   "cell_type": "code",
   "execution_count": 7,
   "id": "8a0abac1-5819-48e9-a444-0f0606d8552f",
   "metadata": {},
   "outputs": [],
   "source": [
    "# from sklearn.preprocessing import StandardScaler\n",
    "\n",
    "# scaler = StandardScaler()\n",
    "# X_scaled = scaler.fit_transform(X_imputed)\n",
    "# test_scaled = scaler.transform(test_imputed)"
   ]
  },
  {
   "cell_type": "code",
   "execution_count": 8,
   "id": "2a413b19-5a16-4017-8407-08c1aeae04ee",
   "metadata": {},
   "outputs": [],
   "source": [
    "# from imblearn.over_sampling import SMOTE\n",
    "\n",
    "# smote = SMOTE(random_state=42)\n",
    "# X_resampled, y_resampled = smote.fit_resample(X_scaled, y)"
   ]
  },
  {
   "cell_type": "code",
   "execution_count": 9,
   "id": "98911bed-6802-446b-9acd-ce07a3aca033",
   "metadata": {},
   "outputs": [
    {
     "name": "stdout",
     "output_type": "stream",
     "text": [
      "(2062,)\n",
      "✅ 'submission.csv' 파일이 '/data' 경로에 저장되었습니다.\n"
     ]
    }
   ],
   "source": [
    "from sklearn.linear_model import LogisticRegression\n",
    "from sklearn.preprocessing import StandardScaler\n",
    "from sklearn.pipeline import Pipeline\n",
    "\n",
    "# 스케일링 + 로지스틱 회귀 파이프라인\n",
    "log_reg = Pipeline([\n",
    "    ('scaler', StandardScaler()),  # 표준화\n",
    "    ('classifier', LogisticRegression(class_weight='balanced', random_state=42))\n",
    "])\n",
    "\n",
    "# 모델 학습\n",
    "log_reg.fit(X_imputed, y)\n",
    "\n",
    "# 로지스틱 회귀를 사용해 테스트 데이터 예측\n",
    "test_pred = log_reg.predict_proba(test_df)[:, 1]  # 양성 클래스(채무 불이행)의 확률\n",
    "print(test_pred.shape)\n",
    "# 제출 파일 생성\n",
    "submission = pd.DataFrame({\n",
    "    'UID': test_uid.ravel(),\n",
    "    '채무 불이행 확률': test_pred\n",
    "})\n",
    "\n",
    "# CSV 파일 저장\n",
    "submission.to_csv('/data/submission.csv', index=False)\n",
    "print(\"✅ 'submission.csv' 파일이 '/data' 경로에 저장되었습니다.\")\n"
   ]
  },
  {
   "cell_type": "code",
   "execution_count": null,
   "id": "e0bce755-238c-420b-aee3-2058b6389432",
   "metadata": {},
   "outputs": [],
   "source": []
  }
 ],
 "metadata": {
  "kernelspec": {
   "display_name": "Python 3 (ipykernel)",
   "language": "python",
   "name": "python3"
  },
  "language_info": {
   "codemirror_mode": {
    "name": "ipython",
    "version": 3
   },
   "file_extension": ".py",
   "mimetype": "text/x-python",
   "name": "python",
   "nbconvert_exporter": "python",
   "pygments_lexer": "ipython3",
   "version": "3.10.11"
  }
 },
 "nbformat": 4,
 "nbformat_minor": 5
}
