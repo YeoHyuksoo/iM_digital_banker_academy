{
 "cells": [
  {
   "cell_type": "code",
   "execution_count": 4,
   "id": "77aeb71a-5097-47d4-afb0-6582653ef1e5",
   "metadata": {},
   "outputs": [
    {
     "ename": "NameError",
     "evalue": "name 'driver' is not defined",
     "output_type": "error",
     "traceback": [
      "\u001b[1;31m---------------------------------------------------------------------------\u001b[0m",
      "\u001b[1;31mNameError\u001b[0m                                 Traceback (most recent call last)",
      "Cell \u001b[1;32mIn[4], line 12\u001b[0m\n\u001b[0;32m      9\u001b[0m response \u001b[38;5;241m=\u001b[39m requests\u001b[38;5;241m.\u001b[39mget(url)\n\u001b[0;32m     10\u001b[0m soup \u001b[38;5;241m=\u001b[39m BeautifulSoup(response\u001b[38;5;241m.\u001b[39mtext, \u001b[38;5;124m'\u001b[39m\u001b[38;5;124mhtml.parser\u001b[39m\u001b[38;5;124m'\u001b[39m)\n\u001b[1;32m---> 12\u001b[0m \u001b[43mdriver\u001b[49m\u001b[38;5;241m.\u001b[39mget(url)\n\u001b[0;32m     13\u001b[0m \u001b[38;5;66;03m# # 이미지 URL 찾기 (class가 ExpandableImage__ImageWrapper-sc-hg8nrj-0 etbyvL인 img 엘리먼트)\u001b[39;00m\n\u001b[0;32m     14\u001b[0m \u001b[38;5;66;03m# img_tag = soup.find('img', class_='max-w-full w-full absolute m-auto inset-0 h-full z-0 visible object-contain ExpandableImage__Image-sc-hg8nrj-1 cPuyYn')\u001b[39;00m\n\u001b[0;32m     15\u001b[0m \u001b[38;5;66;03m# img_url = img_tag['src'] if img_tag else None\u001b[39;00m\n\u001b[1;32m   (...)\u001b[0m\n\u001b[0;32m     28\u001b[0m \n\u001b[0;32m     29\u001b[0m \u001b[38;5;66;03m# 이미지 요소 찾기 (img 태그를 찾을 때)\u001b[39;00m\n\u001b[0;32m     30\u001b[0m img_element \u001b[38;5;241m=\u001b[39m driver\u001b[38;5;241m.\u001b[39mfind_element_by_class_name(\u001b[38;5;124m'\u001b[39m\u001b[38;5;124mExpandableImage__Image-sc-hg8nrj-1\u001b[39m\u001b[38;5;124m'\u001b[39m)\n",
      "\u001b[1;31mNameError\u001b[0m: name 'driver' is not defined"
     ]
    }
   ],
   "source": [
    "import requests\n",
    "from bs4 import BeautifulSoup\n",
    "import os\n",
    "\n",
    "# 제품 URL\n",
    "url = 'https://www.musinsa.com/review/goods/2246668'\n",
    "\n",
    "# 요청 보내기\n",
    "response = requests.get(url)\n",
    "soup = BeautifulSoup(response.text, 'html.parser')\n",
    "\n",
    "driver.get(url)\n",
    "# # 이미지 URL 찾기 (class가 ExpandableImage__ImageWrapper-sc-hg8nrj-0 etbyvL인 img 엘리먼트)\n",
    "# img_tag = soup.find('img', class_='max-w-full w-full absolute m-auto inset-0 h-full z-0 visible object-contain ExpandableImage__Image-sc-hg8nrj-1 cPuyYn')\n",
    "# img_url = img_tag['src'] if img_tag else None\n",
    "\n",
    "# print(img_tag)\n",
    "# if img_url:\n",
    "#     # 이미지 다운로드\n",
    "#     img_data = requests.get(img_url).content\n",
    "#     img_name = os.path.basename(img_url)\n",
    "    \n",
    "#     with open(img_name, 'wb') as f:\n",
    "#         f.write(img_data)\n",
    "#     print(f\"이미지가 다운로드되었습니다: {img_name}\")\n",
    "# else:\n",
    "#     print(\"이미지 URL을 찾을 수 없습니다.\")\n",
    "\n",
    "# 이미지 요소 찾기 (img 태그를 찾을 때)\n",
    "img_element = driver.find_element_by_class_name('ExpandableImage__Image-sc-hg8nrj-1')\n",
    "\n",
    "# 이미지 URL 추출\n",
    "img_url = img_element.get_attribute('src')\n",
    "\n",
    "# 이미지 요청\n",
    "img_data = requests.get(img_url).content\n",
    "\n",
    "# 이미지 이름 추출\n",
    "img_name = os.path.basename(img_url.split('?')[0])\n",
    "\n",
    "# 이미지 저장\n",
    "with open(img_name, 'wb') as f:\n",
    "    f.write(img_data)\n",
    "\n",
    "# 브라우저 닫기\n",
    "driver.quit()\n",
    "\n",
    "print(f\"이미지가 다운로드되었습니다: {img_name}\")"
   ]
  },
  {
   "cell_type": "code",
   "execution_count": 7,
   "id": "23ad57a3-50aa-4c17-8912-6154f727eedc",
   "metadata": {},
   "outputs": [
    {
     "name": "stdout",
     "output_type": "stream",
     "text": [
      "<html>\n",
      "<head><title>403 Forbidden</title></head>\n",
      "<body>\n",
      "<center><h1>403 Forbidden</h1></center>\n",
      "</body>\n",
      "</html>\n",
      "\n",
      "이미지 URL을 찾을 수 없습니다.\n"
     ]
    }
   ],
   "source": [
    "import requests\n",
    "from bs4 import BeautifulSoup\n",
    "import os\n",
    "\n",
    "# 제품 페이지 URL (예시)\n",
    "url = 'https://www.musinsa.com/review/goods/2246668'\n",
    "\n",
    "# 웹 페이지 요청\n",
    "response = requests.get(url)\n",
    "soup = BeautifulSoup(response.text, 'html.parser')\n",
    "print(soup)\n",
    "# 이미지 URL 찾기 (클래스명에 맞는 img 태그 찾기)\n",
    "img_tag = soup.find('img', class_= 'max-w-full w-full absolute m-auto inset-0 h-full z-0 visible object-contain ExpandableImage__Image-sc-hg8nrj-1 cPuyYn')\n",
    "img_url = img_tag['src'] if img_tag else None\n",
    "\n",
    "if img_url:\n",
    "    # 이미지 요청\n",
    "    img_data = requests.get(img_url).content\n",
    "    \n",
    "    # 이미지 이름 추출\n",
    "    img_name = os.path.basename(img_url.split('?')[0])  # ? 뒤의 쿼리 파라미터 제거\n",
    "    \n",
    "    # 이미지 저장\n",
    "    with open(img_name, 'wb') as f:\n",
    "        f.write(img_data)\n",
    "    print(f\"이미지가 다운로드되었습니다: {img_name}\")\n",
    "else:\n",
    "    print(\"이미지 URL을 찾을 수 없습니다.\")"
   ]
  },
  {
   "cell_type": "code",
   "execution_count": 12,
   "id": "1ce9578b-3ece-44b7-8613-c207d5400cd9",
   "metadata": {},
   "outputs": [
    {
     "name": "stdout",
     "output_type": "stream",
     "text": [
      "<!DOCTYPE html>\n",
      "<html lang=\"ko\"><head><meta charset=\"utf-8\"/><meta content=\"width=device-width, initial-scale=1, minimum-scale=1, maximum-scale=1, viewport-fit=cover, user-scalable=no\" name=\"viewport\"/><title>스코노 (skono) 포폴라 프리미엄 캔버스 스니커즈 / 블랙 전체 후기 | 무신사</title><meta content=\"스코노 (skono) 포폴라 프리미엄 캔버스 스니커즈 / 블랙 | 무신사에서 다양한 후기를 확인하세요.\" name=\"description\"/><meta content=\"스코노 (skono) 포폴라 프리미엄 캔버스 스니커즈 / 블랙 전체 후기 | 무신사\" property=\"og:title\"/><meta content=\"스코노 (skono) 포폴라 프리미엄 캔버스 스니커즈 / 블랙 | 무신사에서 다양한 후기를 확인하세요.\" property=\"og:description\"/><link href=\"https://static.msscdn.net/static/v2/review/review.js\" rel=\"modulepreload\"/><meta content=\"7\" name=\"next-head-count\"/><link href=\"https://static.msscdn.net/static/common/layout/style.css\" rel=\"stylesheet\"/><link href=\"https://static.msscdn.net/static/mds/2.0.0/mds.css\" rel=\"stylesheet\" type=\"text/css\"/><link href=\"https://image.msscdn.net/favicon_152.ico\" rel=\"icon\"/><link href=\"https://image.msscdn.net/favicon_152.ico\" rel=\"shortcut icon\"/><link href=\"https://image.msscdn.net/skin/m_musinsa/images/apple-touch-icon-precomposed.png\" rel=\"apple-touch-icon\"/><link href=\"https://image.msscdn.net/skin/m_musinsa/images/apple-touch-icon-precomposed_128.png\" rel=\"apple-touch-icon-precomposed\"/><link href=\"https://image.msscdn.net/skin/m_musinsa/images/apple-touch-icon-precomposed_152.png\" rel=\"apple-touch-icon-precomposed\" sizes=\"152x152\"/><link href=\"https://image.msscdn.net/skin/m_musinsa/images/apple-touch-icon-precomposed_180.png\" rel=\"apple-touch-icon-precomposed\" sizes=\"180x180\"/><style>\n",
      "              #__next {\n",
      "                height: 100%;\n",
      "              }\n",
      "            </style><noscript data-n-css=\"\"></noscript><script defer=\"\" nomodule=\"\" src=\"https://static.msscdn.net/static/mss-frontend-web/_next/static/chunks/polyfills-c67a75d1b6f99dc8.js\"></script><script data-nscript=\"beforeInteractive\" defer=\"\" src=\"https://static.msscdn.net/static/common-appinterface/release/common-appinterface.js\"></script><script data-nscript=\"beforeInteractive\" defer=\"\" src=\"https://static.msscdn.net/platform/js/common-mobile.js\"></script><script data-nscript=\"beforeInteractive\" defer=\"\" src=\"https://static.msscdn.net/static/common/layout/render.js\" type=\"module\"></script><script defer=\"\" src=\"https://static.msscdn.net/static/mss-frontend-web/_next/static/chunks/webpack-1734484275399-addc92fe97022bed.js\"></script><script defer=\"\" src=\"https://static.msscdn.net/static/mss-frontend-web/_next/static/chunks/framework-1734484275399-b04c3654c455a343.js\"></script><script defer=\"\" src=\"https://static.msscdn.net/static/mss-frontend-web/_next/static/chunks/main-1734484275399-b1805f5f3ee128ce.js\"></script><script defer=\"\" src=\"https://static.msscdn.net/static/mss-frontend-web/_next/static/chunks/pages/_app-1734484275399-f6016b81fc0c554e.js\"></script><script defer=\"\" src=\"https://static.msscdn.net/static/mss-frontend-web/_next/static/chunks/pages/review/goods/%5BgoodsNo%5D-1734484275399-8aa5be5c1c986c7f.js\"></script><script defer=\"\" src=\"https://static.msscdn.net/static/mss-frontend-web/_next/static/1734484264175-0afd1o/_buildManifest.js\"></script><script defer=\"\" src=\"https://static.msscdn.net/static/mss-frontend-web/_next/static/1734484264175-0afd1o/_ssgManifest.js\"></script></head><body><div id=\"__next\"><div id=\"commonLayoutContainer\"></div><div id=\"commonSearchHome\"></div></div><script id=\"__NEXT_DATA__\" type=\"application/json\">{\"props\":{\"pageProps\":{\"goodsData\":{\"data\":{\"list\":[{\"goodsNo\":2246668,\"goodsName\":\"포폴라 프리미엄 캔버스 스니커즈 / 블랙\",\"linkUrl\":\"https://www.musinsa.com/products/2246668\",\"imageUrl\":\"https://image.msscdn.net/images/goods_img/20211124/2246668/2246668_1_500.jpg\",\"displayGenderText\":\"공용\",\"isSoldOut\":false,\"normalPrice\":59000,\"price\":41300,\"saleRate\":30,\"brand\":\"skono\",\"brandName\":\"스코노\",\"brandLinkUrl\":\"https://www.musinsa.com/brand/skono\",\"reviewCount\":17,\"reviewScore\":90,\"isOptionVisible\":true,\"imageLabelList\":[],\"infoLabelList\":[{\"code\":\"OUTLET\",\"title\":\"아울렛\"}]}]},\"meta\":{\"result\":\"SUCCESS\"}}},\"__N_SSP\":true},\"page\":\"/review/goods/[goodsNo]\",\"query\":{\"goodsNo\":\"2246668\"},\"buildId\":\"1734484264175-0afd1o\",\"assetPrefix\":\"https://static.msscdn.net/static/mss-frontend-web\",\"isFallback\":false,\"isExperimentalCompile\":false,\"gssp\":true,\"scriptLoader\":[{\"id\":\"mss-gtm\",\"strategy\":\"afterInteractive\",\"dangerouslySetInnerHTML\":{\"__html\":\"(function (w, d, s, l, i) {\\n                  w[l] = w[l] || [];\\n                  w[l].push({ 'gtm.start': new Date().getTime(), 'event': 'gtm.js' });\\n                  var f = d.getElementsByTagName(s)[0],\\n                    j = d.createElement(s),\\n                    dl = l != 'dataLayer' ? '\\u0026l=' + l : '';\\n                  j.async = true;\\n                  j.src = 'https://www.googletagmanager.com/gtm.js?id=' + i + dl;\\n                  f.parentNode.insertBefore(j, f);\\n                })(window, document, 'script', 'dataLayer', 'GTM-KTZPBQV');\"}}]}</script></body></html>\n",
      "이미지 URL을 찾을 수 없습니다.\n"
     ]
    }
   ],
   "source": [
    "import requests\n",
    "from bs4 import BeautifulSoup\n",
    "import os\n",
    "\n",
    "# 제품 페이지 URL (예시)\n",
    "url = 'https://www.musinsa.com/review/goods/2246668'\n",
    "\n",
    "# User-Agent 설정\n",
    "headers = {\n",
    "    'User-Agent': 'Mozilla/5.0 (Windows NT 10.0; Win64; x64) AppleWebKit/537.36 (KHTML, like Gecko) Chrome/58.0.3029.110 Safari/537.36'\n",
    "}\n",
    "\n",
    "# 웹 페이지 요청 (헤더를 추가하여 요청)\n",
    "response = requests.get(url, headers=headers)\n",
    "\n",
    "# 403 Forbidden 오류 방지 확인\n",
    "if response.status_code == 403:\n",
    "    print(\"접근이 거부되었습니다. 다른 방법을 시도해 보세요.\")\n",
    "else:\n",
    "    soup = BeautifulSoup(response.text, 'html.parser')\n",
    "    print(soup)\n",
    "\n",
    "    # 이미지 URL 찾기 (클래스명에 맞는 img 태그 찾기)\n",
    "    img_tag = soup.find('img', class_='max-w-full w-full absolute m-auto inset-0 h-full z-0 visible object-contain ExpandableImage__Image-sc-hg8nrj-1 cPuyYn')\n",
    "    img_url = img_tag['src'] if img_tag else None\n",
    "\n",
    "    if img_url:\n",
    "        # 이미지 요청\n",
    "        img_data = requests.get(img_url).content\n",
    "        \n",
    "        # 이미지 이름 추출\n",
    "        img_name = os.path.basename(img_url.split('?')[0])  # ? 뒤의 쿼리 파라미터 제거\n",
    "        \n",
    "        # 이미지 저장\n",
    "        with open(img_name, 'wb') as f:\n",
    "            f.write(img_data)\n",
    "        print(f\"이미지가 다운로드되었습니다: {img_name}\")\n",
    "    else:\n",
    "        print(\"이미지 URL을 찾을 수 없습니다.\")\n"
   ]
  },
  {
   "cell_type": "code",
   "execution_count": null,
   "id": "51f31601-68af-4b2e-bdf6-424a71a3a048",
   "metadata": {},
   "outputs": [],
   "source": []
  }
 ],
 "metadata": {
  "kernelspec": {
   "display_name": "Python 3 (ipykernel)",
   "language": "python",
   "name": "python3"
  },
  "language_info": {
   "codemirror_mode": {
    "name": "ipython",
    "version": 3
   },
   "file_extension": ".py",
   "mimetype": "text/x-python",
   "name": "python",
   "nbconvert_exporter": "python",
   "pygments_lexer": "ipython3",
   "version": "3.9.13"
  }
 },
 "nbformat": 4,
 "nbformat_minor": 5
}
