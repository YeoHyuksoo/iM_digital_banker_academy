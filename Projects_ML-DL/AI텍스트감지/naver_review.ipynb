{
 "cells": [
  {
   "cell_type": "code",
   "execution_count": 1,
   "metadata": {},
   "outputs": [],
   "source": [
    "import os\n",
    "\n",
    "path = './naver_store_review_before/'\n",
    "file_list = os.listdir(path)\n",
    "file_list_py = [file for file in file_list if file.endswith('.csv')]"
   ]
  },
  {
   "cell_type": "code",
   "execution_count": 2,
   "metadata": {},
   "outputs": [],
   "source": [
    "import pandas as pd\n",
    "\n",
    "df = pd.DataFrame()\n",
    "for i in file_list_py:\n",
    "    data = pd.read_csv(path + i)\n",
    "    df = pd.concat([df,data])\n",
    "\n",
    "df = df.reset_index(drop=True)"
   ]
  },
  {
   "cell_type": "code",
   "execution_count": 3,
   "metadata": {},
   "outputs": [
    {
     "data": {
      "text/plain": [
       "23"
      ]
     },
     "execution_count": 3,
     "metadata": {},
     "output_type": "execute_result"
    }
   ],
   "source": [
    "len(file_list_py)"
   ]
  },
  {
   "cell_type": "code",
   "execution_count": 33,
   "metadata": {},
   "outputs": [],
   "source": [
    "import pandas as pd\n",
    "\n",
    "df = pd.read_csv(\"merged_reviews.csv\")"
   ]
  },
  {
   "cell_type": "code",
   "execution_count": 34,
   "metadata": {},
   "outputs": [
    {
     "name": "stdout",
     "output_type": "stream",
     "text": [
      "<class 'pandas.core.frame.DataFrame'>\n",
      "RangeIndex: 27839 entries, 0 to 27838\n",
      "Data columns (total 1 columns):\n",
      " #   Column       Non-Null Count  Dtype \n",
      "---  ------       --------------  ----- \n",
      " 0   review_text  27825 non-null  object\n",
      "dtypes: object(1)\n",
      "memory usage: 217.6+ KB\n"
     ]
    }
   ],
   "source": [
    "df.info()"
   ]
  },
  {
   "cell_type": "code",
   "execution_count": 35,
   "metadata": {},
   "outputs": [
    {
     "data": {
      "text/html": [
       "<div>\n",
       "<style scoped>\n",
       "    .dataframe tbody tr th:only-of-type {\n",
       "        vertical-align: middle;\n",
       "    }\n",
       "\n",
       "    .dataframe tbody tr th {\n",
       "        vertical-align: top;\n",
       "    }\n",
       "\n",
       "    .dataframe thead th {\n",
       "        text-align: right;\n",
       "    }\n",
       "</style>\n",
       "<table border=\"1\" class=\"dataframe\">\n",
       "  <thead>\n",
       "    <tr style=\"text-align: right;\">\n",
       "      <th></th>\n",
       "      <th>review_text</th>\n",
       "    </tr>\n",
       "  </thead>\n",
       "  <tbody>\n",
       "    <tr>\n",
       "      <th>0</th>\n",
       "      <td>금요일주문했는데 화요일받았어요ㅠㅠ\\n대한통운이라 운좋으면 토욜도착하겠지했는데 \\n천...</td>\n",
       "    </tr>\n",
       "    <tr>\n",
       "      <th>1</th>\n",
       "      <td>가성비 좋아요 \\n택배상자는 ㅋㅋ 구멍이 나있엇지만 안에는 멀쩡합니당\\n참고로 저희...</td>\n",
       "    </tr>\n",
       "    <tr>\n",
       "      <th>2</th>\n",
       "      <td>귀요워용 오리인형도있어서 귀엽게사진찍을수있어서 좋아용</td>\n",
       "    </tr>\n",
       "    <tr>\n",
       "      <th>3</th>\n",
       "      <td>잘받았습니다 강아지 스파할려고 구매했는데 구성품도좋아요</td>\n",
       "    </tr>\n",
       "    <tr>\n",
       "      <th>4</th>\n",
       "      <td>잘쓰고 있어요 만족합니다</td>\n",
       "    </tr>\n",
       "  </tbody>\n",
       "</table>\n",
       "</div>"
      ],
      "text/plain": [
       "                                         review_text\n",
       "0  금요일주문했는데 화요일받았어요ㅠㅠ\\n대한통운이라 운좋으면 토욜도착하겠지했는데 \\n천...\n",
       "1  가성비 좋아요 \\n택배상자는 ㅋㅋ 구멍이 나있엇지만 안에는 멀쩡합니당\\n참고로 저희...\n",
       "2                      귀요워용 오리인형도있어서 귀엽게사진찍을수있어서 좋아용\n",
       "3                     잘받았습니다 강아지 스파할려고 구매했는데 구성품도좋아요\n",
       "4                                      잘쓰고 있어요 만족합니다"
      ]
     },
     "execution_count": 35,
     "metadata": {},
     "output_type": "execute_result"
    }
   ],
   "source": [
    "df.head()"
   ]
  },
  {
   "cell_type": "code",
   "execution_count": 36,
   "metadata": {},
   "outputs": [],
   "source": [
    "# data = pd.DataFrame(df.review)\n",
    "data = df"
   ]
  },
  {
   "cell_type": "code",
   "execution_count": 37,
   "metadata": {},
   "outputs": [
    {
     "data": {
      "text/html": [
       "<div>\n",
       "<style scoped>\n",
       "    .dataframe tbody tr th:only-of-type {\n",
       "        vertical-align: middle;\n",
       "    }\n",
       "\n",
       "    .dataframe tbody tr th {\n",
       "        vertical-align: top;\n",
       "    }\n",
       "\n",
       "    .dataframe thead th {\n",
       "        text-align: right;\n",
       "    }\n",
       "</style>\n",
       "<table border=\"1\" class=\"dataframe\">\n",
       "  <thead>\n",
       "    <tr style=\"text-align: right;\">\n",
       "      <th></th>\n",
       "      <th>review_text</th>\n",
       "    </tr>\n",
       "  </thead>\n",
       "  <tbody>\n",
       "    <tr>\n",
       "      <th>0</th>\n",
       "      <td>금요일주문했는데 화요일받았어요ㅠㅠ\\n대한통운이라 운좋으면 토욜도착하겠지했는데 \\n천...</td>\n",
       "    </tr>\n",
       "    <tr>\n",
       "      <th>1</th>\n",
       "      <td>가성비 좋아요 \\n택배상자는 ㅋㅋ 구멍이 나있엇지만 안에는 멀쩡합니당\\n참고로 저희...</td>\n",
       "    </tr>\n",
       "    <tr>\n",
       "      <th>2</th>\n",
       "      <td>귀요워용 오리인형도있어서 귀엽게사진찍을수있어서 좋아용</td>\n",
       "    </tr>\n",
       "    <tr>\n",
       "      <th>3</th>\n",
       "      <td>잘받았습니다 강아지 스파할려고 구매했는데 구성품도좋아요</td>\n",
       "    </tr>\n",
       "    <tr>\n",
       "      <th>4</th>\n",
       "      <td>잘쓰고 있어요 만족합니다</td>\n",
       "    </tr>\n",
       "  </tbody>\n",
       "</table>\n",
       "</div>"
      ],
      "text/plain": [
       "                                         review_text\n",
       "0  금요일주문했는데 화요일받았어요ㅠㅠ\\n대한통운이라 운좋으면 토욜도착하겠지했는데 \\n천...\n",
       "1  가성비 좋아요 \\n택배상자는 ㅋㅋ 구멍이 나있엇지만 안에는 멀쩡합니당\\n참고로 저희...\n",
       "2                      귀요워용 오리인형도있어서 귀엽게사진찍을수있어서 좋아용\n",
       "3                     잘받았습니다 강아지 스파할려고 구매했는데 구성품도좋아요\n",
       "4                                      잘쓰고 있어요 만족합니다"
      ]
     },
     "execution_count": 37,
     "metadata": {},
     "output_type": "execute_result"
    }
   ],
   "source": [
    "data.head()"
   ]
  },
  {
   "cell_type": "code",
   "execution_count": 38,
   "metadata": {},
   "outputs": [
    {
     "name": "stdout",
     "output_type": "stream",
     "text": [
      "<class 'pandas.core.frame.DataFrame'>\n",
      "RangeIndex: 27839 entries, 0 to 27838\n",
      "Data columns (total 1 columns):\n",
      " #   Column       Non-Null Count  Dtype \n",
      "---  ------       --------------  ----- \n",
      " 0   review_text  27825 non-null  object\n",
      "dtypes: object(1)\n",
      "memory usage: 217.6+ KB\n"
     ]
    }
   ],
   "source": [
    "data.info()"
   ]
  },
  {
   "cell_type": "code",
   "execution_count": 39,
   "metadata": {},
   "outputs": [
    {
     "data": {
      "text/plain": [
       "25658"
      ]
     },
     "execution_count": 39,
     "metadata": {},
     "output_type": "execute_result"
    }
   ],
   "source": [
    "data.drop_duplicates(inplace = True)\n",
    "len(data)"
   ]
  },
  {
   "cell_type": "code",
   "execution_count": 40,
   "metadata": {},
   "outputs": [
    {
     "data": {
      "text/plain": [
       "25657"
      ]
     },
     "execution_count": 40,
     "metadata": {},
     "output_type": "execute_result"
    }
   ],
   "source": [
    "data.dropna(inplace=True)\n",
    "len(data)"
   ]
  },
  {
   "cell_type": "code",
   "execution_count": 41,
   "metadata": {},
   "outputs": [
    {
     "data": {
      "text/html": [
       "<div>\n",
       "<style scoped>\n",
       "    .dataframe tbody tr th:only-of-type {\n",
       "        vertical-align: middle;\n",
       "    }\n",
       "\n",
       "    .dataframe tbody tr th {\n",
       "        vertical-align: top;\n",
       "    }\n",
       "\n",
       "    .dataframe thead th {\n",
       "        text-align: right;\n",
       "    }\n",
       "</style>\n",
       "<table border=\"1\" class=\"dataframe\">\n",
       "  <thead>\n",
       "    <tr style=\"text-align: right;\">\n",
       "      <th></th>\n",
       "      <th>review_text</th>\n",
       "    </tr>\n",
       "  </thead>\n",
       "  <tbody>\n",
       "    <tr>\n",
       "      <th>0</th>\n",
       "      <td>금요일주문했는데 화요일받았어요ㅠㅠ\\n대한통운이라 운좋으면 토욜도착하겠지했는데 \\n천...</td>\n",
       "    </tr>\n",
       "    <tr>\n",
       "      <th>1</th>\n",
       "      <td>가성비 좋아요 \\n택배상자는 ㅋㅋ 구멍이 나있엇지만 안에는 멀쩡합니당\\n참고로 저희...</td>\n",
       "    </tr>\n",
       "    <tr>\n",
       "      <th>2</th>\n",
       "      <td>귀요워용 오리인형도있어서 귀엽게사진찍을수있어서 좋아용</td>\n",
       "    </tr>\n",
       "    <tr>\n",
       "      <th>3</th>\n",
       "      <td>잘받았습니다 강아지 스파할려고 구매했는데 구성품도좋아요</td>\n",
       "    </tr>\n",
       "    <tr>\n",
       "      <th>4</th>\n",
       "      <td>잘쓰고 있어요 만족합니다</td>\n",
       "    </tr>\n",
       "  </tbody>\n",
       "</table>\n",
       "</div>"
      ],
      "text/plain": [
       "                                         review_text\n",
       "0  금요일주문했는데 화요일받았어요ㅠㅠ\\n대한통운이라 운좋으면 토욜도착하겠지했는데 \\n천...\n",
       "1  가성비 좋아요 \\n택배상자는 ㅋㅋ 구멍이 나있엇지만 안에는 멀쩡합니당\\n참고로 저희...\n",
       "2                      귀요워용 오리인형도있어서 귀엽게사진찍을수있어서 좋아용\n",
       "3                     잘받았습니다 강아지 스파할려고 구매했는데 구성품도좋아요\n",
       "4                                      잘쓰고 있어요 만족합니다"
      ]
     },
     "execution_count": 41,
     "metadata": {},
     "output_type": "execute_result"
    }
   ],
   "source": [
    "data.head()"
   ]
  },
  {
   "cell_type": "code",
   "execution_count": 42,
   "metadata": {},
   "outputs": [
    {
     "data": {
      "text/plain": [
       "24467"
      ]
     },
     "execution_count": 42,
     "metadata": {},
     "output_type": "execute_result"
    }
   ],
   "source": [
    "data = data[~data['review_text'].str.contains('판매자', na=False, case=False)]\n",
    "len(data)"
   ]
  },
  {
   "cell_type": "code",
   "execution_count": 47,
   "metadata": {},
   "outputs": [
    {
     "name": "stdout",
     "output_type": "stream",
     "text": [
      "'한달사용'이 포함된 리뷰 개수: 0\n",
      "'재구매'가 포함된 리뷰 개수: 727\n"
     ]
    }
   ],
   "source": [
    "# '한달사용'과 '재구매'가 포함된 리뷰의 개수\n",
    "count_month_usage = data['review_text'].str.contains('한달사용', na=False, case=False).sum()\n",
    "count_repurchase = data['review_text'].str.contains('재구매', na=False, case=False).sum()\n",
    "\n",
    "print(f\"'한달사용'이 포함된 리뷰 개수: {count_month_usage}\")\n",
    "print(f\"'재구매'가 포함된 리뷰 개수: {count_repurchase}\")"
   ]
  },
  {
   "cell_type": "code",
   "execution_count": 44,
   "metadata": {},
   "outputs": [
    {
     "name": "stdout",
     "output_type": "stream",
     "text": [
      "'한달사용' 또는 '재구매'가 포함된 리뷰 개수: 4030\n"
     ]
    }
   ],
   "source": [
    "count_both = data['review_text'].str.contains('한달사용|재구매', na=False, case=False).sum()\n",
    "print(f\"'한달사용' 또는 '재구매'가 포함된 리뷰 개수: {count_both}\")"
   ]
  },
  {
   "cell_type": "code",
   "execution_count": 46,
   "metadata": {},
   "outputs": [
    {
     "name": "stderr",
     "output_type": "stream",
     "text": [
      "C:\\Users\\asasd\\anaconda3\\lib\\site-packages\\ipykernel_launcher.py:1: SettingWithCopyWarning: \n",
      "A value is trying to be set on a copy of a slice from a DataFrame.\n",
      "Try using .loc[row_indexer,col_indexer] = value instead\n",
      "\n",
      "See the caveats in the documentation: https://pandas.pydata.org/pandas-docs/stable/user_guide/indexing.html#returning-a-view-versus-a-copy\n",
      "  \"\"\"Entry point for launching an IPython kernel.\n"
     ]
    },
    {
     "data": {
      "text/plain": [
       "24467"
      ]
     },
     "execution_count": 46,
     "metadata": {},
     "output_type": "execute_result"
    }
   ],
   "source": [
    "data['review_text'] = data['review_text'].str.replace('한달사용', '')\n",
    "# data['review'] = data['review'].str.replace('재구매', '')\n",
    "\n",
    "len(data)"
   ]
  },
  {
   "cell_type": "code",
   "execution_count": 48,
   "metadata": {},
   "outputs": [],
   "source": [
    "data.to_csv('merged_reviews_cleaned.csv', index=False, encoding = 'utf-8-sig')"
   ]
  },
  {
   "cell_type": "code",
   "execution_count": 49,
   "metadata": {},
   "outputs": [
    {
     "name": "stdout",
     "output_type": "stream",
     "text": [
      "                                             review_text  \\\n",
      "0      금요일주문했는데 화요일받았어요ㅠㅠ\\n대한통운이라 운좋으면 토욜도착하겠지했는데 \\n천...   \n",
      "1      가성비 좋아요 \\n택배상자는 ㅋㅋ 구멍이 나있엇지만 안에는 멀쩡합니당\\n참고로 저희...   \n",
      "2                          귀요워용 오리인형도있어서 귀엽게사진찍을수있어서 좋아용   \n",
      "3                         잘받았습니다 강아지 스파할려고 구매했는데 구성품도좋아요   \n",
      "4                                          잘쓰고 있어요 만족합니다   \n",
      "...                                                  ...   \n",
      "27834                                 스프링 제본도 깔끔하게 잘 됐어요   \n",
      "27835  실제 시험지 크기라는데 생각보다 커요 이걸로 맘 편히 준비 할 수 있을것 같아요 감...   \n",
      "27836             혼자 논술 준비하느라 막막했는데 덕분에 잘 해낼 수 있을 것 같습니다   \n",
      "27837  공부하기 쉽게 출력되어 너무 좋습니다 부록으로 제공되는 부분도 인터넷에서 일일이 찾...   \n",
      "27838                   1회분씩 들고다닐라고 스프링 없이 주문했는데 잘 도착했네요   \n",
      "\n",
      "                                            clean_review  \n",
      "0      금요일주문했는데 화요일받았어요ㅠㅠ\\n대한통운이라 운좋으면 토욜도착하겠지했는데 \\n천...  \n",
      "1      가성비 좋아요 \\n택배상자는 ㅋㅋ 구멍이 나있엇지만 안에는 멀쩡합니당\\n참고로 저희...  \n",
      "2                          귀요워용 오리인형도있어서 귀엽게사진찍을수있어서 좋아용  \n",
      "3                         잘받았습니다 강아지 스파할려고 구매했는데 구성품도좋아요  \n",
      "4                                          잘쓰고 있어요 만족합니다  \n",
      "...                                                  ...  \n",
      "27834                                 스프링 제본도 깔끔하게 잘 됐어요  \n",
      "27835  실제 시험지 크기라는데 생각보다 커요 이걸로 맘 편히 준비 할 수 있을것 같아요 감...  \n",
      "27836             혼자 논술 준비하느라 막막했는데 덕분에 잘 해낼 수 있을 것 같습니다  \n",
      "27837  공부하기 쉽게 출력되어 너무 좋습니다 부록으로 제공되는 부분도 인터넷에서 일일이 찾...  \n",
      "27838                   1회분씩 들고다닐라고 스프링 없이 주문했는데 잘 도착했네요  \n",
      "\n",
      "[24467 rows x 2 columns]\n"
     ]
    },
    {
     "name": "stderr",
     "output_type": "stream",
     "text": [
      "C:\\Users\\asasd\\anaconda3\\lib\\site-packages\\ipykernel_launcher.py:6: SettingWithCopyWarning: \n",
      "A value is trying to be set on a copy of a slice from a DataFrame.\n",
      "Try using .loc[row_indexer,col_indexer] = value instead\n",
      "\n",
      "See the caveats in the documentation: https://pandas.pydata.org/pandas-docs/stable/user_guide/indexing.html#returning-a-view-versus-a-copy\n",
      "  \n"
     ]
    }
   ],
   "source": [
    "import re\n",
    "\n",
    "pattern = r\"(?:[ㄱ-ㅎㅏ-ㅣ]{4,})\"\n",
    "\n",
    "# 리뷰 클리닝\n",
    "data[\"clean_review\"] = data[\"review_text\"].apply(lambda x: re.sub(pattern, \"\", x).strip())\n",
    "\n",
    "# 결과 확인\n",
    "print(data)"
   ]
  },
  {
   "cell_type": "code",
   "execution_count": 50,
   "metadata": {},
   "outputs": [],
   "source": [
    "clean_data = data.drop(columns='review_text')"
   ]
  },
  {
   "cell_type": "code",
   "execution_count": 51,
   "metadata": {},
   "outputs": [
    {
     "data": {
      "text/plain": [
       "24467"
      ]
     },
     "execution_count": 51,
     "metadata": {},
     "output_type": "execute_result"
    }
   ],
   "source": [
    "clean_data.dropna(inplace=True)\n",
    "len(clean_data)"
   ]
  },
  {
   "cell_type": "code",
   "execution_count": 52,
   "metadata": {},
   "outputs": [],
   "source": [
    "clean_data['clean_review'] = clean_data['clean_review'].str.replace('더보기', '')\n",
    "clean_data.columns = ['review']"
   ]
  },
  {
   "cell_type": "code",
   "execution_count": 54,
   "metadata": {},
   "outputs": [
    {
     "data": {
      "text/plain": [
       "24435"
      ]
     },
     "execution_count": 54,
     "metadata": {},
     "output_type": "execute_result"
    }
   ],
   "source": [
    "# 공백 문자열 제거\n",
    "# clean_data['review'] = clean_data['review'].str.strip()  # 앞뒤 공백 제거\n",
    "# clean_data = clean_data[clean_data['review'] != '']  # 공백 문자열 제거\n",
    "\n",
    "# 영어 비율이 50% 이상인 리뷰 제거\n",
    "clean_data = clean_data[clean_data['review'].apply(lambda x: (len(re.findall(r'[a-zA-Z]', x)) / len(x)) < 0.5)]\n",
    "len(clean_data)"
   ]
  },
  {
   "cell_type": "code",
   "execution_count": 57,
   "metadata": {},
   "outputs": [],
   "source": [
    "clean_data['review'] = clean_data['review'].str.replace('재구매', '')"
   ]
  },
  {
   "cell_type": "code",
   "execution_count": 60,
   "metadata": {},
   "outputs": [],
   "source": [
    "clean_data['review'] = clean_data['review'].str.replace('스토어PICK', '')"
   ]
  },
  {
   "cell_type": "code",
   "execution_count": 59,
   "metadata": {},
   "outputs": [
    {
     "data": {
      "text/plain": [
       "24431"
      ]
     },
     "execution_count": 59,
     "metadata": {},
     "output_type": "execute_result"
    }
   ],
   "source": [
    "# 숫자만 포함된 리뷰 제거\n",
    "clean_data = clean_data[~clean_data['review'].str.match(r'^\\d+$')]\n",
    "len(clean_data)"
   ]
  },
  {
   "cell_type": "code",
   "execution_count": 61,
   "metadata": {},
   "outputs": [],
   "source": [
    "clean_data.to_csv('merged_reviews_cleaned.csv', index=False, encoding = 'utf-8-sig')"
   ]
  },
  {
   "cell_type": "code",
   "execution_count": 56,
   "metadata": {},
   "outputs": [
    {
     "data": {
      "text/plain": [
       "review    0\n",
       "dtype: int64"
      ]
     },
     "execution_count": 56,
     "metadata": {},
     "output_type": "execute_result"
    }
   ],
   "source": [
    "clean_data.isna().sum()"
   ]
  },
  {
   "cell_type": "code",
   "execution_count": null,
   "metadata": {},
   "outputs": [],
   "source": []
  }
 ],
 "metadata": {
  "kernelspec": {
   "display_name": "Python 3",
   "language": "python",
   "name": "python3"
  },
  "language_info": {
   "codemirror_mode": {
    "name": "ipython",
    "version": 3
   },
   "file_extension": ".py",
   "mimetype": "text/x-python",
   "name": "python",
   "nbconvert_exporter": "python",
   "pygments_lexer": "ipython3",
   "version": "3.7.6"
  }
 },
 "nbformat": 4,
 "nbformat_minor": 5
}
