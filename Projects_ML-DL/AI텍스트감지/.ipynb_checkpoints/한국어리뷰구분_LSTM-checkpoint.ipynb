{
 "cells": [
  {
   "cell_type": "code",
   "execution_count": 2,
   "id": "4520deaa-c58e-47e2-962f-8ab7b65aa868",
   "metadata": {},
   "outputs": [
    {
     "name": "stdout",
     "output_type": "stream",
     "text": [
      "<class 'pandas.core.frame.DataFrame'>\n",
      "RangeIndex: 54681 entries, 0 to 54680\n",
      "Data columns (total 2 columns):\n",
      " #   Column  Non-Null Count  Dtype \n",
      "---  ------  --------------  ----- \n",
      " 0   text    54681 non-null  object\n",
      " 1   label   54681 non-null  object\n",
      "dtypes: object(2)\n",
      "memory usage: 854.5+ KB\n",
      "None\n",
      "Testing combination: (64, 32, 0.3, 16, 32, 5)\n",
      "Epoch 1/5\n"
     ]
    },
    {
     "name": "stderr",
     "output_type": "stream",
     "text": [
      "C:\\Users\\Administrator\\AppData\\Local\\Programs\\Python\\Python310\\lib\\site-packages\\keras\\src\\layers\\core\\embedding.py:90: UserWarning: Argument `input_length` is deprecated. Just remove it.\n",
      "  warnings.warn(\n"
     ]
    },
    {
     "name": "stdout",
     "output_type": "stream",
     "text": [
      "1094/1094 - 12s - 11ms/step - accuracy: 0.6421 - loss: 0.6128 - val_accuracy: 0.7920 - val_loss: 0.5112\n",
      "Epoch 2/5\n",
      "1094/1094 - 11s - 10ms/step - accuracy: 0.6831 - loss: 0.5798 - val_accuracy: 0.5097 - val_loss: 0.6887\n",
      "Epoch 3/5\n",
      "1094/1094 - 11s - 10ms/step - accuracy: 0.6066 - loss: 0.5834 - val_accuracy: 0.9848 - val_loss: 0.0679\n",
      "Epoch 4/5\n",
      "1094/1094 - 11s - 10ms/step - accuracy: 0.9916 - loss: 0.0446 - val_accuracy: 0.9937 - val_loss: 0.0224\n",
      "Epoch 5/5\n",
      "1094/1094 - 12s - 11ms/step - accuracy: 0.9947 - loss: 0.0255 - val_accuracy: 0.9931 - val_loss: 0.0221\n",
      "\u001b[1m342/342\u001b[0m \u001b[32m━━━━━━━━━━━━━━━━━━━━\u001b[0m\u001b[37m\u001b[0m \u001b[1m1s\u001b[0m 3ms/step  \n",
      "Accuracy: 0.9924\n",
      "Testing combination: (64, 32, 0.3, 16, 32, 10)\n",
      "Epoch 1/10\n"
     ]
    },
    {
     "name": "stderr",
     "output_type": "stream",
     "text": [
      "C:\\Users\\Administrator\\AppData\\Local\\Programs\\Python\\Python310\\lib\\site-packages\\keras\\src\\layers\\core\\embedding.py:90: UserWarning: Argument `input_length` is deprecated. Just remove it.\n",
      "  warnings.warn(\n"
     ]
    },
    {
     "name": "stdout",
     "output_type": "stream",
     "text": [
      "1094/1094 - 14s - 12ms/step - accuracy: 0.5095 - loss: 0.6919 - val_accuracy: 0.5089 - val_loss: 0.6877\n",
      "Epoch 2/10\n",
      "1094/1094 - 12s - 11ms/step - accuracy: 0.8170 - loss: 0.4715 - val_accuracy: 0.8851 - val_loss: 0.3438\n",
      "Epoch 3/10\n",
      "1094/1094 - 11s - 10ms/step - accuracy: 0.6787 - loss: 0.5348 - val_accuracy: 0.4955 - val_loss: 0.6941\n",
      "Epoch 4/10\n",
      "1094/1094 - 12s - 11ms/step - accuracy: 0.5041 - loss: 0.6935 - val_accuracy: 0.5041 - val_loss: 0.6936\n",
      "\u001b[1m342/342\u001b[0m \u001b[32m━━━━━━━━━━━━━━━━━━━━\u001b[0m\u001b[37m\u001b[0m \u001b[1m1s\u001b[0m 3ms/step  \n",
      "Accuracy: 0.8817\n",
      "Testing combination: (64, 32, 0.3, 16, 64, 5)\n",
      "Epoch 1/5\n"
     ]
    },
    {
     "name": "stderr",
     "output_type": "stream",
     "text": [
      "C:\\Users\\Administrator\\AppData\\Local\\Programs\\Python\\Python310\\lib\\site-packages\\keras\\src\\layers\\core\\embedding.py:90: UserWarning: Argument `input_length` is deprecated. Just remove it.\n",
      "  warnings.warn(\n"
     ]
    },
    {
     "name": "stdout",
     "output_type": "stream",
     "text": [
      "547/547 - 8s - 15ms/step - accuracy: 0.5066 - loss: 0.6933 - val_accuracy: 0.5047 - val_loss: 0.6928\n",
      "Epoch 2/5\n",
      "547/547 - 7s - 12ms/step - accuracy: 0.5707 - loss: 0.6606 - val_accuracy: 0.7794 - val_loss: 0.5353\n",
      "Epoch 3/5\n",
      "547/547 - 7s - 12ms/step - accuracy: 0.5963 - loss: 0.6445 - val_accuracy: 0.4953 - val_loss: 0.6934\n",
      "Epoch 4/5\n",
      "547/547 - 7s - 13ms/step - accuracy: 0.4998 - loss: 0.6932 - val_accuracy: 0.4953 - val_loss: 0.6931\n",
      "\u001b[1m342/342\u001b[0m \u001b[32m━━━━━━━━━━━━━━━━━━━━\u001b[0m\u001b[37m\u001b[0m \u001b[1m1s\u001b[0m 3ms/step\n",
      "Accuracy: 0.7756\n",
      "Testing combination: (64, 32, 0.3, 16, 64, 10)\n",
      "Epoch 1/10\n"
     ]
    },
    {
     "name": "stderr",
     "output_type": "stream",
     "text": [
      "C:\\Users\\Administrator\\AppData\\Local\\Programs\\Python\\Python310\\lib\\site-packages\\keras\\src\\layers\\core\\embedding.py:90: UserWarning: Argument `input_length` is deprecated. Just remove it.\n",
      "  warnings.warn(\n"
     ]
    },
    {
     "name": "stdout",
     "output_type": "stream",
     "text": [
      "547/547 - 8s - 15ms/step - accuracy: 0.5052 - loss: 0.6921 - val_accuracy: 0.5047 - val_loss: 0.6868\n",
      "Epoch 2/10\n",
      "547/547 - 7s - 12ms/step - accuracy: 0.5476 - loss: 0.6699 - val_accuracy: 0.4953 - val_loss: 0.6934\n",
      "Epoch 3/10\n",
      "547/547 - 7s - 12ms/step - accuracy: 0.5020 - loss: 0.6935 - val_accuracy: 0.4953 - val_loss: 0.6932\n",
      "\u001b[1m342/342\u001b[0m \u001b[32m━━━━━━━━━━━━━━━━━━━━\u001b[0m\u001b[37m\u001b[0m \u001b[1m1s\u001b[0m 3ms/step  \n",
      "Accuracy: 0.4973\n",
      "Testing combination: (64, 32, 0.3, 32, 32, 5)\n",
      "Epoch 1/5\n"
     ]
    },
    {
     "name": "stderr",
     "output_type": "stream",
     "text": [
      "C:\\Users\\Administrator\\AppData\\Local\\Programs\\Python\\Python310\\lib\\site-packages\\keras\\src\\layers\\core\\embedding.py:90: UserWarning: Argument `input_length` is deprecated. Just remove it.\n",
      "  warnings.warn(\n"
     ]
    },
    {
     "name": "stdout",
     "output_type": "stream",
     "text": [
      "1094/1094 - 13s - 12ms/step - accuracy: 0.5078 - loss: 0.6919 - val_accuracy: 0.5047 - val_loss: 0.6883\n",
      "Epoch 2/5\n",
      "1094/1094 - 12s - 11ms/step - accuracy: 0.6020 - loss: 0.5908 - val_accuracy: 0.9849 - val_loss: 0.0665\n",
      "Epoch 3/5\n",
      "1094/1094 - 11s - 10ms/step - accuracy: 0.9909 - loss: 0.0395 - val_accuracy: 0.9938 - val_loss: 0.0250\n",
      "Epoch 4/5\n",
      "1094/1094 - 11s - 10ms/step - accuracy: 0.9948 - loss: 0.0219 - val_accuracy: 0.9929 - val_loss: 0.0240\n",
      "Epoch 5/5\n",
      "1094/1094 - 12s - 11ms/step - accuracy: 0.9961 - loss: 0.0142 - val_accuracy: 0.9937 - val_loss: 0.0174\n",
      "\u001b[1m342/342\u001b[0m \u001b[32m━━━━━━━━━━━━━━━━━━━━\u001b[0m\u001b[37m\u001b[0m \u001b[1m1s\u001b[0m 3ms/step  \n",
      "Accuracy: 0.9941\n",
      "Testing combination: (64, 32, 0.3, 32, 32, 10)\n",
      "Epoch 1/10\n"
     ]
    },
    {
     "name": "stderr",
     "output_type": "stream",
     "text": [
      "C:\\Users\\Administrator\\AppData\\Local\\Programs\\Python\\Python310\\lib\\site-packages\\keras\\src\\layers\\core\\embedding.py:90: UserWarning: Argument `input_length` is deprecated. Just remove it.\n",
      "  warnings.warn(\n"
     ]
    },
    {
     "name": "stdout",
     "output_type": "stream",
     "text": [
      "1094/1094 - 13s - 12ms/step - accuracy: 0.5031 - loss: 0.6954 - val_accuracy: 0.5065 - val_loss: 0.6902\n",
      "Epoch 2/10\n",
      "1094/1094 - 11s - 11ms/step - accuracy: 0.5219 - loss: 0.6837 - val_accuracy: 0.5061 - val_loss: 0.6880\n",
      "Epoch 3/10\n",
      "1094/1094 - 12s - 11ms/step - accuracy: 0.5050 - loss: 0.6942 - val_accuracy: 0.5047 - val_loss: 0.6914\n",
      "Epoch 4/10\n",
      "1094/1094 - 11s - 10ms/step - accuracy: 0.8346 - loss: 0.2818 - val_accuracy: 0.9939 - val_loss: 0.0220\n",
      "Epoch 5/10\n",
      "1094/1094 - 12s - 11ms/step - accuracy: 0.9945 - loss: 0.0289 - val_accuracy: 0.9937 - val_loss: 0.0225\n",
      "Epoch 6/10\n",
      "1094/1094 - 12s - 11ms/step - accuracy: 0.9950 - loss: 0.0221 - val_accuracy: 0.9926 - val_loss: 0.0244\n",
      "\u001b[1m342/342\u001b[0m \u001b[32m━━━━━━━━━━━━━━━━━━━━\u001b[0m\u001b[37m\u001b[0m \u001b[1m1s\u001b[0m 3ms/step\n",
      "Accuracy: 0.9934\n",
      "Testing combination: (64, 32, 0.3, 32, 64, 5)\n",
      "Epoch 1/5\n"
     ]
    },
    {
     "name": "stderr",
     "output_type": "stream",
     "text": [
      "C:\\Users\\Administrator\\AppData\\Local\\Programs\\Python\\Python310\\lib\\site-packages\\keras\\src\\layers\\core\\embedding.py:90: UserWarning: Argument `input_length` is deprecated. Just remove it.\n",
      "  warnings.warn(\n"
     ]
    },
    {
     "name": "stdout",
     "output_type": "stream",
     "text": [
      "547/547 - 10s - 17ms/step - accuracy: 0.5392 - loss: 0.6803 - val_accuracy: 0.7081 - val_loss: 0.5814\n",
      "Epoch 2/5\n",
      "547/547 - 8s - 15ms/step - accuracy: 0.6437 - loss: 0.5939 - val_accuracy: 0.5084 - val_loss: 0.6871\n",
      "Epoch 3/5\n",
      "547/547 - 8s - 15ms/step - accuracy: 0.5143 - loss: 0.6930 - val_accuracy: 0.5068 - val_loss: 0.6872\n",
      "\u001b[1m342/342\u001b[0m \u001b[32m━━━━━━━━━━━━━━━━━━━━\u001b[0m\u001b[37m\u001b[0m \u001b[1m1s\u001b[0m 4ms/step\n",
      "Accuracy: 0.7040\n",
      "Testing combination: (64, 32, 0.3, 32, 64, 10)\n",
      "Epoch 1/10\n"
     ]
    },
    {
     "name": "stderr",
     "output_type": "stream",
     "text": [
      "C:\\Users\\Administrator\\AppData\\Local\\Programs\\Python\\Python310\\lib\\site-packages\\keras\\src\\layers\\core\\embedding.py:90: UserWarning: Argument `input_length` is deprecated. Just remove it.\n",
      "  warnings.warn(\n"
     ]
    },
    {
     "name": "stdout",
     "output_type": "stream",
     "text": [
      "547/547 - 9s - 17ms/step - accuracy: 0.5116 - loss: 0.6916 - val_accuracy: 0.5067 - val_loss: 0.6878\n",
      "Epoch 2/10\n",
      "547/547 - 8s - 14ms/step - accuracy: 0.5995 - loss: 0.6206 - val_accuracy: 0.6603 - val_loss: 0.5690\n",
      "Epoch 3/10\n",
      "547/547 - 8s - 14ms/step - accuracy: 0.6761 - loss: 0.5646 - val_accuracy: 0.6219 - val_loss: 0.5989\n",
      "Epoch 4/10\n",
      "547/547 - 8s - 14ms/step - accuracy: 0.6626 - loss: 0.5692 - val_accuracy: 0.6794 - val_loss: 0.5520\n",
      "Epoch 5/10\n",
      "547/547 - 8s - 14ms/step - accuracy: 0.6967 - loss: 0.5404 - val_accuracy: 0.7239 - val_loss: 0.5087\n",
      "Epoch 6/10\n",
      "547/547 - 8s - 14ms/step - accuracy: 0.7333 - loss: 0.5152 - val_accuracy: 0.7427 - val_loss: 0.5164\n",
      "Epoch 7/10\n",
      "547/547 - 8s - 14ms/step - accuracy: 0.7076 - loss: 0.5359 - val_accuracy: 0.6852 - val_loss: 0.5454\n",
      "\u001b[1m342/342\u001b[0m \u001b[32m━━━━━━━━━━━━━━━━━━━━\u001b[0m\u001b[37m\u001b[0m \u001b[1m1s\u001b[0m 4ms/step\n",
      "Accuracy: 0.7221\n",
      "Testing combination: (64, 32, 0.5, 16, 32, 5)\n",
      "Epoch 1/5\n"
     ]
    },
    {
     "name": "stderr",
     "output_type": "stream",
     "text": [
      "C:\\Users\\Administrator\\AppData\\Local\\Programs\\Python\\Python310\\lib\\site-packages\\keras\\src\\layers\\core\\embedding.py:90: UserWarning: Argument `input_length` is deprecated. Just remove it.\n",
      "  warnings.warn(\n"
     ]
    },
    {
     "name": "stdout",
     "output_type": "stream",
     "text": [
      "1094/1094 - 14s - 13ms/step - accuracy: 0.5000 - loss: 0.6935 - val_accuracy: 0.5069 - val_loss: 0.6917\n",
      "Epoch 2/5\n",
      "1094/1094 - 13s - 12ms/step - accuracy: 0.5100 - loss: 0.6878 - val_accuracy: 0.5050 - val_loss: 0.6877\n",
      "Epoch 3/5\n",
      "1094/1094 - 13s - 12ms/step - accuracy: 0.7254 - loss: 0.4251 - val_accuracy: 0.9930 - val_loss: 0.0231\n",
      "Epoch 4/5\n",
      "1094/1094 - 13s - 12ms/step - accuracy: 0.9926 - loss: 0.0411 - val_accuracy: 0.9864 - val_loss: 0.0474\n",
      "Epoch 5/5\n",
      "1094/1094 - 13s - 12ms/step - accuracy: 0.9943 - loss: 0.0273 - val_accuracy: 0.9783 - val_loss: 0.0618\n",
      "\u001b[1m342/342\u001b[0m \u001b[32m━━━━━━━━━━━━━━━━━━━━\u001b[0m\u001b[37m\u001b[0m \u001b[1m1s\u001b[0m 4ms/step\n",
      "Accuracy: 0.9933\n",
      "Testing combination: (64, 32, 0.5, 16, 32, 10)\n",
      "Epoch 1/10\n"
     ]
    },
    {
     "name": "stderr",
     "output_type": "stream",
     "text": [
      "C:\\Users\\Administrator\\AppData\\Local\\Programs\\Python\\Python310\\lib\\site-packages\\keras\\src\\layers\\core\\embedding.py:90: UserWarning: Argument `input_length` is deprecated. Just remove it.\n",
      "  warnings.warn(\n"
     ]
    },
    {
     "name": "stdout",
     "output_type": "stream",
     "text": [
      "1094/1094 - 14s - 13ms/step - accuracy: 0.5058 - loss: 0.6933 - val_accuracy: 0.5069 - val_loss: 0.6907\n",
      "Epoch 2/10\n",
      "1094/1094 - 13s - 11ms/step - accuracy: 0.5744 - loss: 0.6248 - val_accuracy: 0.9879 - val_loss: 0.0615\n",
      "Epoch 3/10\n",
      "1094/1094 - 13s - 12ms/step - accuracy: 0.9798 - loss: 0.0927 - val_accuracy: 0.9933 - val_loss: 0.0263\n",
      "Epoch 4/10\n",
      "1094/1094 - 13s - 12ms/step - accuracy: 0.9921 - loss: 0.0361 - val_accuracy: 0.9943 - val_loss: 0.0237\n",
      "Epoch 5/10\n",
      "1094/1094 - 13s - 12ms/step - accuracy: 0.9944 - loss: 0.0215 - val_accuracy: 0.9941 - val_loss: 0.0344\n",
      "Epoch 6/10\n",
      "1094/1094 - 13s - 12ms/step - accuracy: 0.9950 - loss: 0.0157 - val_accuracy: 0.9935 - val_loss: 0.0345\n",
      "\u001b[1m342/342\u001b[0m \u001b[32m━━━━━━━━━━━━━━━━━━━━\u001b[0m\u001b[37m\u001b[0m \u001b[1m1s\u001b[0m 4ms/step\n",
      "Accuracy: 0.9926\n",
      "Testing combination: (64, 32, 0.5, 16, 64, 5)\n",
      "Epoch 1/5\n"
     ]
    },
    {
     "name": "stderr",
     "output_type": "stream",
     "text": [
      "C:\\Users\\Administrator\\AppData\\Local\\Programs\\Python\\Python310\\lib\\site-packages\\keras\\src\\layers\\core\\embedding.py:90: UserWarning: Argument `input_length` is deprecated. Just remove it.\n",
      "  warnings.warn(\n"
     ]
    },
    {
     "name": "stdout",
     "output_type": "stream",
     "text": [
      "547/547 - 10s - 17ms/step - accuracy: 0.5014 - loss: 0.6932 - val_accuracy: 0.5052 - val_loss: 0.6914\n",
      "Epoch 2/5\n",
      "547/547 - 8s - 15ms/step - accuracy: 0.5022 - loss: 0.6909 - val_accuracy: 0.5047 - val_loss: 0.6885\n",
      "Epoch 3/5\n",
      "547/547 - 8s - 15ms/step - accuracy: 0.5978 - loss: 0.6315 - val_accuracy: 0.7236 - val_loss: 0.5241\n",
      "Epoch 4/5\n",
      "547/547 - 8s - 15ms/step - accuracy: 0.5927 - loss: 0.6415 - val_accuracy: 0.4953 - val_loss: 0.6939\n",
      "Epoch 5/5\n",
      "547/547 - 8s - 15ms/step - accuracy: 0.4978 - loss: 0.6940 - val_accuracy: 0.4951 - val_loss: 0.6933\n",
      "\u001b[1m342/342\u001b[0m \u001b[32m━━━━━━━━━━━━━━━━━━━━\u001b[0m\u001b[37m\u001b[0m \u001b[1m1s\u001b[0m 4ms/step\n",
      "Accuracy: 0.7217\n",
      "Testing combination: (64, 32, 0.5, 16, 64, 10)\n",
      "Epoch 1/10\n"
     ]
    },
    {
     "name": "stderr",
     "output_type": "stream",
     "text": [
      "C:\\Users\\Administrator\\AppData\\Local\\Programs\\Python\\Python310\\lib\\site-packages\\keras\\src\\layers\\core\\embedding.py:90: UserWarning: Argument `input_length` is deprecated. Just remove it.\n",
      "  warnings.warn(\n"
     ]
    },
    {
     "name": "stdout",
     "output_type": "stream",
     "text": [
      "547/547 - 9s - 17ms/step - accuracy: 0.5008 - loss: 0.6936 - val_accuracy: 0.5047 - val_loss: 0.6919\n",
      "Epoch 2/10\n",
      "547/547 - 8s - 14ms/step - accuracy: 0.5128 - loss: 0.6877 - val_accuracy: 0.5853 - val_loss: 0.6367\n",
      "Epoch 3/10\n",
      "547/547 - 8s - 14ms/step - accuracy: 0.5871 - loss: 0.6309 - val_accuracy: 0.5981 - val_loss: 0.6235\n",
      "Epoch 4/10\n",
      "547/547 - 8s - 14ms/step - accuracy: 0.5823 - loss: 0.6326 - val_accuracy: 0.5877 - val_loss: 0.6316\n",
      "Epoch 5/10\n",
      "547/547 - 8s - 14ms/step - accuracy: 0.5926 - loss: 0.6252 - val_accuracy: 0.6069 - val_loss: 0.6158\n",
      "Epoch 6/10\n",
      "547/547 - 8s - 14ms/step - accuracy: 0.6033 - loss: 0.6162 - val_accuracy: 0.6133 - val_loss: 0.6106\n",
      "Epoch 7/10\n",
      "547/547 - 8s - 14ms/step - accuracy: 0.6089 - loss: 0.6113 - val_accuracy: 0.6276 - val_loss: 0.5986\n",
      "Epoch 8/10\n",
      "547/547 - 8s - 14ms/step - accuracy: 0.6121 - loss: 0.6090 - val_accuracy: 0.6182 - val_loss: 0.6039\n",
      "Epoch 9/10\n",
      "547/547 - 8s - 14ms/step - accuracy: 0.5944 - loss: 0.6654 - val_accuracy: 0.5047 - val_loss: 0.6962\n",
      "\u001b[1m342/342\u001b[0m \u001b[32m━━━━━━━━━━━━━━━━━━━━\u001b[0m\u001b[37m\u001b[0m \u001b[1m1s\u001b[0m 4ms/step\n",
      "Accuracy: 0.6230\n",
      "Testing combination: (64, 32, 0.5, 32, 32, 5)\n",
      "Epoch 1/5\n"
     ]
    },
    {
     "name": "stderr",
     "output_type": "stream",
     "text": [
      "C:\\Users\\Administrator\\AppData\\Local\\Programs\\Python\\Python310\\lib\\site-packages\\keras\\src\\layers\\core\\embedding.py:90: UserWarning: Argument `input_length` is deprecated. Just remove it.\n",
      "  warnings.warn(\n"
     ]
    },
    {
     "name": "stdout",
     "output_type": "stream",
     "text": [
      "1094/1094 - 15s - 13ms/step - accuracy: 0.5099 - loss: 0.6921 - val_accuracy: 0.5127 - val_loss: 0.6854\n",
      "Epoch 2/5\n",
      "1094/1094 - 13s - 12ms/step - accuracy: 0.6726 - loss: 0.5871 - val_accuracy: 0.6763 - val_loss: 0.5695\n",
      "Epoch 3/5\n",
      "1094/1094 - 13s - 11ms/step - accuracy: 0.6023 - loss: 0.6231 - val_accuracy: 0.4962 - val_loss: 0.6935\n",
      "Epoch 4/5\n",
      "1094/1094 - 13s - 12ms/step - accuracy: 0.5716 - loss: 0.6446 - val_accuracy: 0.7375 - val_loss: 0.5044\n",
      "Epoch 5/5\n",
      "1094/1094 - 13s - 12ms/step - accuracy: 0.7982 - loss: 0.4649 - val_accuracy: 0.8356 - val_loss: 0.3824\n",
      "\u001b[1m342/342\u001b[0m \u001b[32m━━━━━━━━━━━━━━━━━━━━\u001b[0m\u001b[37m\u001b[0m \u001b[1m1s\u001b[0m 4ms/step\n",
      "Accuracy: 0.8324\n",
      "Testing combination: (64, 32, 0.5, 32, 32, 10)\n",
      "Epoch 1/10\n"
     ]
    },
    {
     "name": "stderr",
     "output_type": "stream",
     "text": [
      "C:\\Users\\Administrator\\AppData\\Local\\Programs\\Python\\Python310\\lib\\site-packages\\keras\\src\\layers\\core\\embedding.py:90: UserWarning: Argument `input_length` is deprecated. Just remove it.\n",
      "  warnings.warn(\n"
     ]
    },
    {
     "name": "stdout",
     "output_type": "stream",
     "text": [
      "1094/1094 - 14s - 13ms/step - accuracy: 0.5081 - loss: 0.6933 - val_accuracy: 0.5047 - val_loss: 0.6897\n",
      "Epoch 2/10\n",
      "1094/1094 - 13s - 12ms/step - accuracy: 0.5439 - loss: 0.6704 - val_accuracy: 0.5075 - val_loss: 0.6884\n",
      "Epoch 3/10\n",
      "1094/1094 - 13s - 12ms/step - accuracy: 0.8283 - loss: 0.2838 - val_accuracy: 0.9930 - val_loss: 0.0253\n",
      "Epoch 4/10\n",
      "1094/1094 - 13s - 12ms/step - accuracy: 0.9933 - loss: 0.0334 - val_accuracy: 0.9928 - val_loss: 0.0218\n",
      "Epoch 5/10\n",
      "1094/1094 - 13s - 12ms/step - accuracy: 0.9960 - loss: 0.0159 - val_accuracy: 0.9929 - val_loss: 0.0209\n",
      "Epoch 6/10\n",
      "1094/1094 - 13s - 12ms/step - accuracy: 0.9977 - loss: 0.0069 - val_accuracy: 0.9920 - val_loss: 0.0281\n",
      "Epoch 7/10\n",
      "1094/1094 - 13s - 12ms/step - accuracy: 0.9983 - loss: 0.0048 - val_accuracy: 0.9817 - val_loss: 0.0705\n",
      "\u001b[1m342/342\u001b[0m \u001b[32m━━━━━━━━━━━━━━━━━━━━\u001b[0m\u001b[37m\u001b[0m \u001b[1m1s\u001b[0m 4ms/step\n",
      "Accuracy: 0.9928\n",
      "Testing combination: (64, 32, 0.5, 32, 64, 5)\n",
      "Epoch 1/5\n"
     ]
    },
    {
     "name": "stderr",
     "output_type": "stream",
     "text": [
      "C:\\Users\\Administrator\\AppData\\Local\\Programs\\Python\\Python310\\lib\\site-packages\\keras\\src\\layers\\core\\embedding.py:90: UserWarning: Argument `input_length` is deprecated. Just remove it.\n",
      "  warnings.warn(\n"
     ]
    },
    {
     "name": "stdout",
     "output_type": "stream",
     "text": [
      "547/547 - 9s - 17ms/step - accuracy: 0.5060 - loss: 0.6932 - val_accuracy: 0.5047 - val_loss: 0.6921\n",
      "Epoch 2/5\n",
      "547/547 - 8s - 14ms/step - accuracy: 0.5036 - loss: 0.6986 - val_accuracy: 0.5047 - val_loss: 0.6918\n",
      "Epoch 3/5\n",
      "547/547 - 8s - 14ms/step - accuracy: 0.5077 - loss: 0.6907 - val_accuracy: 0.5094 - val_loss: 0.6873\n",
      "Epoch 4/5\n",
      "547/547 - 8s - 14ms/step - accuracy: 0.8014 - loss: 0.4733 - val_accuracy: 0.8772 - val_loss: 0.3572\n",
      "Epoch 5/5\n",
      "547/547 - 8s - 14ms/step - accuracy: 0.7408 - loss: 0.4973 - val_accuracy: 0.4953 - val_loss: 0.6938\n",
      "\u001b[1m342/342\u001b[0m \u001b[32m━━━━━━━━━━━━━━━━━━━━\u001b[0m\u001b[37m\u001b[0m \u001b[1m2s\u001b[0m 4ms/step\n",
      "Accuracy: 0.8741\n",
      "Testing combination: (64, 32, 0.5, 32, 64, 10)\n",
      "Epoch 1/10\n"
     ]
    },
    {
     "name": "stderr",
     "output_type": "stream",
     "text": [
      "C:\\Users\\Administrator\\AppData\\Local\\Programs\\Python\\Python310\\lib\\site-packages\\keras\\src\\layers\\core\\embedding.py:90: UserWarning: Argument `input_length` is deprecated. Just remove it.\n",
      "  warnings.warn(\n"
     ]
    },
    {
     "name": "stdout",
     "output_type": "stream",
     "text": [
      "547/547 - 10s - 18ms/step - accuracy: 0.5497 - loss: 0.6571 - val_accuracy: 0.7460 - val_loss: 0.4925\n",
      "Epoch 2/10\n",
      "547/547 - 8s - 14ms/step - accuracy: 0.7919 - loss: 0.4588 - val_accuracy: 0.8521 - val_loss: 0.3690\n",
      "Epoch 3/10\n",
      "547/547 - 8s - 15ms/step - accuracy: 0.7490 - loss: 0.4792 - val_accuracy: 0.4953 - val_loss: 0.6945\n",
      "Epoch 4/10\n",
      "547/547 - 8s - 15ms/step - accuracy: 0.6172 - loss: 0.6082 - val_accuracy: 0.5634 - val_loss: 0.6540\n",
      "\u001b[1m342/342\u001b[0m \u001b[32m━━━━━━━━━━━━━━━━━━━━\u001b[0m\u001b[37m\u001b[0m \u001b[1m2s\u001b[0m 4ms/step\n",
      "Accuracy: 0.8549\n",
      "Testing combination: (64, 64, 0.3, 16, 32, 5)\n",
      "Epoch 1/5\n"
     ]
    },
    {
     "name": "stderr",
     "output_type": "stream",
     "text": [
      "C:\\Users\\Administrator\\AppData\\Local\\Programs\\Python\\Python310\\lib\\site-packages\\keras\\src\\layers\\core\\embedding.py:90: UserWarning: Argument `input_length` is deprecated. Just remove it.\n",
      "  warnings.warn(\n"
     ]
    },
    {
     "name": "stdout",
     "output_type": "stream",
     "text": [
      "1094/1094 - 20s - 18ms/step - accuracy: 0.5038 - loss: 0.6957 - val_accuracy: 0.5042 - val_loss: 0.6926\n",
      "Epoch 2/5\n",
      "1094/1094 - 18s - 16ms/step - accuracy: 0.6930 - loss: 0.5976 - val_accuracy: 0.7924 - val_loss: 0.5147\n",
      "Epoch 3/5\n",
      "1094/1094 - 17s - 16ms/step - accuracy: 0.8139 - loss: 0.4590 - val_accuracy: 0.8346 - val_loss: 0.4182\n",
      "Epoch 4/5\n",
      "1094/1094 - 17s - 16ms/step - accuracy: 0.5107 - loss: 0.6870 - val_accuracy: 0.5054 - val_loss: 0.6932\n",
      "Epoch 5/5\n",
      "1094/1094 - 18s - 16ms/step - accuracy: 0.5010 - loss: 0.6929 - val_accuracy: 0.4953 - val_loss: 0.6934\n",
      "\u001b[1m342/342\u001b[0m \u001b[32m━━━━━━━━━━━━━━━━━━━━\u001b[0m\u001b[37m\u001b[0m \u001b[1m2s\u001b[0m 6ms/step\n",
      "Accuracy: 0.8338\n",
      "Testing combination: (64, 64, 0.3, 16, 32, 10)\n",
      "Epoch 1/10\n"
     ]
    },
    {
     "name": "stderr",
     "output_type": "stream",
     "text": [
      "C:\\Users\\Administrator\\AppData\\Local\\Programs\\Python\\Python310\\lib\\site-packages\\keras\\src\\layers\\core\\embedding.py:90: UserWarning: Argument `input_length` is deprecated. Just remove it.\n",
      "  warnings.warn(\n"
     ]
    },
    {
     "name": "stdout",
     "output_type": "stream",
     "text": [
      "1094/1094 - 18s - 17ms/step - accuracy: 0.5326 - loss: 0.6815 - val_accuracy: 0.5670 - val_loss: 0.6692\n",
      "Epoch 2/10\n",
      "1094/1094 - 16s - 15ms/step - accuracy: 0.5478 - loss: 0.6574 - val_accuracy: 0.6212 - val_loss: 0.6054\n",
      "Epoch 3/10\n",
      "1094/1094 - 16s - 15ms/step - accuracy: 0.6759 - loss: 0.5624 - val_accuracy: 0.7093 - val_loss: 0.5281\n",
      "Epoch 4/10\n",
      "1094/1094 - 16s - 15ms/step - accuracy: 0.8430 - loss: 0.3013 - val_accuracy: 0.9907 - val_loss: 0.0273\n",
      "Epoch 5/10\n",
      "1094/1094 - 16s - 15ms/step - accuracy: 0.9917 - loss: 0.0458 - val_accuracy: 0.9933 - val_loss: 0.0246\n",
      "Epoch 6/10\n",
      "1094/1094 - 16s - 15ms/step - accuracy: 0.9953 - loss: 0.0255 - val_accuracy: 0.9928 - val_loss: 0.0251\n",
      "Epoch 7/10\n",
      "1094/1094 - 16s - 15ms/step - accuracy: 0.9963 - loss: 0.0190 - val_accuracy: 0.9935 - val_loss: 0.0254\n",
      "\u001b[1m342/342\u001b[0m \u001b[32m━━━━━━━━━━━━━━━━━━━━\u001b[0m\u001b[37m\u001b[0m \u001b[1m2s\u001b[0m 5ms/step\n",
      "Accuracy: 0.9917\n",
      "Testing combination: (64, 64, 0.3, 16, 64, 5)\n",
      "Epoch 1/5\n"
     ]
    },
    {
     "name": "stderr",
     "output_type": "stream",
     "text": [
      "C:\\Users\\Administrator\\AppData\\Local\\Programs\\Python\\Python310\\lib\\site-packages\\keras\\src\\layers\\core\\embedding.py:90: UserWarning: Argument `input_length` is deprecated. Just remove it.\n",
      "  warnings.warn(\n"
     ]
    },
    {
     "name": "stdout",
     "output_type": "stream",
     "text": [
      "547/547 - 13s - 25ms/step - accuracy: 0.5027 - loss: 0.6934 - val_accuracy: 0.5051 - val_loss: 0.6903\n",
      "Epoch 2/5\n",
      "547/547 - 11s - 21ms/step - accuracy: 0.7227 - loss: 0.5484 - val_accuracy: 0.7989 - val_loss: 0.4517\n",
      "Epoch 3/5\n",
      "547/547 - 12s - 21ms/step - accuracy: 0.8060 - loss: 0.4602 - val_accuracy: 0.8127 - val_loss: 0.4604\n",
      "Epoch 4/5\n",
      "547/547 - 12s - 21ms/step - accuracy: 0.8207 - loss: 0.4600 - val_accuracy: 0.8288 - val_loss: 0.4411\n",
      "Epoch 5/5\n",
      "547/547 - 12s - 22ms/step - accuracy: 0.9212 - loss: 0.2244 - val_accuracy: 0.9904 - val_loss: 0.0435\n",
      "\u001b[1m342/342\u001b[0m \u001b[32m━━━━━━━━━━━━━━━━━━━━\u001b[0m\u001b[37m\u001b[0m \u001b[1m2s\u001b[0m 6ms/step\n",
      "Accuracy: 0.9902\n",
      "Testing combination: (64, 64, 0.3, 16, 64, 10)\n",
      "Epoch 1/10\n"
     ]
    },
    {
     "name": "stderr",
     "output_type": "stream",
     "text": [
      "C:\\Users\\Administrator\\AppData\\Local\\Programs\\Python\\Python310\\lib\\site-packages\\keras\\src\\layers\\core\\embedding.py:90: UserWarning: Argument `input_length` is deprecated. Just remove it.\n",
      "  warnings.warn(\n"
     ]
    },
    {
     "name": "stdout",
     "output_type": "stream",
     "text": [
      "547/547 - 13s - 23ms/step - accuracy: 0.5064 - loss: 0.6949 - val_accuracy: 0.4953 - val_loss: 0.6934\n",
      "Epoch 2/10\n",
      "547/547 - 11s - 21ms/step - accuracy: 0.5035 - loss: 0.6935 - val_accuracy: 0.5042 - val_loss: 0.6931\n",
      "Epoch 3/10\n",
      "547/547 - 11s - 20ms/step - accuracy: 0.5355 - loss: 0.6786 - val_accuracy: 0.5047 - val_loss: 0.6920\n",
      "Epoch 4/10\n",
      "547/547 - 11s - 21ms/step - accuracy: 0.5060 - loss: 0.6914 - val_accuracy: 0.5135 - val_loss: 0.6885\n",
      "Epoch 5/10\n",
      "547/547 - 11s - 21ms/step - accuracy: 0.6996 - loss: 0.4841 - val_accuracy: 0.9933 - val_loss: 0.0327\n",
      "Epoch 6/10\n",
      "547/547 - 11s - 20ms/step - accuracy: 0.9902 - loss: 0.0407 - val_accuracy: 0.9923 - val_loss: 0.0308\n",
      "Epoch 7/10\n",
      "547/547 - 11s - 21ms/step - accuracy: 0.9922 - loss: 0.0239 - val_accuracy: 0.9954 - val_loss: 0.0216\n",
      "Epoch 8/10\n",
      "547/547 - 11s - 21ms/step - accuracy: 0.9953 - loss: 0.0157 - val_accuracy: 0.9944 - val_loss: 0.0225\n",
      "Epoch 9/10\n",
      "547/547 - 11s - 20ms/step - accuracy: 0.9979 - loss: 0.0105 - val_accuracy: 0.9954 - val_loss: 0.0263\n",
      "\u001b[1m342/342\u001b[0m \u001b[32m━━━━━━━━━━━━━━━━━━━━\u001b[0m\u001b[37m\u001b[0m \u001b[1m2s\u001b[0m 5ms/step\n",
      "Accuracy: 0.9943\n",
      "Testing combination: (64, 64, 0.3, 32, 32, 5)\n",
      "Epoch 1/5\n"
     ]
    },
    {
     "name": "stderr",
     "output_type": "stream",
     "text": [
      "C:\\Users\\Administrator\\AppData\\Local\\Programs\\Python\\Python310\\lib\\site-packages\\keras\\src\\layers\\core\\embedding.py:90: UserWarning: Argument `input_length` is deprecated. Just remove it.\n",
      "  warnings.warn(\n"
     ]
    },
    {
     "name": "stdout",
     "output_type": "stream",
     "text": [
      "1094/1094 - 19s - 17ms/step - accuracy: 0.5003 - loss: 0.6956 - val_accuracy: 0.5047 - val_loss: 0.6925\n",
      "Epoch 2/5\n",
      "1094/1094 - 17s - 16ms/step - accuracy: 0.5088 - loss: 0.6932 - val_accuracy: 0.5051 - val_loss: 0.6931\n",
      "Epoch 3/5\n",
      "1094/1094 - 16s - 15ms/step - accuracy: 0.5004 - loss: 0.6933 - val_accuracy: 0.4954 - val_loss: 0.6952\n",
      "\u001b[1m342/342\u001b[0m \u001b[32m━━━━━━━━━━━━━━━━━━━━\u001b[0m\u001b[37m\u001b[0m \u001b[1m2s\u001b[0m 5ms/step\n",
      "Accuracy: 0.4973\n",
      "Testing combination: (64, 64, 0.3, 32, 32, 10)\n",
      "Epoch 1/10\n"
     ]
    },
    {
     "name": "stderr",
     "output_type": "stream",
     "text": [
      "C:\\Users\\Administrator\\AppData\\Local\\Programs\\Python\\Python310\\lib\\site-packages\\keras\\src\\layers\\core\\embedding.py:90: UserWarning: Argument `input_length` is deprecated. Just remove it.\n",
      "  warnings.warn(\n"
     ]
    },
    {
     "name": "stdout",
     "output_type": "stream",
     "text": [
      "1094/1094 - 17s - 15ms/step - accuracy: 0.5008 - loss: 0.6941 - val_accuracy: 0.5150 - val_loss: 0.6923\n",
      "Epoch 2/10\n",
      "1094/1094 - 15s - 13ms/step - accuracy: 0.7246 - loss: 0.5384 - val_accuracy: 0.7795 - val_loss: 0.5074\n",
      "Epoch 3/10\n",
      "1094/1094 - 15s - 13ms/step - accuracy: 0.6952 - loss: 0.5440 - val_accuracy: 0.9901 - val_loss: 0.0414\n",
      "Epoch 4/10\n",
      "1094/1094 - 15s - 13ms/step - accuracy: 0.9923 - loss: 0.0390 - val_accuracy: 0.9943 - val_loss: 0.0222\n",
      "Epoch 5/10\n",
      "1094/1094 - 15s - 14ms/step - accuracy: 0.9953 - loss: 0.0229 - val_accuracy: 0.9947 - val_loss: 0.0189\n",
      "Epoch 6/10\n",
      "1094/1094 - 15s - 14ms/step - accuracy: 0.9967 - loss: 0.0151 - val_accuracy: 0.9947 - val_loss: 0.0190\n",
      "Epoch 7/10\n",
      "1094/1094 - 15s - 14ms/step - accuracy: 0.9968 - loss: 0.0104 - val_accuracy: 0.9950 - val_loss: 0.0187\n",
      "Epoch 8/10\n",
      "1094/1094 - 15s - 14ms/step - accuracy: 0.9984 - loss: 0.0060 - val_accuracy: 0.9945 - val_loss: 0.0283\n",
      "Epoch 9/10\n",
      "1094/1094 - 15s - 13ms/step - accuracy: 0.9985 - loss: 0.0045 - val_accuracy: 0.9938 - val_loss: 0.0149\n",
      "Epoch 10/10\n",
      "1094/1094 - 15s - 13ms/step - accuracy: 0.9985 - loss: 0.0037 - val_accuracy: 0.9937 - val_loss: 0.0330\n",
      "\u001b[1m342/342\u001b[0m \u001b[32m━━━━━━━━━━━━━━━━━━━━\u001b[0m\u001b[37m\u001b[0m \u001b[1m1s\u001b[0m 4ms/step\n",
      "Accuracy: 0.9943\n",
      "Testing combination: (64, 64, 0.3, 32, 64, 5)\n",
      "Epoch 1/5\n"
     ]
    },
    {
     "name": "stderr",
     "output_type": "stream",
     "text": [
      "C:\\Users\\Administrator\\AppData\\Local\\Programs\\Python\\Python310\\lib\\site-packages\\keras\\src\\layers\\core\\embedding.py:90: UserWarning: Argument `input_length` is deprecated. Just remove it.\n",
      "  warnings.warn(\n"
     ]
    },
    {
     "name": "stdout",
     "output_type": "stream",
     "text": [
      "547/547 - 12s - 22ms/step - accuracy: 0.5789 - loss: 0.6488 - val_accuracy: 0.7575 - val_loss: 0.4993\n",
      "Epoch 2/5\n",
      "547/547 - 10s - 19ms/step - accuracy: 0.8362 - loss: 0.4477 - val_accuracy: 0.8432 - val_loss: 0.4262\n",
      "Epoch 3/5\n",
      "547/547 - 10s - 19ms/step - accuracy: 0.8689 - loss: 0.3774 - val_accuracy: 0.8705 - val_loss: 0.3504\n",
      "Epoch 4/5\n",
      "547/547 - 10s - 19ms/step - accuracy: 0.8539 - loss: 0.3766 - val_accuracy: 0.7051 - val_loss: 0.5304\n",
      "Epoch 5/5\n",
      "547/547 - 10s - 19ms/step - accuracy: 0.7313 - loss: 0.4833 - val_accuracy: 0.9831 - val_loss: 0.0576\n",
      "\u001b[1m342/342\u001b[0m \u001b[32m━━━━━━━━━━━━━━━━━━━━\u001b[0m\u001b[37m\u001b[0m \u001b[1m2s\u001b[0m 5ms/step\n",
      "Accuracy: 0.9824\n",
      "Testing combination: (64, 64, 0.3, 32, 64, 10)\n",
      "Epoch 1/10\n"
     ]
    },
    {
     "name": "stderr",
     "output_type": "stream",
     "text": [
      "C:\\Users\\Administrator\\AppData\\Local\\Programs\\Python\\Python310\\lib\\site-packages\\keras\\src\\layers\\core\\embedding.py:90: UserWarning: Argument `input_length` is deprecated. Just remove it.\n",
      "  warnings.warn(\n"
     ]
    },
    {
     "name": "stdout",
     "output_type": "stream",
     "text": [
      "547/547 - 11s - 21ms/step - accuracy: 0.5030 - loss: 0.6933 - val_accuracy: 0.5047 - val_loss: 0.6876\n",
      "Epoch 2/10\n",
      "547/547 - 10s - 19ms/step - accuracy: 0.5816 - loss: 0.6348 - val_accuracy: 0.9035 - val_loss: 0.2347\n",
      "Epoch 3/10\n",
      "547/547 - 10s - 18ms/step - accuracy: 0.9895 - loss: 0.0454 - val_accuracy: 0.9918 - val_loss: 0.0312\n",
      "Epoch 4/10\n",
      "547/547 - 10s - 18ms/step - accuracy: 0.9944 - loss: 0.0248 - val_accuracy: 0.9929 - val_loss: 0.0226\n",
      "Epoch 5/10\n",
      "547/547 - 10s - 18ms/step - accuracy: 0.9967 - loss: 0.0156 - val_accuracy: 0.9938 - val_loss: 0.0239\n",
      "Epoch 6/10\n",
      "547/547 - 10s - 18ms/step - accuracy: 0.9968 - loss: 0.0136 - val_accuracy: 0.9912 - val_loss: 0.0428\n",
      "\u001b[1m342/342\u001b[0m \u001b[32m━━━━━━━━━━━━━━━━━━━━\u001b[0m\u001b[37m\u001b[0m \u001b[1m2s\u001b[0m 4ms/step\n",
      "Accuracy: 0.9935\n",
      "Testing combination: (64, 64, 0.5, 16, 32, 5)\n",
      "Epoch 1/5\n"
     ]
    },
    {
     "name": "stderr",
     "output_type": "stream",
     "text": [
      "C:\\Users\\Administrator\\AppData\\Local\\Programs\\Python\\Python310\\lib\\site-packages\\keras\\src\\layers\\core\\embedding.py:90: UserWarning: Argument `input_length` is deprecated. Just remove it.\n",
      "  warnings.warn(\n"
     ]
    },
    {
     "name": "stdout",
     "output_type": "stream",
     "text": [
      "1094/1094 - 16s - 15ms/step - accuracy: 0.5527 - loss: 0.6771 - val_accuracy: 0.7299 - val_loss: 0.5899\n",
      "Epoch 2/5\n",
      "1094/1094 - 15s - 13ms/step - accuracy: 0.5488 - loss: 0.6740 - val_accuracy: 0.5054 - val_loss: 0.6902\n",
      "Epoch 3/5\n",
      "1094/1094 - 15s - 13ms/step - accuracy: 0.5018 - loss: 0.6892 - val_accuracy: 0.5067 - val_loss: 0.6885\n",
      "\u001b[1m342/342\u001b[0m \u001b[32m━━━━━━━━━━━━━━━━━━━━\u001b[0m\u001b[37m\u001b[0m \u001b[1m1s\u001b[0m 4ms/step\n",
      "Accuracy: 0.7279\n",
      "Testing combination: (64, 64, 0.5, 16, 32, 10)\n",
      "Epoch 1/10\n"
     ]
    },
    {
     "name": "stderr",
     "output_type": "stream",
     "text": [
      "C:\\Users\\Administrator\\AppData\\Local\\Programs\\Python\\Python310\\lib\\site-packages\\keras\\src\\layers\\core\\embedding.py:90: UserWarning: Argument `input_length` is deprecated. Just remove it.\n",
      "  warnings.warn(\n"
     ]
    },
    {
     "name": "stdout",
     "output_type": "stream",
     "text": [
      "1094/1094 - 15s - 14ms/step - accuracy: 0.5002 - loss: 0.6993 - val_accuracy: 0.4953 - val_loss: 0.6955\n",
      "Epoch 2/10\n",
      "1094/1094 - 14s - 13ms/step - accuracy: 0.4941 - loss: 0.6939 - val_accuracy: 0.4953 - val_loss: 0.6933\n",
      "Epoch 3/10\n",
      "1094/1094 - 14s - 13ms/step - accuracy: 0.4963 - loss: 0.6934 - val_accuracy: 0.5047 - val_loss: 0.6931\n",
      "Epoch 4/10\n",
      "1094/1094 - 14s - 13ms/step - accuracy: 0.5022 - loss: 0.6932 - val_accuracy: 0.5047 - val_loss: 0.6931\n",
      "Epoch 5/10\n",
      "1094/1094 - 14s - 13ms/step - accuracy: 0.4996 - loss: 0.6932 - val_accuracy: 0.5047 - val_loss: 0.6931\n",
      "Epoch 6/10\n",
      "1094/1094 - 14s - 13ms/step - accuracy: 0.5020 - loss: 0.6932 - val_accuracy: 0.5047 - val_loss: 0.6931\n",
      "\u001b[1m342/342\u001b[0m \u001b[32m━━━━━━━━━━━━━━━━━━━━\u001b[0m\u001b[37m\u001b[0m \u001b[1m1s\u001b[0m 4ms/step\n",
      "Accuracy: 0.4973\n",
      "Testing combination: (64, 64, 0.5, 16, 64, 5)\n",
      "Epoch 1/5\n"
     ]
    },
    {
     "name": "stderr",
     "output_type": "stream",
     "text": [
      "C:\\Users\\Administrator\\AppData\\Local\\Programs\\Python\\Python310\\lib\\site-packages\\keras\\src\\layers\\core\\embedding.py:90: UserWarning: Argument `input_length` is deprecated. Just remove it.\n",
      "  warnings.warn(\n"
     ]
    },
    {
     "name": "stdout",
     "output_type": "stream",
     "text": [
      "547/547 - 12s - 21ms/step - accuracy: 0.5044 - loss: 0.6923 - val_accuracy: 0.5163 - val_loss: 0.6848\n",
      "Epoch 2/5\n",
      "547/547 - 10s - 18ms/step - accuracy: 0.5384 - loss: 0.6853 - val_accuracy: 0.4953 - val_loss: 0.6938\n",
      "Epoch 3/5\n",
      "547/547 - 10s - 18ms/step - accuracy: 0.5001 - loss: 0.6933 - val_accuracy: 0.4953 - val_loss: 0.6932\n",
      "\u001b[1m342/342\u001b[0m \u001b[32m━━━━━━━━━━━━━━━━━━━━\u001b[0m\u001b[37m\u001b[0m \u001b[1m1s\u001b[0m 4ms/step\n",
      "Accuracy: 0.5179\n",
      "Testing combination: (64, 64, 0.5, 16, 64, 10)\n",
      "Epoch 1/10\n"
     ]
    },
    {
     "name": "stderr",
     "output_type": "stream",
     "text": [
      "C:\\Users\\Administrator\\AppData\\Local\\Programs\\Python\\Python310\\lib\\site-packages\\keras\\src\\layers\\core\\embedding.py:90: UserWarning: Argument `input_length` is deprecated. Just remove it.\n",
      "  warnings.warn(\n"
     ]
    },
    {
     "name": "stdout",
     "output_type": "stream",
     "text": [
      "547/547 - 11s - 20ms/step - accuracy: 0.5065 - loss: 0.6933 - val_accuracy: 0.5067 - val_loss: 0.6900\n",
      "Epoch 2/10\n",
      "547/547 - 10s - 18ms/step - accuracy: 0.5748 - loss: 0.6634 - val_accuracy: 0.7081 - val_loss: 0.5865\n",
      "Epoch 3/10\n",
      "547/547 - 10s - 18ms/step - accuracy: 0.7712 - loss: 0.5247 - val_accuracy: 0.9558 - val_loss: 0.1955\n",
      "Epoch 4/10\n",
      "547/547 - 10s - 18ms/step - accuracy: 0.9703 - loss: 0.1615 - val_accuracy: 0.9767 - val_loss: 0.1204\n",
      "Epoch 5/10\n",
      "547/547 - 10s - 18ms/step - accuracy: 0.9812 - loss: 0.1151 - val_accuracy: 0.9856 - val_loss: 0.0742\n",
      "Epoch 6/10\n",
      "547/547 - 10s - 18ms/step - accuracy: 0.9779 - loss: 0.1246 - val_accuracy: 0.9730 - val_loss: 0.1152\n",
      "Epoch 7/10\n",
      "547/547 - 10s - 18ms/step - accuracy: 0.9793 - loss: 0.1176 - val_accuracy: 0.9802 - val_loss: 0.0911\n",
      "\u001b[1m342/342\u001b[0m \u001b[32m━━━━━━━━━━━━━━━━━━━━\u001b[0m\u001b[37m\u001b[0m \u001b[1m1s\u001b[0m 4ms/step\n",
      "Accuracy: 0.9838\n",
      "Testing combination: (64, 64, 0.5, 32, 32, 5)\n",
      "Epoch 1/5\n"
     ]
    },
    {
     "name": "stderr",
     "output_type": "stream",
     "text": [
      "C:\\Users\\Administrator\\AppData\\Local\\Programs\\Python\\Python310\\lib\\site-packages\\keras\\src\\layers\\core\\embedding.py:90: UserWarning: Argument `input_length` is deprecated. Just remove it.\n",
      "  warnings.warn(\n"
     ]
    },
    {
     "name": "stdout",
     "output_type": "stream",
     "text": [
      "1094/1094 - 16s - 14ms/step - accuracy: 0.5042 - loss: 0.6960 - val_accuracy: 0.5047 - val_loss: 0.6931\n",
      "Epoch 2/5\n",
      "1094/1094 - 14s - 13ms/step - accuracy: 0.5002 - loss: 0.6938 - val_accuracy: 0.5001 - val_loss: 0.6931\n",
      "Epoch 3/5\n",
      "1094/1094 - 15s - 14ms/step - accuracy: 0.5073 - loss: 0.6933 - val_accuracy: 0.5047 - val_loss: 0.6931\n",
      "\u001b[1m342/342\u001b[0m \u001b[32m━━━━━━━━━━━━━━━━━━━━\u001b[0m\u001b[37m\u001b[0m \u001b[1m2s\u001b[0m 4ms/step\n",
      "Accuracy: 0.4973\n",
      "Testing combination: (64, 64, 0.5, 32, 32, 10)\n",
      "Epoch 1/10\n"
     ]
    },
    {
     "name": "stderr",
     "output_type": "stream",
     "text": [
      "C:\\Users\\Administrator\\AppData\\Local\\Programs\\Python\\Python310\\lib\\site-packages\\keras\\src\\layers\\core\\embedding.py:90: UserWarning: Argument `input_length` is deprecated. Just remove it.\n",
      "  warnings.warn(\n"
     ]
    },
    {
     "name": "stdout",
     "output_type": "stream",
     "text": [
      "1094/1094 - 17s - 15ms/step - accuracy: 0.5053 - loss: 0.6930 - val_accuracy: 0.5070 - val_loss: 0.6877\n",
      "Epoch 2/10\n",
      "1094/1094 - 15s - 14ms/step - accuracy: 0.5045 - loss: 0.6987 - val_accuracy: 0.4951 - val_loss: 0.6932\n",
      "Epoch 3/10\n",
      "1094/1094 - 15s - 14ms/step - accuracy: 0.4944 - loss: 0.6936 - val_accuracy: 0.5049 - val_loss: 0.6931\n",
      "\u001b[1m342/342\u001b[0m \u001b[32m━━━━━━━━━━━━━━━━━━━━\u001b[0m\u001b[37m\u001b[0m \u001b[1m2s\u001b[0m 4ms/step\n",
      "Accuracy: 0.5121\n",
      "Testing combination: (64, 64, 0.5, 32, 64, 5)\n",
      "Epoch 1/5\n"
     ]
    },
    {
     "name": "stderr",
     "output_type": "stream",
     "text": [
      "C:\\Users\\Administrator\\AppData\\Local\\Programs\\Python\\Python310\\lib\\site-packages\\keras\\src\\layers\\core\\embedding.py:90: UserWarning: Argument `input_length` is deprecated. Just remove it.\n",
      "  warnings.warn(\n"
     ]
    },
    {
     "name": "stdout",
     "output_type": "stream",
     "text": [
      "547/547 - 13s - 23ms/step - accuracy: 0.5014 - loss: 0.6964 - val_accuracy: 0.4951 - val_loss: 0.6932\n",
      "Epoch 2/5\n",
      "547/547 - 11s - 20ms/step - accuracy: 0.5093 - loss: 0.6937 - val_accuracy: 0.5457 - val_loss: 0.6835\n",
      "Epoch 3/5\n",
      "547/547 - 12s - 22ms/step - accuracy: 0.5572 - loss: 0.6748 - val_accuracy: 0.5814 - val_loss: 0.6565\n",
      "Epoch 4/5\n",
      "547/547 - 11s - 20ms/step - accuracy: 0.5911 - loss: 0.6553 - val_accuracy: 0.5936 - val_loss: 0.6454\n",
      "Epoch 5/5\n",
      "547/547 - 12s - 21ms/step - accuracy: 0.8783 - loss: 0.2405 - val_accuracy: 0.9891 - val_loss: 0.0379\n",
      "\u001b[1m342/342\u001b[0m \u001b[32m━━━━━━━━━━━━━━━━━━━━\u001b[0m\u001b[37m\u001b[0m \u001b[1m2s\u001b[0m 6ms/step\n",
      "Accuracy: 0.9892\n",
      "Testing combination: (64, 64, 0.5, 32, 64, 10)\n",
      "Epoch 1/10\n"
     ]
    },
    {
     "name": "stderr",
     "output_type": "stream",
     "text": [
      "C:\\Users\\Administrator\\AppData\\Local\\Programs\\Python\\Python310\\lib\\site-packages\\keras\\src\\layers\\core\\embedding.py:90: UserWarning: Argument `input_length` is deprecated. Just remove it.\n",
      "  warnings.warn(\n"
     ]
    },
    {
     "name": "stdout",
     "output_type": "stream",
     "text": [
      "547/547 - 13s - 24ms/step - accuracy: 0.4990 - loss: 0.6942 - val_accuracy: 0.5058 - val_loss: 0.6908\n",
      "Epoch 2/10\n",
      "547/547 - 12s - 21ms/step - accuracy: 0.5652 - loss: 0.6603 - val_accuracy: 0.7359 - val_loss: 0.5345\n",
      "Epoch 3/10\n",
      "547/547 - 12s - 22ms/step - accuracy: 0.7544 - loss: 0.5458 - val_accuracy: 0.7490 - val_loss: 0.5365\n",
      "Epoch 4/10\n",
      "547/547 - 12s - 22ms/step - accuracy: 0.7793 - loss: 0.5233 - val_accuracy: 0.8114 - val_loss: 0.4711\n",
      "Epoch 5/10\n",
      "547/547 - 12s - 22ms/step - accuracy: 0.8587 - loss: 0.4241 - val_accuracy: 0.8794 - val_loss: 0.3286\n",
      "Epoch 6/10\n",
      "547/547 - 12s - 22ms/step - accuracy: 0.8597 - loss: 0.3935 - val_accuracy: 0.7195 - val_loss: 0.5419\n",
      "Epoch 7/10\n",
      "547/547 - 12s - 22ms/step - accuracy: 0.7265 - loss: 0.5464 - val_accuracy: 0.7283 - val_loss: 0.5341\n",
      "\u001b[1m342/342\u001b[0m \u001b[32m━━━━━━━━━━━━━━━━━━━━\u001b[0m\u001b[37m\u001b[0m \u001b[1m2s\u001b[0m 6ms/step\n",
      "Accuracy: 0.8778\n",
      "Testing combination: (128, 32, 0.3, 16, 32, 5)\n",
      "Epoch 1/5\n"
     ]
    },
    {
     "name": "stderr",
     "output_type": "stream",
     "text": [
      "C:\\Users\\Administrator\\AppData\\Local\\Programs\\Python\\Python310\\lib\\site-packages\\keras\\src\\layers\\core\\embedding.py:90: UserWarning: Argument `input_length` is deprecated. Just remove it.\n",
      "  warnings.warn(\n"
     ]
    },
    {
     "name": "stdout",
     "output_type": "stream",
     "text": [
      "1094/1094 - 16s - 15ms/step - accuracy: 0.5047 - loss: 0.6917 - val_accuracy: 0.5066 - val_loss: 0.6870\n",
      "Epoch 2/5\n",
      "1094/1094 - 14s - 13ms/step - accuracy: 0.8845 - loss: 0.2342 - val_accuracy: 0.9935 - val_loss: 0.0235\n",
      "Epoch 3/5\n",
      "1094/1094 - 14s - 13ms/step - accuracy: 0.9910 - loss: 0.0478 - val_accuracy: 0.9899 - val_loss: 0.0333\n",
      "Epoch 4/5\n",
      "1094/1094 - 14s - 13ms/step - accuracy: 0.9941 - loss: 0.0260 - val_accuracy: 0.9937 - val_loss: 0.0259\n",
      "\u001b[1m342/342\u001b[0m \u001b[32m━━━━━━━━━━━━━━━━━━━━\u001b[0m\u001b[37m\u001b[0m \u001b[1m2s\u001b[0m 4ms/step\n",
      "Accuracy: 0.9938\n",
      "Testing combination: (128, 32, 0.3, 16, 32, 10)\n",
      "Epoch 1/10\n"
     ]
    },
    {
     "name": "stderr",
     "output_type": "stream",
     "text": [
      "C:\\Users\\Administrator\\AppData\\Local\\Programs\\Python\\Python310\\lib\\site-packages\\keras\\src\\layers\\core\\embedding.py:90: UserWarning: Argument `input_length` is deprecated. Just remove it.\n",
      "  warnings.warn(\n"
     ]
    },
    {
     "name": "stdout",
     "output_type": "stream",
     "text": [
      "1094/1094 - 16s - 14ms/step - accuracy: 0.5016 - loss: 0.6965 - val_accuracy: 0.5061 - val_loss: 0.6925\n",
      "Epoch 2/10\n",
      "1094/1094 - 14s - 13ms/step - accuracy: 0.5054 - loss: 0.6922 - val_accuracy: 0.5047 - val_loss: 0.6901\n",
      "Epoch 3/10\n",
      "1094/1094 - 14s - 13ms/step - accuracy: 0.7191 - loss: 0.4248 - val_accuracy: 0.9915 - val_loss: 0.0290\n",
      "Epoch 4/10\n",
      "1094/1094 - 14s - 13ms/step - accuracy: 0.9930 - loss: 0.0318 - val_accuracy: 0.9917 - val_loss: 0.0228\n",
      "Epoch 5/10\n",
      "1094/1094 - 14s - 13ms/step - accuracy: 0.9957 - loss: 0.0184 - val_accuracy: 0.9936 - val_loss: 0.0221\n",
      "Epoch 6/10\n",
      "1094/1094 - 14s - 13ms/step - accuracy: 0.9968 - loss: 0.0105 - val_accuracy: 0.9938 - val_loss: 0.0240\n",
      "Epoch 7/10\n",
      "1094/1094 - 14s - 13ms/step - accuracy: 0.9978 - loss: 0.0066 - val_accuracy: 0.9943 - val_loss: 0.0254\n",
      "\u001b[1m342/342\u001b[0m \u001b[32m━━━━━━━━━━━━━━━━━━━━\u001b[0m\u001b[37m\u001b[0m \u001b[1m1s\u001b[0m 4ms/step\n",
      "Accuracy: 0.9941\n",
      "Testing combination: (128, 32, 0.3, 16, 64, 5)\n",
      "Epoch 1/5\n"
     ]
    },
    {
     "name": "stderr",
     "output_type": "stream",
     "text": [
      "C:\\Users\\Administrator\\AppData\\Local\\Programs\\Python\\Python310\\lib\\site-packages\\keras\\src\\layers\\core\\embedding.py:90: UserWarning: Argument `input_length` is deprecated. Just remove it.\n",
      "  warnings.warn(\n"
     ]
    },
    {
     "name": "stdout",
     "output_type": "stream",
     "text": [
      "547/547 - 11s - 21ms/step - accuracy: 0.5084 - loss: 0.6985 - val_accuracy: 0.5047 - val_loss: 0.6952\n",
      "Epoch 2/5\n",
      "547/547 - 9s - 17ms/step - accuracy: 0.4991 - loss: 0.6944 - val_accuracy: 0.4963 - val_loss: 0.6931\n",
      "Epoch 3/5\n",
      "547/547 - 9s - 17ms/step - accuracy: 0.5022 - loss: 0.6932 - val_accuracy: 0.5047 - val_loss: 0.6920\n",
      "Epoch 4/5\n",
      "547/547 - 9s - 17ms/step - accuracy: 0.6103 - loss: 0.5784 - val_accuracy: 0.9775 - val_loss: 0.0841\n",
      "Epoch 5/5\n",
      "547/547 - 9s - 17ms/step - accuracy: 0.9905 - loss: 0.0409 - val_accuracy: 0.9942 - val_loss: 0.0249\n",
      "\u001b[1m342/342\u001b[0m \u001b[32m━━━━━━━━━━━━━━━━━━━━\u001b[0m\u001b[37m\u001b[0m \u001b[1m2s\u001b[0m 4ms/step\n",
      "Accuracy: 0.9949\n",
      "Testing combination: (128, 32, 0.3, 16, 64, 10)\n",
      "Epoch 1/10\n"
     ]
    },
    {
     "name": "stderr",
     "output_type": "stream",
     "text": [
      "C:\\Users\\Administrator\\AppData\\Local\\Programs\\Python\\Python310\\lib\\site-packages\\keras\\src\\layers\\core\\embedding.py:90: UserWarning: Argument `input_length` is deprecated. Just remove it.\n",
      "  warnings.warn(\n"
     ]
    },
    {
     "name": "stdout",
     "output_type": "stream",
     "text": [
      "547/547 - 11s - 20ms/step - accuracy: 0.5037 - loss: 0.6923 - val_accuracy: 0.5047 - val_loss: 0.6879\n",
      "Epoch 2/10\n",
      "547/547 - 9s - 17ms/step - accuracy: 0.6857 - loss: 0.5579 - val_accuracy: 0.8929 - val_loss: 0.3321\n",
      "Epoch 3/10\n",
      "547/547 - 9s - 17ms/step - accuracy: 0.6334 - loss: 0.5963 - val_accuracy: 0.5996 - val_loss: 0.6161\n",
      "Epoch 4/10\n",
      "547/547 - 9s - 17ms/step - accuracy: 0.6119 - loss: 0.6115 - val_accuracy: 0.6165 - val_loss: 0.6032\n",
      "\u001b[1m342/342\u001b[0m \u001b[32m━━━━━━━━━━━━━━━━━━━━\u001b[0m\u001b[37m\u001b[0m \u001b[1m1s\u001b[0m 4ms/step\n",
      "Accuracy: 0.8898\n",
      "Testing combination: (128, 32, 0.3, 32, 32, 5)\n",
      "Epoch 1/5\n"
     ]
    },
    {
     "name": "stderr",
     "output_type": "stream",
     "text": [
      "C:\\Users\\Administrator\\AppData\\Local\\Programs\\Python\\Python310\\lib\\site-packages\\keras\\src\\layers\\core\\embedding.py:90: UserWarning: Argument `input_length` is deprecated. Just remove it.\n",
      "  warnings.warn(\n"
     ]
    },
    {
     "name": "stdout",
     "output_type": "stream",
     "text": [
      "1094/1094 - 16s - 14ms/step - accuracy: 0.6409 - loss: 0.5995 - val_accuracy: 0.7645 - val_loss: 0.5021\n",
      "Epoch 2/5\n",
      "1094/1094 - 14s - 13ms/step - accuracy: 0.8106 - loss: 0.4631 - val_accuracy: 0.8795 - val_loss: 0.3590\n",
      "Epoch 3/5\n",
      "1094/1094 - 14s - 12ms/step - accuracy: 0.7073 - loss: 0.5317 - val_accuracy: 0.6813 - val_loss: 0.5534\n",
      "Epoch 4/5\n",
      "1094/1094 - 14s - 13ms/step - accuracy: 0.7403 - loss: 0.5068 - val_accuracy: 0.8214 - val_loss: 0.4275\n",
      "\u001b[1m342/342\u001b[0m \u001b[32m━━━━━━━━━━━━━━━━━━━━\u001b[0m\u001b[37m\u001b[0m \u001b[1m1s\u001b[0m 4ms/step\n",
      "Accuracy: 0.8726\n",
      "Testing combination: (128, 32, 0.3, 32, 32, 10)\n",
      "Epoch 1/10\n"
     ]
    },
    {
     "name": "stderr",
     "output_type": "stream",
     "text": [
      "C:\\Users\\Administrator\\AppData\\Local\\Programs\\Python\\Python310\\lib\\site-packages\\keras\\src\\layers\\core\\embedding.py:90: UserWarning: Argument `input_length` is deprecated. Just remove it.\n",
      "  warnings.warn(\n"
     ]
    },
    {
     "name": "stdout",
     "output_type": "stream",
     "text": [
      "1094/1094 - 16s - 14ms/step - accuracy: 0.5787 - loss: 0.6482 - val_accuracy: 0.5599 - val_loss: 0.6492\n",
      "Epoch 2/10\n",
      "1094/1094 - 14s - 13ms/step - accuracy: 0.6836 - loss: 0.5659 - val_accuracy: 0.7705 - val_loss: 0.4934\n",
      "Epoch 3/10\n",
      "1094/1094 - 14s - 13ms/step - accuracy: 0.8017 - loss: 0.4643 - val_accuracy: 0.8111 - val_loss: 0.4387\n",
      "Epoch 4/10\n",
      "1094/1094 - 14s - 13ms/step - accuracy: 0.8997 - loss: 0.2350 - val_accuracy: 0.9925 - val_loss: 0.0310\n",
      "Epoch 5/10\n",
      "1094/1094 - 14s - 13ms/step - accuracy: 0.9939 - loss: 0.0321 - val_accuracy: 0.9934 - val_loss: 0.0326\n",
      "Epoch 6/10\n",
      "1094/1094 - 14s - 13ms/step - accuracy: 0.9951 - loss: 0.0258 - val_accuracy: 0.9934 - val_loss: 0.0265\n",
      "Epoch 7/10\n",
      "1094/1094 - 14s - 13ms/step - accuracy: 0.9957 - loss: 0.0243 - val_accuracy: 0.9941 - val_loss: 0.0265\n",
      "Epoch 8/10\n",
      "1094/1094 - 14s - 13ms/step - accuracy: 0.9961 - loss: 0.0228 - val_accuracy: 0.9943 - val_loss: 0.0270\n",
      "\u001b[1m342/342\u001b[0m \u001b[32m━━━━━━━━━━━━━━━━━━━━\u001b[0m\u001b[37m\u001b[0m \u001b[1m1s\u001b[0m 4ms/step\n",
      "Accuracy: 0.9936\n",
      "Testing combination: (128, 32, 0.3, 32, 64, 5)\n",
      "Epoch 1/5\n"
     ]
    },
    {
     "name": "stderr",
     "output_type": "stream",
     "text": [
      "C:\\Users\\Administrator\\AppData\\Local\\Programs\\Python\\Python310\\lib\\site-packages\\keras\\src\\layers\\core\\embedding.py:90: UserWarning: Argument `input_length` is deprecated. Just remove it.\n",
      "  warnings.warn(\n"
     ]
    },
    {
     "name": "stdout",
     "output_type": "stream",
     "text": [
      "547/547 - 11s - 21ms/step - accuracy: 0.5041 - loss: 0.6916 - val_accuracy: 0.5060 - val_loss: 0.6878\n",
      "Epoch 2/5\n",
      "547/547 - 9s - 17ms/step - accuracy: 0.6169 - loss: 0.5649 - val_accuracy: 0.9909 - val_loss: 0.0416\n",
      "Epoch 3/5\n",
      "547/547 - 9s - 17ms/step - accuracy: 0.9910 - loss: 0.0421 - val_accuracy: 0.9931 - val_loss: 0.0205\n",
      "Epoch 4/5\n",
      "547/547 - 9s - 17ms/step - accuracy: 0.9949 - loss: 0.0194 - val_accuracy: 0.9931 - val_loss: 0.0197\n",
      "Epoch 5/5\n",
      "547/547 - 9s - 17ms/step - accuracy: 0.9972 - loss: 0.0089 - val_accuracy: 0.9934 - val_loss: 0.0272\n",
      "\u001b[1m342/342\u001b[0m \u001b[32m━━━━━━━━━━━━━━━━━━━━\u001b[0m\u001b[37m\u001b[0m \u001b[1m2s\u001b[0m 4ms/step\n",
      "Accuracy: 0.9935\n",
      "Testing combination: (128, 32, 0.3, 32, 64, 10)\n",
      "Epoch 1/10\n"
     ]
    },
    {
     "name": "stderr",
     "output_type": "stream",
     "text": [
      "C:\\Users\\Administrator\\AppData\\Local\\Programs\\Python\\Python310\\lib\\site-packages\\keras\\src\\layers\\core\\embedding.py:90: UserWarning: Argument `input_length` is deprecated. Just remove it.\n",
      "  warnings.warn(\n"
     ]
    },
    {
     "name": "stdout",
     "output_type": "stream",
     "text": [
      "547/547 - 11s - 19ms/step - accuracy: 0.5074 - loss: 0.6917 - val_accuracy: 0.5051 - val_loss: 0.6872\n",
      "Epoch 2/10\n",
      "547/547 - 9s - 16ms/step - accuracy: 0.6128 - loss: 0.6107 - val_accuracy: 0.7256 - val_loss: 0.5200\n",
      "Epoch 3/10\n",
      "547/547 - 9s - 16ms/step - accuracy: 0.8330 - loss: 0.4359 - val_accuracy: 0.8880 - val_loss: 0.3518\n",
      "Epoch 4/10\n",
      "547/547 - 9s - 17ms/step - accuracy: 0.8916 - loss: 0.3476 - val_accuracy: 0.8904 - val_loss: 0.3259\n",
      "Epoch 5/10\n",
      "547/547 - 9s - 17ms/step - accuracy: 0.9046 - loss: 0.3022 - val_accuracy: 0.9166 - val_loss: 0.2758\n",
      "Epoch 6/10\n",
      "547/547 - 9s - 17ms/step - accuracy: 0.8813 - loss: 0.3288 - val_accuracy: 0.5042 - val_loss: 0.6928\n",
      "Epoch 7/10\n",
      "547/547 - 9s - 17ms/step - accuracy: 0.5048 - loss: 0.6887 - val_accuracy: 0.5086 - val_loss: 0.6892\n",
      "\u001b[1m342/342\u001b[0m \u001b[32m━━━━━━━━━━━━━━━━━━━━\u001b[0m\u001b[37m\u001b[0m \u001b[1m1s\u001b[0m 4ms/step\n",
      "Accuracy: 0.9120\n",
      "Testing combination: (128, 32, 0.5, 16, 32, 5)\n",
      "Epoch 1/5\n"
     ]
    },
    {
     "name": "stderr",
     "output_type": "stream",
     "text": [
      "C:\\Users\\Administrator\\AppData\\Local\\Programs\\Python\\Python310\\lib\\site-packages\\keras\\src\\layers\\core\\embedding.py:90: UserWarning: Argument `input_length` is deprecated. Just remove it.\n",
      "  warnings.warn(\n"
     ]
    },
    {
     "name": "stdout",
     "output_type": "stream",
     "text": [
      "1094/1094 - 15s - 14ms/step - accuracy: 0.5072 - loss: 0.6943 - val_accuracy: 0.5059 - val_loss: 0.6923\n",
      "Epoch 2/5\n",
      "1094/1094 - 13s - 12ms/step - accuracy: 0.4958 - loss: 0.6908 - val_accuracy: 0.5071 - val_loss: 0.6876\n",
      "Epoch 3/5\n",
      "1094/1094 - 14s - 12ms/step - accuracy: 0.7393 - loss: 0.4075 - val_accuracy: 0.9926 - val_loss: 0.0265\n",
      "Epoch 4/5\n",
      "1094/1094 - 14s - 13ms/step - accuracy: 0.9926 - loss: 0.0446 - val_accuracy: 0.9934 - val_loss: 0.0249\n",
      "Epoch 5/5\n",
      "1094/1094 - 14s - 13ms/step - accuracy: 0.9944 - loss: 0.0300 - val_accuracy: 0.9934 - val_loss: 0.0187\n",
      "\u001b[1m342/342\u001b[0m \u001b[32m━━━━━━━━━━━━━━━━━━━━\u001b[0m\u001b[37m\u001b[0m \u001b[1m1s\u001b[0m 4ms/step\n",
      "Accuracy: 0.9931\n",
      "Testing combination: (128, 32, 0.5, 16, 32, 10)\n",
      "Epoch 1/10\n"
     ]
    },
    {
     "name": "stderr",
     "output_type": "stream",
     "text": [
      "C:\\Users\\Administrator\\AppData\\Local\\Programs\\Python\\Python310\\lib\\site-packages\\keras\\src\\layers\\core\\embedding.py:90: UserWarning: Argument `input_length` is deprecated. Just remove it.\n",
      "  warnings.warn(\n"
     ]
    },
    {
     "name": "stdout",
     "output_type": "stream",
     "text": [
      "1094/1094 - 15s - 14ms/step - accuracy: 0.5453 - loss: 0.6731 - val_accuracy: 0.4959 - val_loss: 0.6938\n",
      "Epoch 2/10\n",
      "1094/1094 - 14s - 12ms/step - accuracy: 0.5043 - loss: 0.6934 - val_accuracy: 0.5074 - val_loss: 0.6906\n",
      "Epoch 3/10\n",
      "1094/1094 - 14s - 13ms/step - accuracy: 0.5046 - loss: 0.6898 - val_accuracy: 0.5180 - val_loss: 0.6855\n",
      "Epoch 4/10\n",
      "1094/1094 - 14s - 12ms/step - accuracy: 0.9318 - loss: 0.1584 - val_accuracy: 0.9937 - val_loss: 0.0242\n",
      "Epoch 5/10\n",
      "1094/1094 - 14s - 12ms/step - accuracy: 0.9912 - loss: 0.0499 - val_accuracy: 0.9943 - val_loss: 0.0260\n",
      "Epoch 6/10\n",
      "1094/1094 - 14s - 12ms/step - accuracy: 0.9947 - loss: 0.0325 - val_accuracy: 0.9945 - val_loss: 0.0215\n",
      "Epoch 7/10\n",
      "1094/1094 - 14s - 13ms/step - accuracy: 0.9971 - loss: 0.0201 - val_accuracy: 0.9918 - val_loss: 0.0310\n",
      "Epoch 8/10\n",
      "1094/1094 - 14s - 13ms/step - accuracy: 0.9975 - loss: 0.0175 - val_accuracy: 0.9943 - val_loss: 0.0260\n",
      "\u001b[1m342/342\u001b[0m \u001b[32m━━━━━━━━━━━━━━━━━━━━\u001b[0m\u001b[37m\u001b[0m \u001b[1m1s\u001b[0m 4ms/step\n",
      "Accuracy: 0.9937\n",
      "Testing combination: (128, 32, 0.5, 16, 64, 5)\n",
      "Epoch 1/5\n"
     ]
    },
    {
     "name": "stderr",
     "output_type": "stream",
     "text": [
      "C:\\Users\\Administrator\\AppData\\Local\\Programs\\Python\\Python310\\lib\\site-packages\\keras\\src\\layers\\core\\embedding.py:90: UserWarning: Argument `input_length` is deprecated. Just remove it.\n",
      "  warnings.warn(\n"
     ]
    },
    {
     "name": "stdout",
     "output_type": "stream",
     "text": [
      "547/547 - 12s - 21ms/step - accuracy: 0.5033 - loss: 0.6934 - val_accuracy: 0.5065 - val_loss: 0.6920\n",
      "Epoch 2/5\n",
      "547/547 - 10s - 18ms/step - accuracy: 0.4997 - loss: 0.6921 - val_accuracy: 0.5078 - val_loss: 0.6892\n",
      "Epoch 3/5\n",
      "547/547 - 10s - 18ms/step - accuracy: 0.5077 - loss: 0.6882 - val_accuracy: 0.5203 - val_loss: 0.6795\n",
      "Epoch 4/5\n",
      "547/547 - 10s - 18ms/step - accuracy: 0.9154 - loss: 0.1991 - val_accuracy: 0.9926 - val_loss: 0.0345\n",
      "Epoch 5/5\n",
      "547/547 - 10s - 18ms/step - accuracy: 0.9870 - loss: 0.0527 - val_accuracy: 0.9938 - val_loss: 0.0261\n",
      "\u001b[1m342/342\u001b[0m \u001b[32m━━━━━━━━━━━━━━━━━━━━\u001b[0m\u001b[37m\u001b[0m \u001b[1m2s\u001b[0m 4ms/step\n",
      "Accuracy: 0.9939\n",
      "Testing combination: (128, 32, 0.5, 16, 64, 10)\n",
      "Epoch 1/10\n"
     ]
    },
    {
     "name": "stderr",
     "output_type": "stream",
     "text": [
      "C:\\Users\\Administrator\\AppData\\Local\\Programs\\Python\\Python310\\lib\\site-packages\\keras\\src\\layers\\core\\embedding.py:90: UserWarning: Argument `input_length` is deprecated. Just remove it.\n",
      "  warnings.warn(\n"
     ]
    },
    {
     "name": "stdout",
     "output_type": "stream",
     "text": [
      "547/547 - 11s - 20ms/step - accuracy: 0.5000 - loss: 0.6929 - val_accuracy: 0.5043 - val_loss: 0.6902\n",
      "Epoch 2/10\n",
      "547/547 - 9s - 17ms/step - accuracy: 0.5082 - loss: 0.6887 - val_accuracy: 0.5534 - val_loss: 0.6692\n",
      "Epoch 3/10\n",
      "547/547 - 9s - 17ms/step - accuracy: 0.9392 - loss: 0.1790 - val_accuracy: 0.9914 - val_loss: 0.0326\n",
      "Epoch 4/10\n",
      "547/547 - 9s - 17ms/step - accuracy: 0.9925 - loss: 0.0409 - val_accuracy: 0.9942 - val_loss: 0.0229\n",
      "Epoch 5/10\n",
      "547/547 - 9s - 17ms/step - accuracy: 0.9947 - loss: 0.0248 - val_accuracy: 0.9933 - val_loss: 0.0204\n",
      "Epoch 6/10\n",
      "547/547 - 9s - 17ms/step - accuracy: 0.9969 - loss: 0.0138 - val_accuracy: 0.9776 - val_loss: 0.0896\n",
      "Epoch 7/10\n",
      "547/547 - 9s - 17ms/step - accuracy: 0.9962 - loss: 0.0134 - val_accuracy: 0.9919 - val_loss: 0.0395\n",
      "\u001b[1m342/342\u001b[0m \u001b[32m━━━━━━━━━━━━━━━━━━━━\u001b[0m\u001b[37m\u001b[0m \u001b[1m1s\u001b[0m 4ms/step\n",
      "Accuracy: 0.9930\n",
      "Testing combination: (128, 32, 0.5, 32, 32, 5)\n",
      "Epoch 1/5\n"
     ]
    },
    {
     "name": "stderr",
     "output_type": "stream",
     "text": [
      "C:\\Users\\Administrator\\AppData\\Local\\Programs\\Python\\Python310\\lib\\site-packages\\keras\\src\\layers\\core\\embedding.py:90: UserWarning: Argument `input_length` is deprecated. Just remove it.\n",
      "  warnings.warn(\n"
     ]
    },
    {
     "name": "stdout",
     "output_type": "stream",
     "text": [
      "1094/1094 - 15s - 14ms/step - accuracy: 0.5038 - loss: 0.6929 - val_accuracy: 0.5239 - val_loss: 0.6823\n",
      "Epoch 2/5\n",
      "1094/1094 - 14s - 13ms/step - accuracy: 0.5388 - loss: 0.6688 - val_accuracy: 0.5071 - val_loss: 0.6904\n",
      "Epoch 3/5\n",
      "1094/1094 - 14s - 13ms/step - accuracy: 0.5622 - loss: 0.6384 - val_accuracy: 0.9866 - val_loss: 0.0560\n",
      "Epoch 4/5\n",
      "1094/1094 - 14s - 13ms/step - accuracy: 0.9918 - loss: 0.0452 - val_accuracy: 0.9934 - val_loss: 0.0269\n",
      "Epoch 5/5\n",
      "1094/1094 - 14s - 13ms/step - accuracy: 0.9947 - loss: 0.0292 - val_accuracy: 0.9929 - val_loss: 0.0255\n",
      "\u001b[1m342/342\u001b[0m \u001b[32m━━━━━━━━━━━━━━━━━━━━\u001b[0m\u001b[37m\u001b[0m \u001b[1m1s\u001b[0m 4ms/step\n",
      "Accuracy: 0.9931\n",
      "Testing combination: (128, 32, 0.5, 32, 32, 10)\n",
      "Epoch 1/10\n"
     ]
    },
    {
     "name": "stderr",
     "output_type": "stream",
     "text": [
      "C:\\Users\\Administrator\\AppData\\Local\\Programs\\Python\\Python310\\lib\\site-packages\\keras\\src\\layers\\core\\embedding.py:90: UserWarning: Argument `input_length` is deprecated. Just remove it.\n",
      "  warnings.warn(\n"
     ]
    },
    {
     "name": "stdout",
     "output_type": "stream",
     "text": [
      "1094/1094 - 15s - 14ms/step - accuracy: 0.5006 - loss: 0.6918 - val_accuracy: 0.5045 - val_loss: 0.6880\n",
      "Epoch 2/10\n",
      "1094/1094 - 14s - 13ms/step - accuracy: 0.6856 - loss: 0.4765 - val_accuracy: 0.9931 - val_loss: 0.0309\n",
      "Epoch 3/10\n",
      "1094/1094 - 14s - 13ms/step - accuracy: 0.9929 - loss: 0.0408 - val_accuracy: 0.9936 - val_loss: 0.0276\n",
      "Epoch 4/10\n",
      "1094/1094 - 14s - 13ms/step - accuracy: 0.9951 - loss: 0.0209 - val_accuracy: 0.9942 - val_loss: 0.0317\n",
      "Epoch 5/10\n",
      "1094/1094 - 14s - 13ms/step - accuracy: 0.9967 - loss: 0.0128 - val_accuracy: 0.9934 - val_loss: 0.0304\n",
      "\u001b[1m342/342\u001b[0m \u001b[32m━━━━━━━━━━━━━━━━━━━━\u001b[0m\u001b[37m\u001b[0m \u001b[1m1s\u001b[0m 4ms/step\n",
      "Accuracy: 0.9941\n",
      "Testing combination: (128, 32, 0.5, 32, 64, 5)\n",
      "Epoch 1/5\n"
     ]
    },
    {
     "name": "stderr",
     "output_type": "stream",
     "text": [
      "C:\\Users\\Administrator\\AppData\\Local\\Programs\\Python\\Python310\\lib\\site-packages\\keras\\src\\layers\\core\\embedding.py:90: UserWarning: Argument `input_length` is deprecated. Just remove it.\n",
      "  warnings.warn(\n"
     ]
    },
    {
     "name": "stdout",
     "output_type": "stream",
     "text": [
      "547/547 - 12s - 21ms/step - accuracy: 0.5014 - loss: 0.6933 - val_accuracy: 0.5098 - val_loss: 0.6890\n",
      "Epoch 2/5\n",
      "547/547 - 10s - 18ms/step - accuracy: 0.5059 - loss: 0.6889 - val_accuracy: 0.5458 - val_loss: 0.6712\n",
      "Epoch 3/5\n",
      "547/547 - 10s - 18ms/step - accuracy: 0.8118 - loss: 0.3437 - val_accuracy: 0.9938 - val_loss: 0.0292\n",
      "Epoch 4/5\n",
      "547/547 - 10s - 17ms/step - accuracy: 0.9937 - loss: 0.0412 - val_accuracy: 0.9937 - val_loss: 0.0276\n",
      "Epoch 5/5\n",
      "547/547 - 10s - 18ms/step - accuracy: 0.9955 - loss: 0.0275 - val_accuracy: 0.9938 - val_loss: 0.0311\n",
      "\u001b[1m342/342\u001b[0m \u001b[32m━━━━━━━━━━━━━━━━━━━━\u001b[0m\u001b[37m\u001b[0m \u001b[1m2s\u001b[0m 4ms/step\n",
      "Accuracy: 0.9948\n",
      "Testing combination: (128, 32, 0.5, 32, 64, 10)\n",
      "Epoch 1/10\n"
     ]
    },
    {
     "name": "stderr",
     "output_type": "stream",
     "text": [
      "C:\\Users\\Administrator\\AppData\\Local\\Programs\\Python\\Python310\\lib\\site-packages\\keras\\src\\layers\\core\\embedding.py:90: UserWarning: Argument `input_length` is deprecated. Just remove it.\n",
      "  warnings.warn(\n"
     ]
    },
    {
     "name": "stdout",
     "output_type": "stream",
     "text": [
      "547/547 - 11s - 20ms/step - accuracy: 0.5020 - loss: 0.6930 - val_accuracy: 0.5043 - val_loss: 0.6902\n",
      "Epoch 2/10\n",
      "547/547 - 9s - 17ms/step - accuracy: 0.5418 - loss: 0.6784 - val_accuracy: 0.7483 - val_loss: 0.6540\n",
      "Epoch 3/10\n",
      "547/547 - 9s - 17ms/step - accuracy: 0.9724 - loss: 0.1053 - val_accuracy: 0.9941 - val_loss: 0.0292\n",
      "Epoch 4/10\n",
      "547/547 - 9s - 17ms/step - accuracy: 0.9948 - loss: 0.0339 - val_accuracy: 0.9942 - val_loss: 0.0281\n",
      "Epoch 5/10\n",
      "547/547 - 9s - 17ms/step - accuracy: 0.9953 - loss: 0.0292 - val_accuracy: 0.9939 - val_loss: 0.0303\n",
      "Epoch 6/10\n",
      "547/547 - 9s - 17ms/step - accuracy: 0.9961 - loss: 0.0240 - val_accuracy: 0.9936 - val_loss: 0.0405\n",
      "\u001b[1m342/342\u001b[0m \u001b[32m━━━━━━━━━━━━━━━━━━━━\u001b[0m\u001b[37m\u001b[0m \u001b[1m1s\u001b[0m 4ms/step\n",
      "Accuracy: 0.9934\n",
      "Testing combination: (128, 64, 0.3, 16, 32, 5)\n",
      "Epoch 1/5\n"
     ]
    },
    {
     "name": "stderr",
     "output_type": "stream",
     "text": [
      "C:\\Users\\Administrator\\AppData\\Local\\Programs\\Python\\Python310\\lib\\site-packages\\keras\\src\\layers\\core\\embedding.py:90: UserWarning: Argument `input_length` is deprecated. Just remove it.\n",
      "  warnings.warn(\n"
     ]
    },
    {
     "name": "stdout",
     "output_type": "stream",
     "text": [
      "1094/1094 - 19s - 17ms/step - accuracy: 0.5029 - loss: 0.6961 - val_accuracy: 0.5059 - val_loss: 0.6928\n",
      "Epoch 2/5\n",
      "1094/1094 - 17s - 16ms/step - accuracy: 0.5077 - loss: 0.6926 - val_accuracy: 0.5058 - val_loss: 0.6924\n",
      "Epoch 3/5\n",
      "1094/1094 - 18s - 16ms/step - accuracy: 0.8133 - loss: 0.3011 - val_accuracy: 0.9921 - val_loss: 0.0233\n",
      "Epoch 4/5\n",
      "1094/1094 - 18s - 16ms/step - accuracy: 0.9944 - loss: 0.0251 - val_accuracy: 0.9949 - val_loss: 0.0189\n",
      "Epoch 5/5\n",
      "1094/1094 - 18s - 16ms/step - accuracy: 0.9974 - loss: 0.0116 - val_accuracy: 0.9943 - val_loss: 0.0182\n",
      "\u001b[1m342/342\u001b[0m \u001b[32m━━━━━━━━━━━━━━━━━━━━\u001b[0m\u001b[37m\u001b[0m \u001b[1m2s\u001b[0m 5ms/step\n",
      "Accuracy: 0.9952\n",
      "Testing combination: (128, 64, 0.3, 16, 32, 10)\n",
      "Epoch 1/10\n"
     ]
    },
    {
     "name": "stderr",
     "output_type": "stream",
     "text": [
      "C:\\Users\\Administrator\\AppData\\Local\\Programs\\Python\\Python310\\lib\\site-packages\\keras\\src\\layers\\core\\embedding.py:90: UserWarning: Argument `input_length` is deprecated. Just remove it.\n",
      "  warnings.warn(\n"
     ]
    },
    {
     "name": "stdout",
     "output_type": "stream",
     "text": [
      "1094/1094 - 19s - 18ms/step - accuracy: 0.5053 - loss: 0.6923 - val_accuracy: 0.5084 - val_loss: 0.6893\n",
      "Epoch 2/10\n",
      "1094/1094 - 18s - 16ms/step - accuracy: 0.5438 - loss: 0.6730 - val_accuracy: 0.5054 - val_loss: 0.6885\n",
      "Epoch 3/10\n",
      "1094/1094 - 18s - 16ms/step - accuracy: 0.8551 - loss: 0.2391 - val_accuracy: 0.9928 - val_loss: 0.0214\n",
      "Epoch 4/10\n",
      "1094/1094 - 18s - 16ms/step - accuracy: 0.9935 - loss: 0.0240 - val_accuracy: 0.9943 - val_loss: 0.0148\n",
      "Epoch 5/10\n",
      "1094/1094 - 17s - 16ms/step - accuracy: 0.9940 - loss: 0.0189 - val_accuracy: 0.9926 - val_loss: 0.0243\n",
      "Epoch 6/10\n",
      "1094/1094 - 17s - 16ms/step - accuracy: 0.9971 - loss: 0.0077 - val_accuracy: 0.9944 - val_loss: 0.0204\n",
      "\u001b[1m342/342\u001b[0m \u001b[32m━━━━━━━━━━━━━━━━━━━━\u001b[0m\u001b[37m\u001b[0m \u001b[1m2s\u001b[0m 5ms/step\n",
      "Accuracy: 0.9951\n",
      "Testing combination: (128, 64, 0.3, 16, 64, 5)\n",
      "Epoch 1/5\n"
     ]
    },
    {
     "name": "stderr",
     "output_type": "stream",
     "text": [
      "C:\\Users\\Administrator\\AppData\\Local\\Programs\\Python\\Python310\\lib\\site-packages\\keras\\src\\layers\\core\\embedding.py:90: UserWarning: Argument `input_length` is deprecated. Just remove it.\n",
      "  warnings.warn(\n"
     ]
    },
    {
     "name": "stdout",
     "output_type": "stream",
     "text": [
      "547/547 - 14s - 25ms/step - accuracy: 0.5137 - loss: 0.6836 - val_accuracy: 0.5613 - val_loss: 0.6474\n",
      "Epoch 2/5\n",
      "547/547 - 11s - 21ms/step - accuracy: 0.5823 - loss: 0.6417 - val_accuracy: 0.5774 - val_loss: 0.6375\n",
      "Epoch 3/5\n",
      "547/547 - 11s - 21ms/step - accuracy: 0.6081 - loss: 0.6280 - val_accuracy: 0.4970 - val_loss: 0.6710\n",
      "Epoch 4/5\n",
      "547/547 - 11s - 20ms/step - accuracy: 0.6245 - loss: 0.6239 - val_accuracy: 0.4953 - val_loss: 0.6937\n",
      "\u001b[1m342/342\u001b[0m \u001b[32m━━━━━━━━━━━━━━━━━━━━\u001b[0m\u001b[37m\u001b[0m \u001b[1m2s\u001b[0m 4ms/step\n",
      "Accuracy: 0.5833\n",
      "Testing combination: (128, 64, 0.3, 16, 64, 10)\n",
      "Epoch 1/10\n"
     ]
    },
    {
     "name": "stderr",
     "output_type": "stream",
     "text": [
      "C:\\Users\\Administrator\\AppData\\Local\\Programs\\Python\\Python310\\lib\\site-packages\\keras\\src\\layers\\core\\embedding.py:90: UserWarning: Argument `input_length` is deprecated. Just remove it.\n",
      "  warnings.warn(\n"
     ]
    },
    {
     "name": "stdout",
     "output_type": "stream",
     "text": [
      "547/547 - 12s - 22ms/step - accuracy: 0.5044 - loss: 0.6958 - val_accuracy: 0.4953 - val_loss: 0.6932\n",
      "Epoch 2/10\n",
      "547/547 - 11s - 20ms/step - accuracy: 0.4987 - loss: 0.6934 - val_accuracy: 0.4953 - val_loss: 0.6932\n",
      "Epoch 3/10\n",
      "547/547 - 11s - 21ms/step - accuracy: 0.4984 - loss: 0.6931 - val_accuracy: 0.5047 - val_loss: 0.6931\n",
      "Epoch 4/10\n",
      "547/547 - 11s - 20ms/step - accuracy: 0.5023 - loss: 0.6932 - val_accuracy: 0.4953 - val_loss: 0.6932\n",
      "Epoch 5/10\n",
      "547/547 - 11s - 20ms/step - accuracy: 0.4996 - loss: 0.6932 - val_accuracy: 0.4953 - val_loss: 0.6932\n",
      "\u001b[1m342/342\u001b[0m \u001b[32m━━━━━━━━━━━━━━━━━━━━\u001b[0m\u001b[37m\u001b[0m \u001b[1m2s\u001b[0m 5ms/step\n",
      "Accuracy: 0.4973\n",
      "Testing combination: (128, 64, 0.3, 32, 32, 5)\n",
      "Epoch 1/5\n"
     ]
    },
    {
     "name": "stderr",
     "output_type": "stream",
     "text": [
      "C:\\Users\\Administrator\\AppData\\Local\\Programs\\Python\\Python310\\lib\\site-packages\\keras\\src\\layers\\core\\embedding.py:90: UserWarning: Argument `input_length` is deprecated. Just remove it.\n",
      "  warnings.warn(\n"
     ]
    },
    {
     "name": "stdout",
     "output_type": "stream",
     "text": [
      "1094/1094 - 18s - 17ms/step - accuracy: 0.5012 - loss: 0.6932 - val_accuracy: 0.5122 - val_loss: 0.6854\n",
      "Epoch 2/5\n",
      "1094/1094 - 17s - 16ms/step - accuracy: 0.4997 - loss: 0.6984 - val_accuracy: 0.4953 - val_loss: 0.6932\n",
      "Epoch 3/5\n",
      "1094/1094 - 17s - 15ms/step - accuracy: 0.4975 - loss: 0.6933 - val_accuracy: 0.5047 - val_loss: 0.6931\n",
      "\u001b[1m342/342\u001b[0m \u001b[32m━━━━━━━━━━━━━━━━━━━━\u001b[0m\u001b[37m\u001b[0m \u001b[1m2s\u001b[0m 5ms/step\n",
      "Accuracy: 0.5162\n",
      "Testing combination: (128, 64, 0.3, 32, 32, 10)\n",
      "Epoch 1/10\n"
     ]
    },
    {
     "name": "stderr",
     "output_type": "stream",
     "text": [
      "C:\\Users\\Administrator\\AppData\\Local\\Programs\\Python\\Python310\\lib\\site-packages\\keras\\src\\layers\\core\\embedding.py:90: UserWarning: Argument `input_length` is deprecated. Just remove it.\n",
      "  warnings.warn(\n"
     ]
    },
    {
     "name": "stdout",
     "output_type": "stream",
     "text": [
      "1094/1094 - 18s - 16ms/step - accuracy: 0.5082 - loss: 0.6940 - val_accuracy: 0.4998 - val_loss: 0.6932\n",
      "Epoch 2/10\n",
      "1094/1094 - 17s - 15ms/step - accuracy: 0.4996 - loss: 0.6935 - val_accuracy: 0.4953 - val_loss: 0.6933\n",
      "Epoch 3/10\n",
      "1094/1094 - 16s - 15ms/step - accuracy: 0.4980 - loss: 0.6933 - val_accuracy: 0.5047 - val_loss: 0.6931\n",
      "Epoch 4/10\n",
      "1094/1094 - 17s - 15ms/step - accuracy: 0.4984 - loss: 0.6933 - val_accuracy: 0.4967 - val_loss: 0.6932\n",
      "Epoch 5/10\n",
      "1094/1094 - 17s - 15ms/step - accuracy: 0.5696 - loss: 0.6258 - val_accuracy: 0.9829 - val_loss: 0.0628\n",
      "Epoch 6/10\n",
      "1094/1094 - 17s - 15ms/step - accuracy: 0.9906 - loss: 0.0434 - val_accuracy: 0.9938 - val_loss: 0.0206\n",
      "Epoch 7/10\n",
      "1094/1094 - 17s - 15ms/step - accuracy: 0.9959 - loss: 0.0204 - val_accuracy: 0.9926 - val_loss: 0.0215\n",
      "Epoch 8/10\n",
      "1094/1094 - 17s - 15ms/step - accuracy: 0.9971 - loss: 0.0126 - val_accuracy: 0.9935 - val_loss: 0.0241\n",
      "\u001b[1m342/342\u001b[0m \u001b[32m━━━━━━━━━━━━━━━━━━━━\u001b[0m\u001b[37m\u001b[0m \u001b[1m2s\u001b[0m 6ms/step\n",
      "Accuracy: 0.9940\n",
      "Testing combination: (128, 64, 0.3, 32, 64, 5)\n",
      "Epoch 1/5\n"
     ]
    },
    {
     "name": "stderr",
     "output_type": "stream",
     "text": [
      "C:\\Users\\Administrator\\AppData\\Local\\Programs\\Python\\Python310\\lib\\site-packages\\keras\\src\\layers\\core\\embedding.py:90: UserWarning: Argument `input_length` is deprecated. Just remove it.\n",
      "  warnings.warn(\n"
     ]
    },
    {
     "name": "stdout",
     "output_type": "stream",
     "text": [
      "547/547 - 13s - 23ms/step - accuracy: 0.5048 - loss: 0.6930 - val_accuracy: 0.5049 - val_loss: 0.6895\n",
      "Epoch 2/5\n",
      "547/547 - 11s - 21ms/step - accuracy: 0.6483 - loss: 0.5256 - val_accuracy: 0.9890 - val_loss: 0.0410\n",
      "Epoch 3/5\n",
      "547/547 - 12s - 21ms/step - accuracy: 0.9919 - loss: 0.0314 - val_accuracy: 0.9946 - val_loss: 0.0215\n",
      "Epoch 4/5\n",
      "547/547 - 12s - 21ms/step - accuracy: 0.9955 - loss: 0.0184 - val_accuracy: 0.9941 - val_loss: 0.0220\n",
      "Epoch 5/5\n",
      "547/547 - 12s - 21ms/step - accuracy: 0.9968 - loss: 0.0145 - val_accuracy: 0.9939 - val_loss: 0.0301\n",
      "\u001b[1m342/342\u001b[0m \u001b[32m━━━━━━━━━━━━━━━━━━━━\u001b[0m\u001b[37m\u001b[0m \u001b[1m2s\u001b[0m 5ms/step\n",
      "Accuracy: 0.9942\n",
      "Testing combination: (128, 64, 0.3, 32, 64, 10)\n",
      "Epoch 1/10\n"
     ]
    },
    {
     "name": "stderr",
     "output_type": "stream",
     "text": [
      "C:\\Users\\Administrator\\AppData\\Local\\Programs\\Python\\Python310\\lib\\site-packages\\keras\\src\\layers\\core\\embedding.py:90: UserWarning: Argument `input_length` is deprecated. Just remove it.\n",
      "  warnings.warn(\n"
     ]
    },
    {
     "name": "stdout",
     "output_type": "stream",
     "text": [
      "547/547 - 13s - 23ms/step - accuracy: 0.5044 - loss: 0.7022 - val_accuracy: 0.4953 - val_loss: 0.6934\n",
      "Epoch 2/10\n",
      "547/547 - 11s - 21ms/step - accuracy: 0.4992 - loss: 0.6939 - val_accuracy: 0.4953 - val_loss: 0.6932\n",
      "Epoch 3/10\n",
      "547/547 - 12s - 21ms/step - accuracy: 0.5007 - loss: 0.6934 - val_accuracy: 0.4953 - val_loss: 0.6932\n",
      "Epoch 4/10\n",
      "547/547 - 12s - 21ms/step - accuracy: 0.4964 - loss: 0.6934 - val_accuracy: 0.4953 - val_loss: 0.6932\n",
      "Epoch 5/10\n",
      "547/547 - 12s - 21ms/step - accuracy: 0.5007 - loss: 0.6932 - val_accuracy: 0.4953 - val_loss: 0.6932\n",
      "Epoch 6/10\n",
      "547/547 - 11s - 21ms/step - accuracy: 0.5017 - loss: 0.6932 - val_accuracy: 0.4953 - val_loss: 0.6932\n",
      "\u001b[1m342/342\u001b[0m \u001b[32m━━━━━━━━━━━━━━━━━━━━\u001b[0m\u001b[37m\u001b[0m \u001b[1m2s\u001b[0m 5ms/step\n",
      "Accuracy: 0.5027\n",
      "Testing combination: (128, 64, 0.5, 16, 32, 5)\n",
      "Epoch 1/5\n"
     ]
    },
    {
     "name": "stderr",
     "output_type": "stream",
     "text": [
      "C:\\Users\\Administrator\\AppData\\Local\\Programs\\Python\\Python310\\lib\\site-packages\\keras\\src\\layers\\core\\embedding.py:90: UserWarning: Argument `input_length` is deprecated. Just remove it.\n",
      "  warnings.warn(\n"
     ]
    },
    {
     "name": "stdout",
     "output_type": "stream",
     "text": [
      "1094/1094 - 18s - 17ms/step - accuracy: 0.4991 - loss: 0.6956 - val_accuracy: 0.5061 - val_loss: 0.6931\n",
      "Epoch 2/5\n",
      "1094/1094 - 17s - 15ms/step - accuracy: 0.5083 - loss: 0.6931 - val_accuracy: 0.5046 - val_loss: 0.6917\n",
      "Epoch 3/5\n",
      "1094/1094 - 17s - 15ms/step - accuracy: 0.5069 - loss: 0.6903 - val_accuracy: 0.5058 - val_loss: 0.6889\n",
      "Epoch 4/5\n",
      "1094/1094 - 17s - 15ms/step - accuracy: 0.7495 - loss: 0.4109 - val_accuracy: 0.9905 - val_loss: 0.0373\n",
      "Epoch 5/5\n",
      "1094/1094 - 17s - 15ms/step - accuracy: 0.9890 - loss: 0.0320 - val_accuracy: 0.9931 - val_loss: 0.0170\n",
      "\u001b[1m342/342\u001b[0m \u001b[32m━━━━━━━━━━━━━━━━━━━━\u001b[0m\u001b[37m\u001b[0m \u001b[1m2s\u001b[0m 5ms/step\n",
      "Accuracy: 0.9935\n",
      "Testing combination: (128, 64, 0.5, 16, 32, 10)\n",
      "Epoch 1/10\n"
     ]
    },
    {
     "name": "stderr",
     "output_type": "stream",
     "text": [
      "C:\\Users\\Administrator\\AppData\\Local\\Programs\\Python\\Python310\\lib\\site-packages\\keras\\src\\layers\\core\\embedding.py:90: UserWarning: Argument `input_length` is deprecated. Just remove it.\n",
      "  warnings.warn(\n"
     ]
    },
    {
     "name": "stdout",
     "output_type": "stream",
     "text": [
      "1094/1094 - 19s - 17ms/step - accuracy: 0.5210 - loss: 0.6883 - val_accuracy: 0.4955 - val_loss: 0.6945\n",
      "Epoch 2/10\n",
      "1094/1094 - 17s - 16ms/step - accuracy: 0.5024 - loss: 0.6936 - val_accuracy: 0.5053 - val_loss: 0.6931\n",
      "Epoch 3/10\n",
      "1094/1094 - 17s - 16ms/step - accuracy: 0.5438 - loss: 0.6763 - val_accuracy: 0.5019 - val_loss: 0.6917\n",
      "Epoch 4/10\n",
      "1094/1094 - 17s - 16ms/step - accuracy: 0.5052 - loss: 0.6913 - val_accuracy: 0.5041 - val_loss: 0.6917\n",
      "Epoch 5/10\n",
      "1094/1094 - 17s - 16ms/step - accuracy: 0.5186 - loss: 0.6848 - val_accuracy: 0.7536 - val_loss: 0.5515\n",
      "Epoch 6/10\n",
      "1094/1094 - 17s - 16ms/step - accuracy: 0.9658 - loss: 0.1297 - val_accuracy: 0.9936 - val_loss: 0.0222\n",
      "Epoch 7/10\n",
      "1094/1094 - 17s - 16ms/step - accuracy: 0.9929 - loss: 0.0371 - val_accuracy: 0.9926 - val_loss: 0.0228\n",
      "Epoch 8/10\n",
      "1094/1094 - 17s - 16ms/step - accuracy: 0.9947 - loss: 0.0269 - val_accuracy: 0.9931 - val_loss: 0.0287\n",
      "\u001b[1m342/342\u001b[0m \u001b[32m━━━━━━━━━━━━━━━━━━━━\u001b[0m\u001b[37m\u001b[0m \u001b[1m2s\u001b[0m 5ms/step\n",
      "Accuracy: 0.9935\n",
      "Testing combination: (128, 64, 0.5, 16, 64, 5)\n",
      "Epoch 1/5\n"
     ]
    },
    {
     "name": "stderr",
     "output_type": "stream",
     "text": [
      "C:\\Users\\Administrator\\AppData\\Local\\Programs\\Python\\Python310\\lib\\site-packages\\keras\\src\\layers\\core\\embedding.py:90: UserWarning: Argument `input_length` is deprecated. Just remove it.\n",
      "  warnings.warn(\n"
     ]
    },
    {
     "name": "stdout",
     "output_type": "stream",
     "text": [
      "547/547 - 13s - 24ms/step - accuracy: 0.5197 - loss: 0.6894 - val_accuracy: 0.7337 - val_loss: 0.5939\n",
      "Epoch 2/5\n",
      "547/547 - 12s - 21ms/step - accuracy: 0.5854 - loss: 0.6431 - val_accuracy: 0.5978 - val_loss: 0.6281\n",
      "Epoch 3/5\n",
      "547/547 - 12s - 21ms/step - accuracy: 0.5919 - loss: 0.6323 - val_accuracy: 0.5175 - val_loss: 0.6878\n",
      "\u001b[1m342/342\u001b[0m \u001b[32m━━━━━━━━━━━━━━━━━━━━\u001b[0m\u001b[37m\u001b[0m \u001b[1m2s\u001b[0m 5ms/step\n",
      "Accuracy: 0.7310\n",
      "Testing combination: (128, 64, 0.5, 16, 64, 10)\n",
      "Epoch 1/10\n"
     ]
    },
    {
     "name": "stderr",
     "output_type": "stream",
     "text": [
      "C:\\Users\\Administrator\\AppData\\Local\\Programs\\Python\\Python310\\lib\\site-packages\\keras\\src\\layers\\core\\embedding.py:90: UserWarning: Argument `input_length` is deprecated. Just remove it.\n",
      "  warnings.warn(\n"
     ]
    },
    {
     "name": "stdout",
     "output_type": "stream",
     "text": [
      "547/547 - 13s - 24ms/step - accuracy: 0.6045 - loss: 0.6383 - val_accuracy: 0.7509 - val_loss: 0.5607\n",
      "Epoch 2/10\n",
      "547/547 - 12s - 22ms/step - accuracy: 0.7924 - loss: 0.5288 - val_accuracy: 0.8224 - val_loss: 0.4703\n",
      "Epoch 3/10\n",
      "547/547 - 12s - 21ms/step - accuracy: 0.8334 - loss: 0.4541 - val_accuracy: 0.8202 - val_loss: 0.4113\n",
      "Epoch 4/10\n",
      "547/547 - 12s - 21ms/step - accuracy: 0.6570 - loss: 0.5752 - val_accuracy: 0.5026 - val_loss: 0.6933\n",
      "Epoch 5/10\n",
      "547/547 - 12s - 21ms/step - accuracy: 0.6845 - loss: 0.5522 - val_accuracy: 0.9024 - val_loss: 0.3147\n",
      "Epoch 6/10\n",
      "547/547 - 12s - 21ms/step - accuracy: 0.8331 - loss: 0.4477 - val_accuracy: 0.8642 - val_loss: 0.3540\n",
      "Epoch 7/10\n",
      "547/547 - 12s - 22ms/step - accuracy: 0.7101 - loss: 0.5271 - val_accuracy: 0.7011 - val_loss: 0.5320\n",
      "\u001b[1m342/342\u001b[0m \u001b[32m━━━━━━━━━━━━━━━━━━━━\u001b[0m\u001b[37m\u001b[0m \u001b[1m2s\u001b[0m 5ms/step\n",
      "Accuracy: 0.8988\n",
      "Testing combination: (128, 64, 0.5, 32, 32, 5)\n",
      "Epoch 1/5\n"
     ]
    },
    {
     "name": "stderr",
     "output_type": "stream",
     "text": [
      "C:\\Users\\Administrator\\AppData\\Local\\Programs\\Python\\Python310\\lib\\site-packages\\keras\\src\\layers\\core\\embedding.py:90: UserWarning: Argument `input_length` is deprecated. Just remove it.\n",
      "  warnings.warn(\n"
     ]
    },
    {
     "name": "stdout",
     "output_type": "stream",
     "text": [
      "1094/1094 - 20s - 18ms/step - accuracy: 0.5005 - loss: 0.6935 - val_accuracy: 0.5071 - val_loss: 0.6907\n",
      "Epoch 2/5\n",
      "1094/1094 - 17s - 16ms/step - accuracy: 0.5022 - loss: 0.6961 - val_accuracy: 0.5004 - val_loss: 0.6930\n",
      "Epoch 3/5\n",
      "1094/1094 - 17s - 16ms/step - accuracy: 0.5179 - loss: 0.6855 - val_accuracy: 0.7356 - val_loss: 0.6192\n",
      "Epoch 4/5\n",
      "1094/1094 - 17s - 16ms/step - accuracy: 0.5379 - loss: 0.6721 - val_accuracy: 0.9875 - val_loss: 0.0686\n",
      "Epoch 5/5\n",
      "1094/1094 - 17s - 16ms/step - accuracy: 0.9884 - loss: 0.0628 - val_accuracy: 0.9935 - val_loss: 0.0292\n",
      "\u001b[1m342/342\u001b[0m \u001b[32m━━━━━━━━━━━━━━━━━━━━\u001b[0m\u001b[37m\u001b[0m \u001b[1m2s\u001b[0m 5ms/step\n",
      "Accuracy: 0.9930\n",
      "Testing combination: (128, 64, 0.5, 32, 32, 10)\n",
      "Epoch 1/10\n"
     ]
    },
    {
     "name": "stderr",
     "output_type": "stream",
     "text": [
      "C:\\Users\\Administrator\\AppData\\Local\\Programs\\Python\\Python310\\lib\\site-packages\\keras\\src\\layers\\core\\embedding.py:90: UserWarning: Argument `input_length` is deprecated. Just remove it.\n",
      "  warnings.warn(\n"
     ]
    },
    {
     "name": "stdout",
     "output_type": "stream",
     "text": [
      "1094/1094 - 19s - 17ms/step - accuracy: 0.5213 - loss: 0.6915 - val_accuracy: 0.5055 - val_loss: 0.6929\n",
      "Epoch 2/10\n",
      "1094/1094 - 17s - 16ms/step - accuracy: 0.5432 - loss: 0.6699 - val_accuracy: 0.6368 - val_loss: 0.5988\n",
      "Epoch 3/10\n",
      "1094/1094 - 17s - 16ms/step - accuracy: 0.5389 - loss: 0.6704 - val_accuracy: 0.5067 - val_loss: 0.6918\n",
      "Epoch 4/10\n",
      "1094/1094 - 17s - 16ms/step - accuracy: 0.8803 - loss: 0.2221 - val_accuracy: 0.9938 - val_loss: 0.0239\n",
      "Epoch 5/10\n",
      "1094/1094 - 17s - 16ms/step - accuracy: 0.9918 - loss: 0.0362 - val_accuracy: 0.9931 - val_loss: 0.0249\n",
      "Epoch 6/10\n",
      "1094/1094 - 17s - 16ms/step - accuracy: 0.9951 - loss: 0.0232 - val_accuracy: 0.9915 - val_loss: 0.0204\n",
      "Epoch 7/10\n",
      "1094/1094 - 17s - 16ms/step - accuracy: 0.9964 - loss: 0.0153 - val_accuracy: 0.9922 - val_loss: 0.0279\n",
      "Epoch 8/10\n",
      "1094/1094 - 17s - 16ms/step - accuracy: 0.9967 - loss: 0.0146 - val_accuracy: 0.9931 - val_loss: 0.0331\n",
      "\u001b[1m342/342\u001b[0m \u001b[32m━━━━━━━━━━━━━━━━━━━━\u001b[0m\u001b[37m\u001b[0m \u001b[1m2s\u001b[0m 5ms/step\n",
      "Accuracy: 0.9913\n",
      "Testing combination: (128, 64, 0.5, 32, 64, 5)\n",
      "Epoch 1/5\n"
     ]
    },
    {
     "name": "stderr",
     "output_type": "stream",
     "text": [
      "C:\\Users\\Administrator\\AppData\\Local\\Programs\\Python\\Python310\\lib\\site-packages\\keras\\src\\layers\\core\\embedding.py:90: UserWarning: Argument `input_length` is deprecated. Just remove it.\n",
      "  warnings.warn(\n"
     ]
    },
    {
     "name": "stdout",
     "output_type": "stream",
     "text": [
      "547/547 - 13s - 23ms/step - accuracy: 0.4965 - loss: 0.6978 - val_accuracy: 0.5050 - val_loss: 0.6930\n",
      "Epoch 2/5\n",
      "547/547 - 11s - 21ms/step - accuracy: 0.5066 - loss: 0.6936 - val_accuracy: 0.5047 - val_loss: 0.6927\n",
      "Epoch 3/5\n",
      "547/547 - 11s - 21ms/step - accuracy: 0.5061 - loss: 0.6963 - val_accuracy: 0.4979 - val_loss: 0.6932\n",
      "Epoch 4/5\n",
      "547/547 - 11s - 20ms/step - accuracy: 0.5018 - loss: 0.6933 - val_accuracy: 0.4974 - val_loss: 0.6932\n",
      "\u001b[1m342/342\u001b[0m \u001b[32m━━━━━━━━━━━━━━━━━━━━\u001b[0m\u001b[37m\u001b[0m \u001b[1m2s\u001b[0m 5ms/step\n",
      "Accuracy: 0.4973\n",
      "Testing combination: (128, 64, 0.5, 32, 64, 10)\n",
      "Epoch 1/10\n"
     ]
    },
    {
     "name": "stderr",
     "output_type": "stream",
     "text": [
      "C:\\Users\\Administrator\\AppData\\Local\\Programs\\Python\\Python310\\lib\\site-packages\\keras\\src\\layers\\core\\embedding.py:90: UserWarning: Argument `input_length` is deprecated. Just remove it.\n",
      "  warnings.warn(\n"
     ]
    },
    {
     "name": "stdout",
     "output_type": "stream",
     "text": [
      "547/547 - 13s - 23ms/step - accuracy: 0.5074 - loss: 0.6967 - val_accuracy: 0.5047 - val_loss: 0.6930\n",
      "Epoch 2/10\n",
      "547/547 - 11s - 21ms/step - accuracy: 0.5013 - loss: 0.6927 - val_accuracy: 0.5323 - val_loss: 0.6891\n",
      "Epoch 3/10\n",
      "547/547 - 11s - 21ms/step - accuracy: 0.5088 - loss: 0.6906 - val_accuracy: 0.5050 - val_loss: 0.6876\n",
      "Epoch 4/10\n",
      "547/547 - 11s - 21ms/step - accuracy: 0.5070 - loss: 0.6876 - val_accuracy: 0.5479 - val_loss: 0.6834\n",
      "Epoch 5/10\n",
      "547/547 - 12s - 21ms/step - accuracy: 0.9624 - loss: 0.1097 - val_accuracy: 0.9938 - val_loss: 0.0249\n",
      "Epoch 6/10\n",
      "547/547 - 11s - 21ms/step - accuracy: 0.9935 - loss: 0.0323 - val_accuracy: 0.9935 - val_loss: 0.0245\n",
      "Epoch 7/10\n",
      "547/547 - 11s - 21ms/step - accuracy: 0.9960 - loss: 0.0178 - val_accuracy: 0.9933 - val_loss: 0.0363\n",
      "Epoch 8/10\n",
      "547/547 - 11s - 20ms/step - accuracy: 0.9970 - loss: 0.0126 - val_accuracy: 0.9933 - val_loss: 0.0345\n",
      "\u001b[1m342/342\u001b[0m \u001b[32m━━━━━━━━━━━━━━━━━━━━\u001b[0m\u001b[37m\u001b[0m \u001b[1m2s\u001b[0m 5ms/step\n",
      "Accuracy: 0.9933"
     ]
    },
    {
     "name": "stderr",
     "output_type": "stream",
     "text": [
      "WARNING:absl:You are saving your model as an HDF5 file via `model.save()` or `keras.saving.save_model(model)`. This file format is considered legacy. We recommend using instead the native Keras format, e.g. `model.save('my_model.keras')` or `keras.saving.save_model(model, 'my_model.keras')`. \n"
     ]
    },
    {
     "name": "stdout",
     "output_type": "stream",
     "text": [
      "\n",
      "Best Accuracy: 0.9952\n",
      "Best Parameters: {'embedding_dim': 128, 'lstm_units': 64, 'dropout_rate': 0.3, 'dense_units': 16, 'batch_size': 32, 'epochs': 5}\n",
      "Best model saved as 'best_lstm_model.h5\n"
     ]
    }
   ],
   "source": [
    "import pandas as pd\n",
    "import numpy as np\n",
    "from sklearn.model_selection import train_test_split\n",
    "from sklearn.preprocessing import LabelEncoder\n",
    "from tensorflow.keras.preprocessing.text import Tokenizer\n",
    "from tensorflow.keras.preprocessing.sequence import pad_sequences\n",
    "\n",
    "import itertools\n",
    "from tensorflow.keras.callbacks import EarlyStopping\n",
    "from tensorflow.keras.models import Sequential\n",
    "from tensorflow.keras.layers import Embedding, LSTM, Dense, Dropout\n",
    "from tensorflow.keras.optimizers import Adam\n",
    "from sklearn.metrics import accuracy_score\n",
    "\n",
    "# 1. 데이터 불러오기\n",
    "file_path = \"korean_review_final.csv\"  # 데이터 파일 경로\n",
    "data = pd.read_csv(file_path)\n",
    "\n",
    "# 2. 데이터 확인 및 전처리\n",
    "# Null 값 확인 및 제거\n",
    "print(data.info())\n",
    "data.dropna(inplace=True)\n",
    "\n",
    "# 텍스트와 라벨 분리\n",
    "texts = data['text']\n",
    "labels = data['label']\n",
    "\n",
    "# 'CG'를 1로, 'OR'을 0으로 변환\n",
    "labels = labels.map({'CG': 1, 'OR': 0}).astype(np.float32)\n",
    "\n",
    "# 3. 텍스트 데이터 전처리\n",
    "# 토크나이저 정의\n",
    "max_words = 10000  # 사용할 최대 단어 수\n",
    "max_len = 100  # 리뷰의 최대 길이\n",
    "tokenizer = Tokenizer(num_words=max_words, oov_token=\"<OOV>\")\n",
    "tokenizer.fit_on_texts(texts)\n",
    "\n",
    "# 텍스트 시퀀스 변환 및 패딩\n",
    "sequences = tokenizer.texts_to_sequences(texts)\n",
    "padded_sequences = pad_sequences(sequences, maxlen=max_len, padding='post', truncating='post')\n",
    "\n",
    "# 4. 데이터셋 분리\n",
    "X_train, X_test, y_train, y_test = train_test_split(padded_sequences, labels, test_size=0.2, random_state=42)\n",
    "\n",
    "\n",
    "# 하이퍼파라미터 후보 정의\n",
    "param_grid = {\n",
    "    \"embedding_dim\": [64, 128],\n",
    "    \"lstm_units\": [32, 64],\n",
    "    \"dropout_rate\": [0.3, 0.5],\n",
    "    \"dense_units\": [16, 32],\n",
    "    \"batch_size\": [32, 64],\n",
    "    \"epochs\": [5, 10]\n",
    "}\n",
    "\n",
    "# 가능한 모든 하이퍼파라미터 조합 생성\n",
    "param_combinations = list(itertools.product(*param_grid.values()))\n",
    "\n",
    "best_accuracy = 0\n",
    "best_params = None\n",
    "best_model = None\n",
    "\n",
    "# 하이퍼파라미터 탐색\n",
    "for params in param_combinations:\n",
    "    embedding_dim, lstm_units, dropout_rate, dense_units, batch_size, epochs = params\n",
    "\n",
    "    print(f\"Testing combination: {params}\")\n",
    "    \n",
    "    # 모델 생성\n",
    "    model = Sequential([\n",
    "        Embedding(input_dim=max_words, output_dim=embedding_dim, input_length=max_len),\n",
    "        LSTM(lstm_units, return_sequences=False),\n",
    "        Dropout(dropout_rate),\n",
    "        Dense(dense_units, activation='relu'),\n",
    "        Dropout(dropout_rate),\n",
    "        Dense(1, activation='sigmoid')\n",
    "    ])\n",
    "\n",
    "    model.compile(optimizer=Adam(), loss='binary_crossentropy', metrics=['accuracy'])\n",
    "\n",
    "    # 조기 종료 콜백\n",
    "    early_stopping = EarlyStopping(monitor='val_loss', patience=2, restore_best_weights=True)\n",
    "\n",
    "    # 모델 학습\n",
    "    history = model.fit(\n",
    "        X_train, y_train,\n",
    "        validation_split=0.2,\n",
    "        epochs=epochs,\n",
    "        batch_size=batch_size,\n",
    "        callbacks=[early_stopping],\n",
    "        verbose=2\n",
    "    )\n",
    "\n",
    "    # 모델 평가\n",
    "    y_pred = (model.predict(X_test) > 0.5).astype(int)\n",
    "    acc = accuracy_score(y_test, y_pred)\n",
    "    print(f\"Accuracy: {acc:.4f}\")\n",
    "    \n",
    "    # 최적 모델 저장\n",
    "    if acc > best_accuracy:\n",
    "        best_accuracy = acc\n",
    "        best_params = params\n",
    "        best_model = model\n",
    "\n",
    "# 최적 하이퍼파라미터 및 모델 출력\n",
    "print(f\"Best Accuracy: {best_accuracy:.4f}\")\n",
    "print(f\"Best Parameters: {dict(zip(param_grid.keys(), best_params))}\")\n",
    "\n",
    "# 최적 모델 저장\n",
    "best_model.save(\"best_lstm_model.h5\")\n",
    "print(\"Best model saved as 'best_lstm_model.h5\")\n"
   ]
  },
  {
   "cell_type": "code",
   "execution_count": null,
   "id": "4cb215e5-e28a-402d-84f6-52d0a28453f1",
   "metadata": {},
   "outputs": [],
   "source": []
  }
 ],
 "metadata": {
  "kernelspec": {
   "display_name": "Python 3 (ipykernel)",
   "language": "python",
   "name": "python3"
  },
  "language_info": {
   "codemirror_mode": {
    "name": "ipython",
    "version": 3
   },
   "file_extension": ".py",
   "mimetype": "text/x-python",
   "name": "python",
   "nbconvert_exporter": "python",
   "pygments_lexer": "ipython3",
   "version": "3.10.11"
  }
 },
 "nbformat": 4,
 "nbformat_minor": 5
}
