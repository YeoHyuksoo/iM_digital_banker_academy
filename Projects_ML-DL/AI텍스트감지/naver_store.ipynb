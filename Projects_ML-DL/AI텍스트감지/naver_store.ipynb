{
 "cells": [
  {
   "cell_type": "code",
   "execution_count": 6,
   "id": "56c7984c-6421-4d70-93ba-414593a30936",
   "metadata": {},
   "outputs": [],
   "source": [
    "import time\n",
    "import requests\n",
    "from time import sleep\n",
    "import re, requests, csv\n",
    "from bs4 import BeautifulSoup as bs\n",
    "from selenium.webdriver.common.keys import Keys\n",
    "import pandas as pd\n",
    "from selenium import webdriver\n",
    "keys = Keys()"
   ]
  },
  {
   "cell_type": "code",
   "execution_count": 7,
   "id": "33d35d5c-60ed-465a-987d-0e124a97ff13",
   "metadata": {},
   "outputs": [],
   "source": [
    "# options = webdriver.ChromeOptions()\n",
    "# options.add_argument('--headless')  # 브라우저 창을 띄우지 않음\n",
    "# options.add_argument('--disable-gpu')\n",
    "# options.add_argument('--no-sandbox')\n",
    "# options.add_argument(\n",
    "#     \"user-agent=Mozilla/5.0 (Windows NT 10.0; Win64; x64) AppleWebKit/537.36 (KHTML, like Gecko) Chrome/117.0.0.0 Safari/537.36\")\n",
    "driver = webdriver.Chrome()"
   ]
  },
  {
   "cell_type": "code",
   "execution_count": 8,
   "id": "904951cd-3cee-4f04-8cc8-e8c0931eff26",
   "metadata": {},
   "outputs": [],
   "source": [
    "from selenium.webdriver.chrome.service import Service\n",
    "from webdriver_manager.chrome import ChromeDriverManager\n",
    "\n",
    "# \"https://smartstore.naver.com/mademood/products/4810194540#REVIEW\"\n",
    "url = \"https://smartstore.naver.com/yes24book/products/10837168193\"\n",
    "driver.get(url)\n",
    "time.sleep(3)"
   ]
  },
  {
   "cell_type": "code",
   "execution_count": 9,
   "id": "87c170a1-4c56-477d-ac37-6da6267d7e31",
   "metadata": {},
   "outputs": [],
   "source": [
    "from selenium import webdriver\n",
    "\n",
    "count = 0\n",
    "stop = 2\n",
    "next_btn = ['a:nth-child(2)', 'a:nth-child(3)', 'a:nth-child(4)', 'a:nth-child(5)', 'a:nth-child(6)', 'a:nth-child(7)', \n",
    "            'a.fAUKmlewwo._2Ar8-aEUTq']\n",
    "review_list = []"
   ]
  },
  {
   "cell_type": "code",
   "execution_count": 10,
   "id": "0739770a-327e-42ff-8458-c503011b7440",
   "metadata": {
    "scrolled": true
   },
   "outputs": [
    {
     "name": "stdout",
     "output_type": "stream",
     "text": [
      "JavaScript로 상품평 탭 클릭 성공!\n",
      "Error on page 5: Message: \n",
      "\n",
      "수집된 리뷰: ['해 바뀔때쯤 되면 생각나는 책 올해도 잘읽었습니다', '냬용이알치고 매우 유익해요\\n꼭 읽어보라고 권해드리고\\n 경제를 바로보는안목도넓히는 책이라고 저는생각합니다', '여러권을 구매해 시간이 조금 걸렸네요', '좋은서적 싸게샀네요', '한달사용좋아요 유익한내용입니다', '한달사용트렌드 파악에 최고예요', '배송빠르고 아부지가 좋아하시네여 ', '배성빠르고좋습니다 내용더좋습니다', '트렌드를 예견하는 내용이 ㅈㄷㅎ네요', '내년의 트렌드을 확인할수있어서 도움이 되네요', '올해도 역시 픽독도서가 되었네요\\n세계경제금융  별관심없는 저도 읽으면서\\n빠져들기시작해요\\n도서관에서 완독할만큼 재밌는 책입니다\\n매년 시리즈로 구매해서 지식창고를 채우는\\n느낌이 너무 좋아요더보기', '한달사용역시 트랜드코리아', '잘 읽어 보겠습니다', '잘 잀겠습니다 2025', '한달사용내년 트렌드에 대한 내용 정리되어 있어서 한번 읽어 보기 좋아요\\n저도 보고 회사 분들 돌려 읽고 있습니다', '좋아요좋아요좋아요 좋아요좋아요좋아요 좋아요좋아요좋아요 좋아요좋아요좋아요 좋아요좋아요좋아요 좋아요좋아요좋아요', '군대 아들이 부탁해 보내주었습니다\\n워낙 유명한책이니 다 아실거 같아요', '잘 읽고 있어요 매년 출간하는 책인 줄은 몰랐어요 새로운 개념 많이 배웠어요', '빠른 배송잘 읽겠습니다', '아직 읽기 전이에요', '2025년도 삶의 변화를 희망하며 구매', '배송 빠르고 좋았습니다', '한달사용좋아요', '정말 총알배송이네요 밤늦게 주문했는데 다음날 바로오네요', '읽고싶었던책이라 빨리보고싶었는데 배송잎빨라 좋았습니다', '한달사용트렌드 코리아 유익하게 읽고있습니다', '매년 연말에 구매하는 책 입니다 ', '매년 연말쯤 구독하는 필독서입니다', '트렌드 코리아 2025 매년 읽게끔 마케팅 잘한 책이네요', '트렌드코리아 25년께 나와서 급삿네요 유익해요', '주문한날밤에 도착했어요\\n열심히 읽어보겠습니다', '매년 읽고있던 책이라 올해도 구입했네요', '빠르게 사서 잘 읽었습니다\\n\\n매년 읽으며 많은 도움 되고 있습니다', '한달사용매년 잘 읽고 있어요', '배송짱빠르고 읽어보고싶어던책이라 구매했습니다', '좋은책이네요  감나합니다', '한달사용매년 잘 읽고 있습니다', '워낙유명한책이라 샀어요', '매번 사서보는책 입니다', '올해 가기전 꼬옥 읽어볼려고 주문했어요', '오전에 주문했는데 당일에 왔어요 빠른배송은 너무좋은데 책이 살짝 파손되서왔어요 읽는데는 문제는 없어요', '매년 10월이 되면 사서 읽는 책 중에 하나입니다 책 읽기 어려운 환경이지만 이책만큼은 완독을 하려고 합니다', '매년 구매하는 트렌드코리아 이번에도 역시나 많은 도움이 되고 있어요', '재밌게 읽었습니다 그런데 해가 갈수록 좀 내용이 난해해지는 거 같네요 ㅎ 내년에는 좀 더 축약하면 좋겠습니다', '한달사용배송 빠르고 책 너무 좋아요', '한달사용읽어야 되는데 못읽고 있네요  귀찮아요', '매년 구매해서 읽고있어요 내년 트렌드에 대해 알 수 있어 유익하고 재밌어요', '한달사용책 너무 좋아요\\n잘 보았습니다', '트렌드를 미리볼수있고 내년엔 어떤 흐름일지 미리 공부할수있어요', '매년 읽고 있습니다', '매년 구매하고 있습니다 잘볼게요', '아주 잘 사용하고 있습니다', '빨리 배송되고 배송상태도 깔끔하고 좋았습니다', '매년 의미잇게 사는 책입니다', '배송도 빠르고 포장도 구김없이 좋아요 아주 좋아요', '내년엔 어떨까 해서 궁금해서 구매해봤어여\\n오랜만에 독서 하구 있네여', '한달사용최고엿습니다 역시 최고', '매년구매하는데 올해도 기대됩니다', '빠른배송 너무 감사합니다', '매년 읽는 책 좋아요', '빠른 배송 감사합니다 ', '빠른배송이 좋았어요', '정말 빠르게 배송하는 것 같습니다', '빠른 배송이 좋습니다', '축약해도 되는걸 어거지로 길게 늘여쓰는 느낌은 있네요', '배송 빠르고 잘 도착했습니다', '빠른 배송 감사합니다', '매년 구매하는 필수책입니다\\n올해년도도 뭐가 나올지 설레네요', '배송이 생각보다 늦어요', '트렌드코리아를 트렌드하게 볼 수 있다', '빠른배송 감사힙니다', '빠른 배송 좋아요', '빠른 배송 감사합니다', '빠른배송 감사합니다', '굳굳 매년 사서읽습니다']\n"
     ]
    }
   ],
   "source": [
    "from selenium.webdriver.support.ui import WebDriverWait\n",
    "from selenium.webdriver.support import expected_conditions as EC\n",
    "from selenium.webdriver.common.by import By\n",
    "from selenium.webdriver.common.action_chains import ActionChains\n",
    "\n",
    "try:\n",
    "    driver.execute_script(\"window.scrollBy(0, 1500);\")\n",
    "    time.sleep(2)\n",
    "    review_tab = driver.find_element(By.CSS_SELECTOR, \"#_productFloatingTab > div > div._27jmWaPaKy._1dDHKD1iiX > ul > li:nth-child(2) > a\")\n",
    "    driver.execute_script(\"arguments[0].click();\", review_tab)\n",
    "    print(\"JavaScript로 상품평 탭 클릭 성공!\")\n",
    "except Exception as e:\n",
    "    print(f\"Error activating review tab with JavaScript: {e}\")\n",
    "\n",
    "for page in range(1, 11):  # 원하는 페이지 수 조절\n",
    "    try:\n",
    "        # HTML 파싱 및 리뷰 수집\n",
    "        html = driver.page_source\n",
    "        soup = bs(html, \"html.parser\")\n",
    "        reviews = soup.select('div._3z6gI4oI6l')  # 리뷰 텍스트의 정확한 클래스 확인 필요\n",
    "        for review in reviews:\n",
    "            text = review.text.strip()\n",
    "            text = re.sub('[^#0-9a-zA-Zㄱ-ㅣ가-힣\\s]', \"\", text)\n",
    "            review_list.append(text)\n",
    "        \n",
    "        # 다음 페이지 버튼 클릭 (Explicit Wait 사용)\n",
    "        next_button = WebDriverWait(driver, 10).until(\n",
    "            EC.element_to_be_clickable((By.CSS_SELECTOR, f'div._2LvIMaBiIO a:nth-child({page+2})'))\n",
    "        )\n",
    "        next_button.click()\n",
    "        time.sleep(2)  # 페이지 로드 대기\n",
    "        \n",
    "    except Exception as e:\n",
    "        print(f\"Error on page {page}: {e}\")\n",
    "        break\n",
    "\n",
    "# 결과 출력\n",
    "driver.quit()\n",
    "print(\"수집된 리뷰:\", review_list)                                          "
   ]
  },
  {
   "cell_type": "code",
   "execution_count": 381,
   "id": "ff50283c-8d31-4e03-96b8-c2cd0124729f",
   "metadata": {},
   "outputs": [],
   "source": [
    "total_rev += review_list"
   ]
  },
  {
   "cell_type": "code",
   "execution_count": 382,
   "id": "98e88fa1-2b5a-44c7-bbfb-80d5860ba6a0",
   "metadata": {},
   "outputs": [
    {
     "data": {
      "text/plain": [
       "3117"
      ]
     },
     "execution_count": 382,
     "metadata": {},
     "output_type": "execute_result"
    }
   ],
   "source": [
    "len(total_rev)"
   ]
  },
  {
   "cell_type": "code",
   "execution_count": 236,
   "id": "4e537359-927c-433b-ae18-239e002b0c90",
   "metadata": {},
   "outputs": [],
   "source": [
    "# total_rev = review_list"
   ]
  },
  {
   "cell_type": "code",
   "execution_count": 383,
   "id": "5d632e0b-e7ca-42fe-94fe-0f2515bd50ce",
   "metadata": {},
   "outputs": [],
   "source": [
    "df = pd.DataFrame({\"review\" : total_rev})\n",
    "df.to_csv(\"total_rev_도서음반.csv\", encoding='utf-8-sig')"
   ]
  },
  {
   "cell_type": "code",
   "execution_count": 8,
   "id": "2d40938f-e272-47fe-b52e-caed288503c8",
   "metadata": {},
   "outputs": [],
   "source": [
    "#REVIEW > div > div._2LvIMaBiIO > div._2g7PKvqCKe > div > div > a:nth-child(2)\n",
    "#REVIEW > div > div._2LvIMaBiIO > div._2g7PKvqCKe > div > div > a:nth-child(3)"
   ]
  }
 ],
 "metadata": {
  "kernelspec": {
   "display_name": "Python 3 (ipykernel)",
   "language": "python",
   "name": "python3"
  },
  "language_info": {
   "codemirror_mode": {
    "name": "ipython",
    "version": 3
   },
   "file_extension": ".py",
   "mimetype": "text/x-python",
   "name": "python",
   "nbconvert_exporter": "python",
   "pygments_lexer": "ipython3",
   "version": "3.9.13"
  }
 },
 "nbformat": 4,
 "nbformat_minor": 5
}
