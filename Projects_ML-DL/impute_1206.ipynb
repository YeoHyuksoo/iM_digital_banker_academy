{
 "cells": [
  {
   "cell_type": "code",
   "execution_count": 9,
   "id": "e1a559a9-c6fc-4c7d-8b2c-0e57d875124a",
   "metadata": {
    "scrolled": true
   },
   "outputs": [
    {
     "data": {
      "text/html": [
       "<div>\n",
       "<style scoped>\n",
       "    .dataframe tbody tr th:only-of-type {\n",
       "        vertical-align: middle;\n",
       "    }\n",
       "\n",
       "    .dataframe tbody tr th {\n",
       "        vertical-align: top;\n",
       "    }\n",
       "\n",
       "    .dataframe thead th {\n",
       "        text-align: right;\n",
       "    }\n",
       "</style>\n",
       "<table border=\"1\" class=\"dataframe\">\n",
       "  <thead>\n",
       "    <tr style=\"text-align: right;\">\n",
       "      <th></th>\n",
       "      <th>Age</th>\n",
       "      <th>Gender</th>\n",
       "      <th>Weight (kg)</th>\n",
       "      <th>Height (m)</th>\n",
       "      <th>Max_BPM</th>\n",
       "      <th>Avg_BPM</th>\n",
       "      <th>Resting_BPM</th>\n",
       "      <th>Session_Duration (hours)</th>\n",
       "      <th>Calories_Burned</th>\n",
       "      <th>Workout_Type</th>\n",
       "      <th>Fat_Percentage</th>\n",
       "      <th>Water_Intake (liters)</th>\n",
       "      <th>Workout_Frequency (days/week)</th>\n",
       "      <th>Experience_Level</th>\n",
       "      <th>BMI</th>\n",
       "    </tr>\n",
       "  </thead>\n",
       "  <tbody>\n",
       "    <tr>\n",
       "      <th>0</th>\n",
       "      <td>34.0</td>\n",
       "      <td>Female</td>\n",
       "      <td>86.7</td>\n",
       "      <td>1.86</td>\n",
       "      <td>174</td>\n",
       "      <td>152.0</td>\n",
       "      <td>74.0</td>\n",
       "      <td>1.12</td>\n",
       "      <td>712.0</td>\n",
       "      <td>Strength</td>\n",
       "      <td>12.8</td>\n",
       "      <td>2.4</td>\n",
       "      <td>5.0</td>\n",
       "      <td>2.0</td>\n",
       "      <td>14.31</td>\n",
       "    </tr>\n",
       "    <tr>\n",
       "      <th>1</th>\n",
       "      <td>26.0</td>\n",
       "      <td>Female</td>\n",
       "      <td>84.7</td>\n",
       "      <td>1.83</td>\n",
       "      <td>166</td>\n",
       "      <td>156.0</td>\n",
       "      <td>73.0</td>\n",
       "      <td>1.00</td>\n",
       "      <td>833.0</td>\n",
       "      <td>Strength</td>\n",
       "      <td>27.9</td>\n",
       "      <td>2.8</td>\n",
       "      <td>5.0</td>\n",
       "      <td>2.0</td>\n",
       "      <td>33.49</td>\n",
       "    </tr>\n",
       "    <tr>\n",
       "      <th>2</th>\n",
       "      <td>22.0</td>\n",
       "      <td>Male</td>\n",
       "      <td>64.8</td>\n",
       "      <td>1.85</td>\n",
       "      <td>187</td>\n",
       "      <td>166.0</td>\n",
       "      <td>64.0</td>\n",
       "      <td>1.24</td>\n",
       "      <td>1678.0</td>\n",
       "      <td>Cardio</td>\n",
       "      <td>28.7</td>\n",
       "      <td>1.9</td>\n",
       "      <td>3.0</td>\n",
       "      <td>2.0</td>\n",
       "      <td>12.73</td>\n",
       "    </tr>\n",
       "    <tr>\n",
       "      <th>3</th>\n",
       "      <td>54.0</td>\n",
       "      <td>Female</td>\n",
       "      <td>75.3</td>\n",
       "      <td>1.82</td>\n",
       "      <td>187</td>\n",
       "      <td>169.0</td>\n",
       "      <td>58.0</td>\n",
       "      <td>1.45</td>\n",
       "      <td>628.0</td>\n",
       "      <td>Cardio</td>\n",
       "      <td>31.8</td>\n",
       "      <td>2.4</td>\n",
       "      <td>4.0</td>\n",
       "      <td>1.0</td>\n",
       "      <td>20.37</td>\n",
       "    </tr>\n",
       "    <tr>\n",
       "      <th>4</th>\n",
       "      <td>34.0</td>\n",
       "      <td>Female</td>\n",
       "      <td>52.8</td>\n",
       "      <td>1.74</td>\n",
       "      <td>177</td>\n",
       "      <td>169.0</td>\n",
       "      <td>66.0</td>\n",
       "      <td>1.60</td>\n",
       "      <td>1286.0</td>\n",
       "      <td>Strength</td>\n",
       "      <td>26.4</td>\n",
       "      <td>3.2</td>\n",
       "      <td>4.0</td>\n",
       "      <td>2.0</td>\n",
       "      <td>20.83</td>\n",
       "    </tr>\n",
       "  </tbody>\n",
       "</table>\n",
       "</div>"
      ],
      "text/plain": [
       "    Age  Gender  Weight (kg)  Height (m) Max_BPM  Avg_BPM  Resting_BPM  \\\n",
       "0  34.0  Female         86.7        1.86     174    152.0         74.0   \n",
       "1  26.0  Female         84.7        1.83     166    156.0         73.0   \n",
       "2  22.0    Male         64.8        1.85     187    166.0         64.0   \n",
       "3  54.0  Female         75.3        1.82     187    169.0         58.0   \n",
       "4  34.0  Female         52.8        1.74     177    169.0         66.0   \n",
       "\n",
       "   Session_Duration (hours)  Calories_Burned Workout_Type  Fat_Percentage  \\\n",
       "0                      1.12            712.0     Strength            12.8   \n",
       "1                      1.00            833.0     Strength            27.9   \n",
       "2                      1.24           1678.0       Cardio            28.7   \n",
       "3                      1.45            628.0       Cardio            31.8   \n",
       "4                      1.60           1286.0     Strength            26.4   \n",
       "\n",
       "   Water_Intake (liters)  Workout_Frequency (days/week)  Experience_Level  \\\n",
       "0                    2.4                            5.0               2.0   \n",
       "1                    2.8                            5.0               2.0   \n",
       "2                    1.9                            3.0               2.0   \n",
       "3                    2.4                            4.0               1.0   \n",
       "4                    3.2                            4.0               2.0   \n",
       "\n",
       "     BMI  \n",
       "0  14.31  \n",
       "1  33.49  \n",
       "2  12.73  \n",
       "3  20.37  \n",
       "4  20.83  "
      ]
     },
     "execution_count": 9,
     "metadata": {},
     "output_type": "execute_result"
    }
   ],
   "source": [
    "import pandas as pd\n",
    "\n",
    "df = pd.read_csv('gym_members_exercise_tracking_synthetic_data.csv')\n",
    "df.head()"
   ]
  },
  {
   "cell_type": "code",
   "execution_count": 10,
   "id": "5c60c103-8f24-4d8e-825a-822dacd6af60",
   "metadata": {},
   "outputs": [
    {
     "name": "stdout",
     "output_type": "stream",
     "text": [
      "<class 'pandas.core.frame.DataFrame'>\n",
      "RangeIndex: 1800 entries, 0 to 1799\n",
      "Data columns (total 15 columns):\n",
      " #   Column                         Non-Null Count  Dtype  \n",
      "---  ------                         --------------  -----  \n",
      " 0   Age                            1790 non-null   float64\n",
      " 1   Gender                         1729 non-null   object \n",
      " 2   Weight (kg)                    1778 non-null   float64\n",
      " 3   Height (m)                     1774 non-null   float64\n",
      " 4   Max_BPM                        1779 non-null   object \n",
      " 5   Avg_BPM                        1770 non-null   float64\n",
      " 6   Resting_BPM                    1781 non-null   float64\n",
      " 7   Session_Duration (hours)       1777 non-null   float64\n",
      " 8   Calories_Burned                1777 non-null   float64\n",
      " 9   Workout_Type                   1739 non-null   object \n",
      " 10  Fat_Percentage                 1784 non-null   float64\n",
      " 11  Water_Intake (liters)          1776 non-null   float64\n",
      " 12  Workout_Frequency (days/week)  1742 non-null   float64\n",
      " 13  Experience_Level               1743 non-null   float64\n",
      " 14  BMI                            1770 non-null   float64\n",
      "dtypes: float64(12), object(3)\n",
      "memory usage: 211.1+ KB\n"
     ]
    }
   ],
   "source": [
    "df.info()"
   ]
  },
  {
   "cell_type": "code",
   "execution_count": 11,
   "id": "44a76677-48c8-4b18-afde-e4dc2099bf32",
   "metadata": {},
   "outputs": [],
   "source": [
    "df['Max_BPM'] = df['Max_BPM'].str.extract(r'(\\d+)')\n",
    "df['Workout_Type'] = df['Workout_Type'].str.replace('\\t', '', regex=True)\n",
    "df['Workout_Type'] = df['Workout_Type'].str.replace('\\n', '', regex=True)"
   ]
  },
  {
   "cell_type": "code",
   "execution_count": 12,
   "id": "fbd2c004-38ef-4a07-af6f-d977f5ced907",
   "metadata": {},
   "outputs": [
    {
     "name": "stdout",
     "output_type": "stream",
     "text": [
      "<class 'pandas.core.frame.DataFrame'>\n",
      "RangeIndex: 1800 entries, 0 to 1799\n",
      "Data columns (total 15 columns):\n",
      " #   Column                         Non-Null Count  Dtype  \n",
      "---  ------                         --------------  -----  \n",
      " 0   Age                            1790 non-null   float64\n",
      " 1   Gender                         1729 non-null   object \n",
      " 2   Weight (kg)                    1778 non-null   float64\n",
      " 3   Height (m)                     1774 non-null   float64\n",
      " 4   Max_BPM                        1779 non-null   object \n",
      " 5   Avg_BPM                        1770 non-null   float64\n",
      " 6   Resting_BPM                    1781 non-null   float64\n",
      " 7   Session_Duration (hours)       1777 non-null   float64\n",
      " 8   Calories_Burned                1777 non-null   float64\n",
      " 9   Workout_Type                   1739 non-null   object \n",
      " 10  Fat_Percentage                 1784 non-null   float64\n",
      " 11  Water_Intake (liters)          1776 non-null   float64\n",
      " 12  Workout_Frequency (days/week)  1742 non-null   float64\n",
      " 13  Experience_Level               1743 non-null   float64\n",
      " 14  BMI                            1770 non-null   float64\n",
      "dtypes: float64(12), object(3)\n",
      "memory usage: 211.1+ KB\n"
     ]
    }
   ],
   "source": [
    "df.info()"
   ]
  },
  {
   "cell_type": "code",
   "execution_count": 13,
   "id": "33163bf4-ea7c-4210-bcf9-3ab37c17256b",
   "metadata": {},
   "outputs": [
    {
     "name": "stdout",
     "output_type": "stream",
     "text": [
      "<class 'pandas.core.frame.DataFrame'>\n",
      "RangeIndex: 1800 entries, 0 to 1799\n",
      "Data columns (total 15 columns):\n",
      " #   Column                         Non-Null Count  Dtype  \n",
      "---  ------                         --------------  -----  \n",
      " 0   Age                            1790 non-null   float64\n",
      " 1   Gender                         1729 non-null   object \n",
      " 2   Weight (kg)                    1778 non-null   float64\n",
      " 3   Height (m)                     1774 non-null   float64\n",
      " 4   Max_BPM                        1779 non-null   float64\n",
      " 5   Avg_BPM                        1770 non-null   float64\n",
      " 6   Resting_BPM                    1781 non-null   float64\n",
      " 7   Session_Duration (hours)       1777 non-null   float64\n",
      " 8   Calories_Burned                1777 non-null   float64\n",
      " 9   Workout_Type                   1739 non-null   object \n",
      " 10  Fat_Percentage                 1784 non-null   float64\n",
      " 11  Water_Intake (liters)          1776 non-null   float64\n",
      " 12  Workout_Frequency (days/week)  1742 non-null   float64\n",
      " 13  Experience_Level               1743 non-null   float64\n",
      " 14  BMI                            1770 non-null   float64\n",
      "dtypes: float64(13), object(2)\n",
      "memory usage: 211.1+ KB\n"
     ]
    }
   ],
   "source": [
    "df['Max_BPM'] = pd.to_numeric(df['Max_BPM'])\n",
    "df.info()"
   ]
  },
  {
   "cell_type": "code",
   "execution_count": 14,
   "id": "cc3e2989-08f8-47da-a1e1-7336a2e78361",
   "metadata": {},
   "outputs": [],
   "source": [
    "from sklearn.impute import KNNImputer\n",
    "\n",
    "numeric_data = df.select_dtypes(include=['number'])\n",
    "\n",
    "imputer = KNNImputer(n_neighbors=5)\n",
    "numeric_data_imputed = pd.DataFrame(\n",
    "    imputer.fit_transform(numeric_data), \n",
    "    columns=numeric_data.columns\n",
    ")\n",
    "\n",
    "categorical_data = df.select_dtypes(include=['object'])\n",
    "categorical_data_imputed = categorical_data.apply(lambda col: col.fillna(col.mode()[0]))\n",
    "\n",
    "df_imputed = pd.concat([numeric_data_imputed, categorical_data_imputed], axis=1)"
   ]
  },
  {
   "cell_type": "code",
   "execution_count": 15,
   "id": "95780059-451f-4da2-93fa-f7c5b4dd6cc1",
   "metadata": {},
   "outputs": [
    {
     "name": "stdout",
     "output_type": "stream",
     "text": [
      "<class 'pandas.core.frame.DataFrame'>\n",
      "RangeIndex: 1800 entries, 0 to 1799\n",
      "Data columns (total 15 columns):\n",
      " #   Column                         Non-Null Count  Dtype  \n",
      "---  ------                         --------------  -----  \n",
      " 0   Age                            1800 non-null   float64\n",
      " 1   Weight (kg)                    1800 non-null   float64\n",
      " 2   Height (m)                     1800 non-null   float64\n",
      " 3   Max_BPM                        1800 non-null   float64\n",
      " 4   Avg_BPM                        1800 non-null   float64\n",
      " 5   Resting_BPM                    1800 non-null   float64\n",
      " 6   Session_Duration (hours)       1800 non-null   float64\n",
      " 7   Calories_Burned                1800 non-null   float64\n",
      " 8   Fat_Percentage                 1800 non-null   float64\n",
      " 9   Water_Intake (liters)          1800 non-null   float64\n",
      " 10  Workout_Frequency (days/week)  1800 non-null   float64\n",
      " 11  Experience_Level               1800 non-null   float64\n",
      " 12  BMI                            1800 non-null   float64\n",
      " 13  Gender                         1800 non-null   object \n",
      " 14  Workout_Type                   1800 non-null   object \n",
      "dtypes: float64(13), object(2)\n",
      "memory usage: 211.1+ KB\n"
     ]
    }
   ],
   "source": [
    "df_imputed.info()"
   ]
  },
  {
   "cell_type": "code",
   "execution_count": 16,
   "id": "5e76004f-b65d-438b-b1e7-b364e94856e1",
   "metadata": {},
   "outputs": [],
   "source": [
    "df_imputed['BMI'] =  df_imputed['Weight (kg)'] / df_imputed['Height (m)'] ** 2"
   ]
  },
  {
   "cell_type": "code",
   "execution_count": 17,
   "id": "c90aa97c-2fc5-45a6-ab07-379286cc0dd0",
   "metadata": {
    "scrolled": true
   },
   "outputs": [
    {
     "data": {
      "text/html": [
       "<div>\n",
       "<style scoped>\n",
       "    .dataframe tbody tr th:only-of-type {\n",
       "        vertical-align: middle;\n",
       "    }\n",
       "\n",
       "    .dataframe tbody tr th {\n",
       "        vertical-align: top;\n",
       "    }\n",
       "\n",
       "    .dataframe thead th {\n",
       "        text-align: right;\n",
       "    }\n",
       "</style>\n",
       "<table border=\"1\" class=\"dataframe\">\n",
       "  <thead>\n",
       "    <tr style=\"text-align: right;\">\n",
       "      <th></th>\n",
       "      <th>Age</th>\n",
       "      <th>Weight (kg)</th>\n",
       "      <th>Height (m)</th>\n",
       "      <th>Max_BPM</th>\n",
       "      <th>Avg_BPM</th>\n",
       "      <th>Resting_BPM</th>\n",
       "      <th>Session_Duration (hours)</th>\n",
       "      <th>Calories_Burned</th>\n",
       "      <th>Fat_Percentage</th>\n",
       "      <th>Water_Intake (liters)</th>\n",
       "      <th>Workout_Frequency (days/week)</th>\n",
       "      <th>Experience_Level</th>\n",
       "      <th>BMI</th>\n",
       "      <th>Gender</th>\n",
       "      <th>Workout_Type</th>\n",
       "    </tr>\n",
       "  </thead>\n",
       "  <tbody>\n",
       "    <tr>\n",
       "      <th>0</th>\n",
       "      <td>34.0</td>\n",
       "      <td>86.7</td>\n",
       "      <td>1.86</td>\n",
       "      <td>174.0</td>\n",
       "      <td>152.0</td>\n",
       "      <td>74.0</td>\n",
       "      <td>1.12</td>\n",
       "      <td>712.0</td>\n",
       "      <td>12.8</td>\n",
       "      <td>2.4</td>\n",
       "      <td>5.0</td>\n",
       "      <td>2.0</td>\n",
       "      <td>25.060701</td>\n",
       "      <td>Female</td>\n",
       "      <td>Strength</td>\n",
       "    </tr>\n",
       "    <tr>\n",
       "      <th>1</th>\n",
       "      <td>26.0</td>\n",
       "      <td>84.7</td>\n",
       "      <td>1.83</td>\n",
       "      <td>166.0</td>\n",
       "      <td>156.0</td>\n",
       "      <td>73.0</td>\n",
       "      <td>1.00</td>\n",
       "      <td>833.0</td>\n",
       "      <td>27.9</td>\n",
       "      <td>2.8</td>\n",
       "      <td>5.0</td>\n",
       "      <td>2.0</td>\n",
       "      <td>25.291887</td>\n",
       "      <td>Female</td>\n",
       "      <td>Strength</td>\n",
       "    </tr>\n",
       "    <tr>\n",
       "      <th>2</th>\n",
       "      <td>22.0</td>\n",
       "      <td>64.8</td>\n",
       "      <td>1.85</td>\n",
       "      <td>187.0</td>\n",
       "      <td>166.0</td>\n",
       "      <td>64.0</td>\n",
       "      <td>1.24</td>\n",
       "      <td>1678.0</td>\n",
       "      <td>28.7</td>\n",
       "      <td>1.9</td>\n",
       "      <td>3.0</td>\n",
       "      <td>2.0</td>\n",
       "      <td>18.933528</td>\n",
       "      <td>Male</td>\n",
       "      <td>Cardio</td>\n",
       "    </tr>\n",
       "    <tr>\n",
       "      <th>3</th>\n",
       "      <td>54.0</td>\n",
       "      <td>75.3</td>\n",
       "      <td>1.82</td>\n",
       "      <td>187.0</td>\n",
       "      <td>169.0</td>\n",
       "      <td>58.0</td>\n",
       "      <td>1.45</td>\n",
       "      <td>628.0</td>\n",
       "      <td>31.8</td>\n",
       "      <td>2.4</td>\n",
       "      <td>4.0</td>\n",
       "      <td>1.0</td>\n",
       "      <td>22.732762</td>\n",
       "      <td>Female</td>\n",
       "      <td>Cardio</td>\n",
       "    </tr>\n",
       "    <tr>\n",
       "      <th>4</th>\n",
       "      <td>34.0</td>\n",
       "      <td>52.8</td>\n",
       "      <td>1.74</td>\n",
       "      <td>177.0</td>\n",
       "      <td>169.0</td>\n",
       "      <td>66.0</td>\n",
       "      <td>1.60</td>\n",
       "      <td>1286.0</td>\n",
       "      <td>26.4</td>\n",
       "      <td>3.2</td>\n",
       "      <td>4.0</td>\n",
       "      <td>2.0</td>\n",
       "      <td>17.439556</td>\n",
       "      <td>Female</td>\n",
       "      <td>Strength</td>\n",
       "    </tr>\n",
       "  </tbody>\n",
       "</table>\n",
       "</div>"
      ],
      "text/plain": [
       "    Age  Weight (kg)  Height (m)  Max_BPM  Avg_BPM  Resting_BPM  \\\n",
       "0  34.0         86.7        1.86    174.0    152.0         74.0   \n",
       "1  26.0         84.7        1.83    166.0    156.0         73.0   \n",
       "2  22.0         64.8        1.85    187.0    166.0         64.0   \n",
       "3  54.0         75.3        1.82    187.0    169.0         58.0   \n",
       "4  34.0         52.8        1.74    177.0    169.0         66.0   \n",
       "\n",
       "   Session_Duration (hours)  Calories_Burned  Fat_Percentage  \\\n",
       "0                      1.12            712.0            12.8   \n",
       "1                      1.00            833.0            27.9   \n",
       "2                      1.24           1678.0            28.7   \n",
       "3                      1.45            628.0            31.8   \n",
       "4                      1.60           1286.0            26.4   \n",
       "\n",
       "   Water_Intake (liters)  Workout_Frequency (days/week)  Experience_Level  \\\n",
       "0                    2.4                            5.0               2.0   \n",
       "1                    2.8                            5.0               2.0   \n",
       "2                    1.9                            3.0               2.0   \n",
       "3                    2.4                            4.0               1.0   \n",
       "4                    3.2                            4.0               2.0   \n",
       "\n",
       "         BMI  Gender Workout_Type  \n",
       "0  25.060701  Female     Strength  \n",
       "1  25.291887  Female     Strength  \n",
       "2  18.933528    Male       Cardio  \n",
       "3  22.732762  Female       Cardio  \n",
       "4  17.439556  Female     Strength  "
      ]
     },
     "execution_count": 17,
     "metadata": {},
     "output_type": "execute_result"
    }
   ],
   "source": [
    "df_imputed.head()"
   ]
  },
  {
   "cell_type": "code",
   "execution_count": 18,
   "id": "d54365a3-a3f9-498d-8d6d-b052b65437d1",
   "metadata": {},
   "outputs": [],
   "source": [
    "df_imputed.to_csv('df_imputed.csv')"
   ]
  },
  {
   "cell_type": "code",
   "execution_count": 19,
   "id": "9e5abf1e-e3ad-4fc9-9b2a-daec472769d1",
   "metadata": {},
   "outputs": [
    {
     "data": {
      "image/png": "[encoded data removed]",
      "text/plain": [
       "<Figure size 640x480 with 1 Axes>"
      ]
     },
     "metadata": {},
     "output_type": "display_data"
    }
   ],
   "source": [
    "import matplotlib.pyplot as plt\n",
    "\n",
    "df_imputed.boxplot(column=['Age'])\n",
    "plt.show()"
   ]
  },
  {
   "cell_type": "code",
   "execution_count": null,
   "id": "ae0121ad-3c93-40b6-85d0-917c8d8a1331",
   "metadata": {},
   "outputs": [],
   "source": [
    "df_imputed.boxplot(column=['Weight (kg)'])\n",
    "plt.show()"
   ]
  },
  {
   "cell_type": "code",
   "execution_count": null,
   "id": "4cadf3b1-18bf-4df4-932e-fc3ab559a480",
   "metadata": {},
   "outputs": [],
   "source": [
    "df_imputed.boxplot(column=['Height (m)'])\n",
    "plt.show()"
   ]
  },
  {
   "cell_type": "code",
   "execution_count": null,
   "id": "da6c0f8e-e4cd-4e6e-a71a-7553c52746aa",
   "metadata": {},
   "outputs": [],
   "source": [
    "df_imputed.boxplot(column=['Max_BPM'])\n",
    "plt.show()"
   ]
  },
  {
   "cell_type": "code",
   "execution_count": null,
   "id": "25789994-f611-4988-9697-04834f8bb26c",
   "metadata": {},
   "outputs": [],
   "source": [
    "df_imputed.boxplot(column=['Avg_BPM'])\n",
    "plt.show()"
   ]
  },
  {
   "cell_type": "code",
   "execution_count": null,
   "id": "2acb06db-10cc-4c32-98c0-ac1fe0114e41",
   "metadata": {},
   "outputs": [],
   "source": [
    "df_imputed.boxplot(column=['Resting_BPM'])\n",
    "plt.show()"
   ]
  },
  {
   "cell_type": "code",
   "execution_count": null,
   "id": "ed3f7583-e107-4f1e-a432-98cc85c42a67",
   "metadata": {},
   "outputs": [],
   "source": [
    "df_imputed.boxplot(column=['Session_Duration (hours)'])\n",
    "plt.show()"
   ]
  },
  {
   "cell_type": "code",
   "execution_count": null,
   "id": "8580de7d-38f7-433f-930a-dea6c6cb457e",
   "metadata": {},
   "outputs": [],
   "source": [
    "df_imputed.boxplot(column=['Calories_Burned'])\n",
    "plt.show()"
   ]
  },
  {
   "cell_type": "code",
   "execution_count": null,
   "id": "1e5fc95e-28b3-43c6-ac8f-6127c4a36a48",
   "metadata": {},
   "outputs": [],
   "source": [
    "df_imputed.boxplot(column=['Fat_Percentage'])\n",
    "plt.show()"
   ]
  },
  {
   "cell_type": "code",
   "execution_count": null,
   "id": "e0f10ff8-69ba-4093-908b-9c1f1702c56c",
   "metadata": {},
   "outputs": [],
   "source": [
    "df_imputed.boxplot(column=['Water_Intake (liters)'])\n",
    "plt.show()"
   ]
  },
  {
   "cell_type": "code",
   "execution_count": null,
   "id": "9713440b-3df9-41c0-99fe-93e725994a35",
   "metadata": {},
   "outputs": [],
   "source": [
    "df_imputed.boxplot(column=['Workout_Frequency (days/week)'])\n",
    "plt.show()"
   ]
  },
  {
   "cell_type": "code",
   "execution_count": null,
   "id": "176f5f73-e159-4789-a77f-76704df55b65",
   "metadata": {},
   "outputs": [],
   "source": [
    "df_imputed.boxplot(column=['Experience_Level'])\n",
    "plt.show()"
   ]
  },
  {
   "cell_type": "code",
   "execution_count": null,
   "id": "d62e1121-7cf8-4d20-b663-c6f8e88448db",
   "metadata": {},
   "outputs": [],
   "source": [
    "df_imputed.boxplot(column=['BMI'])\n",
    "plt.show()"
   ]
  },
  {
   "cell_type": "code",
   "execution_count": null,
   "id": "b069bc63-9931-4591-894a-51716369eea8",
   "metadata": {},
   "outputs": [],
   "source": [
    "plt.hist(df_imputed.Gender)\n",
    "plt.show()"
   ]
  },
  {
   "cell_type": "code",
   "execution_count": 20,
   "id": "3820c6f8-8bd2-42ee-9636-e9d268ea04af",
   "metadata": {},
   "outputs": [
    {
     "data": {
      "image/png": "[encoded data removed]",
      "text/plain": [
       "<Figure size 640x480 with 1 Axes>"
      ]
     },
     "metadata": {},
     "output_type": "display_data"
    }
   ],
   "source": [
    "plt.hist(df_imputed.Workout_Type)\n",
    "plt.show()"
   ]
  },
  {
   "cell_type": "code",
   "execution_count": null,
   "id": "f847f71f-38c0-4b5a-a814-a0582213f173",
   "metadata": {},
   "outputs": [],
   "source": []
  }
 ],
 "metadata": {
  "kernelspec": {
   "display_name": "Python 3 (ipykernel)",
   "language": "python",
   "name": "python3"
  },
  "language_info": {
   "codemirror_mode": {
    "name": "ipython",
    "version": 3
   },
   "file_extension": ".py",
   "mimetype": "text/x-python",
   "name": "python",
   "nbconvert_exporter": "python",
   "pygments_lexer": "ipython3",
   "version": "3.10.11"
  }
 },
 "nbformat": 4,
 "nbformat_minor": 5
}
